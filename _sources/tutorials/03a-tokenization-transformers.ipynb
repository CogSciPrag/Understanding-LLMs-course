{
  "cells": [
    {
      "cell_type": "markdown",
      "metadata": {
        "id": "6Axjk0gjPgMz"
      },
      "source": [
        "Sheet 3.1: Tokenization & Transformers\n",
        "==============\n",
        "\n",
        "**Author:** Polina Tsvilodub"
      ]
    },
    {
      "cell_type": "markdown",
      "metadata": {
        "id": "CE-xWChxPgM0"
      },
      "source": [
        "In this sheet, we will focus on two topics: *tokenization*, the process of converting raw text into single tokens which are mapped onto neural-network-friendly numerical representations; and *transformers*, the architecture behind state-of-the-art language models. The learning goals for this sheet are:\n",
        "* understand core steps of tokenization\n",
        "* learn to use state-of-the-art tokenization correctly\n",
        "* learn to build transformers in PyTorch\n",
        "* understand pretrained transformers like GPT-2 which can be loaded from HuggingFace."
      ]
    },
    {
      "cell_type": "markdown",
      "metadata": {
        "id": "8K53jCTRPgM1"
      },
      "source": [
        "## Tokenization\n",
        "\n",
        "Under the hood, neural networks are complicated functions; therefore, they cannot deal with raw text represented as strings, but use numerical representations of the text. This conversion is done by a *tokenizer*, and the process is called *tokenization*. Tokenization commonly consists of the following steps:\n",
        "1. splitting the input text into words, subwords, or symbols (like punctuation) that are called *tokens*\n",
        "2. mapping each token to an integer (or, index)\n",
        "3. adding additional inputs (or, *special tokens*) that may be useful to the model\n",
        "\n",
        "The set of unique tokens of a given tokenizer is often called the *vocabulary*."
      ]
    },
    {
      "cell_type": "markdown",
      "metadata": {
        "id": "10VICcihPgM1"
      },
      "source": [
        "> <strong><span style=&ldquo;color:#D83D2B;&rdquo;>Exercise 3.1.1: Simple tokenization </span></strong>\n",
        ">\n",
        "> We have seen the simplest version explicit version of tokenization in [sheet 2.4](https://cogsciprag.github.io/Understanding-LLMs-course/tutorials/02d-char-level-RNN.html). Here, the \"tokenizer\" is just a simple mapping.\n",
        ">\n",
        "> 1. What are the minimal units, i.e., tokens in sheet 2.4?\n",
        "> 2. What is the range of indices representing tokens in sheet 2.4? I.e., how many different tokens are there?"
      ]
    },
    {
      "cell_type": "markdown",
      "metadata": {
        "id": "JfqNpYnBPgM1"
      },
      "source": [
        "```{toggle}\n",
        "> 1. The minimal unit is 1 ASCII letter.\n",
        "> 2. vocabulary: All ASCII letters (plus tokens [EOS], [SOS]): 60 tokens\n",
        "```"
      ]
    },
    {
      "cell_type": "markdown",
      "metadata": {
        "id": "67wm0hs5PgM2"
      },
      "source": [
        "However, this simple approach has several limitations. Specifically, the vocabulary is very limited and is manually defined a priori. While such an approach may work for simple tasks or very specific domains like predicting names, it is not very useful for dealing with more general texts which may include numbers, emojis, or different languages with different alphabets. Under this simple approach, we wouldn't be able to represent any of these things.\n",
        "\n",
        "To allow for more flexibility but avoid having to manually specify all possible tokens, special tokenization approaches have been developed. The most prominent tokenization algorithm used, e.g., for the GPT models, is the so-called *byte-pair-encoding* (BPE) tokenization. BPE tokenizers are trained, i.e., the can be adjusted on specific texts so as to optimally represent the data.\n",
        "\n",
        "### BPE tokenization\n",
        "\n",
        "Here are the core steps behind BPE tokenization:\n",
        "* Text from the training corpus is normalized. That is, text undergoes general preprocessing like removing unnecessary whitespaces, lower-casing, possibly doing unicode normalization.\n",
        "* Text in the corpus is pre-tokenized. Here, the text is commonly split, e.g., into single words (i.e., by whitespace) and punctuation.\n",
        "* Next, all characters used in the preprocessed text are identified. Special tokens are added (more on these below).\n",
        "* Next, frequencies of pairs of characters in the training corpus are identified. The most frequent pair is then *merged* into a single token, and the frequencies are identified again, now using the merged representation of the identified pair. This is repeated, until a desired vocabulary size is reached.\n",
        "* After training, to tokenize a new text, the learned merge rules are applied to it and the respective tokens are assigned to the text.\n",
        "\n",
        "The important take-aways are:\n",
        "* Tokenizers are training data-dependent. This means, what exactly is represented by single tokens depends on the frequencies of different words and their contexts in the corpus. The size of the vocabulary is determined by the developers.\n",
        "* Same characters or word-pieces can be mapped onto different tokens, depending on their context! For instance, the same word at the beginning or in the middle of a sentence can be represented with different tokens.\n",
        "  \n",
        "If you want to dive deeper into the algorithm, take a look at [this](https://huggingface.co/learn/nlp-course/en/chapter6/5#byte-pair-encoding-tokenization) tutorial. Another common approach is WordPiece tokenization; you can learn more [here](https://huggingface.co/learn/nlp-course/en/chapter6/6)."
      ]
    },
    {
      "cell_type": "markdown",
      "metadata": {
        "id": "AAA9eNyyPgM2"
      },
      "source": [
        "### Special tokens\n",
        "\n",
        "An important aspect of tokenizers are special tokens. They are called \"special\" because they carry special meaning rather than simply representing parts of a text. Common SOTA tokenizers have the following special tokens:\n",
        "* **beginning-of-sequence (BOS)** (or, start-of-sequence, SOS) token: it is prepended to the start of every training sequence, and at inference time, it is used to signal to the LM that text should be predicted. In a sense, it represents a \"signal to act\".\n",
        "   *  Different tokenizers use different strings as BOS. For instance, these could be \"\\<s\\>\", \"|startofsequence|\" or anything thelike.\n",
        "* **end-of-sequence (EOS)** token: it is appended to the end of every training sequence so as to signal to the LM that a text is \"finished\" at a certain point. Thereby the LM learns to predict finite sequences. At inference time, once the LM samples the EOS, it stops generating further tokens.\n",
        "   *  Different tokenizers use different strings as EOS. For instance, these could be \"\\<\\s\\>\", \"|endofsequence|\" or anything thelike.\n",
        "* **pad** token: it is used to make a sequence longer and have a certain number of tokens. This is used for training LMs on batches of sequences. Since each batch of $n$ sequences is represented by a matrix with the dimensions $n \\times m$, each sequence has to have the length of $m$ tokens. If, in fact, it only has less than $m$ tokens, we append pad tokens so that the sequence has $m$ tokens.  \n",
        "   *  The pad token could be, e.g., \"[PAD]\". Sometimes, however, pad tokens are not provided by a pretrained tokenizer. In this case, usually the EOS token is set as the pad token.\n",
        "   *  It is important to note that pad tokens are an \"engineering\" necessity rather than tokens carrying meaning. Therefore, these are often *masked* during training, while other special tokens are not. More on  masking below.\n",
        "   *  We can set the padding side for a tokenizer. It represents on which side of the sequence the pad tokens should be added. For auto-regressive models (i.e., common LMs), the padding side should be on the left. Concretely, a padded sequence should, e.g., look like this: \"[PAD] [PAD] [PAD] Hi there!\"\n",
        "* **unknown (UNK)** token: it is used to represent a character or a part of a sequence which cannot be mapped to known tokens. Under some tokenization approaches (e.g., byte level pair encoding), UNK tokens aren't possible in principle, and therefore, such tokenizers don't have UNK tokens.\n",
        "* **system** tokens: these tokens have been introduced more recently with the introduction of chat-optimized and assistant LMs, and are used to delineate to an LM different types of content. These are, for instance, special tokens which are introduced to delineate system prompts, user inputs, previous model responses, etc (more on prompting and assistants in the next lectures).\n",
        "\n",
        "These special tokens are added to the vocabulary of a tokenizer, i.e., represented by their own token indices.\n",
        "\n",
        "The important take-away is that, in order to get optimal performance of a trained LM, one must use tokenization in the same way as what was used when the model was trained!\n",
        "\n",
        "#### Outlook (optional): EOS tokens\n",
        "Next to the intuitive role of signaling to the LM that a sequence ended, EOS tokens play an important conceptual role. Specifically, it is necessary to define a set of finite strings so as to ensure that the LM represents a valid probability measure over the vocabulary (or, alphabet) ([Du et al., 2022](https://arxiv.org/pdf/2212.10502)). See [these](https://drive.google.com/file/d/1IYgjs0Vf8TPmVW6w4S125j3G5Asatn4f/view) lecture notes for more information."
      ]
    },
    {
      "cell_type": "markdown",
      "metadata": {
        "id": "aRoXqU0IPgM2"
      },
      "source": [
        "### Pretrained tokenizers\n",
        "\n",
        "In practice, as with language models, we don't have to create tokenizers ourselves -- we can download pretrained tokenizers that were created for specific LMs and are shipped with them on HF. We have already used a pretrained tokenizer in the previous sheets under the hood. Below, we take a closer look at the pretrained GPT-2 tokenizer."
      ]
    },
    {
      "cell_type": "code",
      "execution_count": null,
      "metadata": {
        "id": "SFqtkVCqPgM2"
      },
      "outputs": [],
      "source": [
        "# load tokenizer\n",
        "from transformers import AutoTokenizer\n",
        "\n",
        "tokenizer = AutoTokenizer.from_pretrained(\"gpt2\")"
      ]
    },
    {
      "cell_type": "markdown",
      "metadata": {
        "id": "hGoFXxgpPgM3"
      },
      "source": [
        "First, we inspect the configurations of the tokenizer."
      ]
    },
    {
      "cell_type": "code",
      "execution_count": null,
      "metadata": {
        "id": "c9GYpOp9PgM3"
      },
      "outputs": [],
      "source": [
        "print(\"Number of tokens of GPT2 tokenizer\", tokenizer.vocab_size)\n",
        "print(\"GPT2 vocabulary \", list(tokenizer.vocab.items())[:10])"
      ]
    },
    {
      "cell_type": "markdown",
      "metadata": {
        "id": "rdVDrSf1PgM3"
      },
      "source": [
        "The core functionality of the tokenizer is to map strings to token IDs (i.e., encode), and vice versa - map lists of token IDs back to human-readable texts (i.e., decode). By calling the tokenizer, we automatically call the encoding function. Note in the example below that the same word (\"the\") can be mapped onto different tokens, depending on its context."
      ]
    },
    {
      "cell_type": "code",
      "execution_count": null,
      "metadata": {
        "id": "B0gEb0t1PgM3"
      },
      "outputs": [],
      "source": [
        "text1 = \"the quick brown fox jumped over the lazy dog\"\n",
        "enc1 = tokenizer(text1)\n",
        "print(\"Encoded text 1: \", enc1)"
      ]
    },
    {
      "cell_type": "code",
      "execution_count": null,
      "metadata": {
        "id": "YHC2e_QKPgM4"
      },
      "outputs": [],
      "source": [
        "# we look at the single tokens and chek what strings they represent\n",
        "for tok in enc1.input_ids:\n",
        "    print(\"Token: \", tok, \"String: \", tokenizer.decode(tok))"
      ]
    },
    {
      "cell_type": "code",
      "execution_count": null,
      "metadata": {
        "id": "puVG43WcPgM4"
      },
      "outputs": [],
      "source": [
        "# note that often a single token corresponds to only a part of a word\n",
        "# and that the same word in different languages might be represented by different tokens\n",
        "text2 = \"attention is all you need\"\n",
        "enc2 = tokenizer(text2)\n",
        "print(\"Encoded text 2: \", enc2)\n",
        "\n",
        "for tok in enc2.input_ids:\n",
        "    print(\"Token: \", tok, \"String: \", tokenizer.decode(tok))\n",
        "\n",
        "# German text\n",
        "text3 = \"der schnelle braune Fuchs sprang über den faulen Hund\"\n",
        "enc3 = tokenizer(text3)\n",
        "print(\"Encoded text 3: \", enc3)\n",
        "\n",
        "for tok in enc3.input_ids:\n",
        "    print(\"Token: \", tok, \"String: \", tokenizer.decode(tok))"
      ]
    },
    {
      "cell_type": "markdown",
      "metadata": {
        "id": "MHvpmW-KPgM4"
      },
      "source": [
        "> <strong><span style=&ldquo;color:#D83D2B;&rdquo;>Exercise 3.1.2: Pretrained tokenizers</span></strong>\n",
        ">\n",
        "> 1. Inspect the three tokenization related files that are loaded together with the pretrained GPT-2 [here](https://huggingface.co/openai-community/gpt2/tree/main). What do the single files contain?\n",
        "> 2. What kind of special tokens does the GPT-2 tokenizer have? (Hint: use the HF documentation of the respective tokenizer)\n",
        "> 3. Find out what kind of special Llama-2 chat tokens there are (look for `meta-llama/Llama-2-7b-chat-hf` on HF). How should they be used to represent the system prompt and the user input? (Hint: use the HF documentation. You can also find out more about LLama-chat prompting [here](https://huggingface.co/blog/llama2#how-to-prompt-llama-2))"
      ]
    },
    {
      "cell_type": "markdown",
      "metadata": {
        "id": "FljhLUeyPgM4"
      },
      "source": [
        "```{toggle}\n",
        "> 1. First tokenization: Byte-Pair Encoding tokenization. Computes unique set of words used in the corpus, containing all ASCII characters and some Unicode characters plus unknown token. Starts with small vocabulary and adds vocabulary.\\\n",
        "> Second tokenization: WordPiece Tokenization. Each word is initally split by adding a prefix # to all the characters inside the word. Starts with small vocabulary and adds vocabulary.\\\n",
        "score=(freq_of_pair)/(freq_of_first_element×freq_of_second_element)\\\n",
        "> Third tokenization: Unigram Tokenization. Starts with large vocabulary and removes tokens. Apply BPE on a large vocabulary size. Loss computation. How much would the overall loss increase by reducing the symbol?\n",
        "> 2. Our GPT-2-model uses the Byte-Pair Encoding tokenization.\n",
        "> 3. According to the website, a Byte-Pair Encoding tokenization were used with by an implementation from Sentence Piece\n",
        "```"
      ]
    },
    {
      "cell_type": "markdown",
      "metadata": {
        "id": "uRWM7dWGPgM4"
      },
      "source": [
        "After tokenization, each token is mapped onto an *embedding*. As discussed in the lecture, there are different types of embeddings: type-based and contextualized embeddings. In both cases, the token IDs are mapped to vector representations as the first processing step in an LM. For type-based representations, these vectors are already pretrained static embeddings. For contextualized cases, these vectores are passed through the net and only the processed vectors are considered embeddings.\n",
        "\n",
        "The initial mapping is done by creating *one-hot vector* as a representation of each index. These are then multipled with the embedding matrix, which results in embedding representations of each token. These are then further processed."
      ]
    },
    {
      "cell_type": "markdown",
      "metadata": {
        "id": "UD1c2OgoPgM4"
      },
      "source": [
        "#### Attention masks\n",
        "\n",
        "Note that, next to input IDs (i.e., token IDs), the tokenizer encoding returns an attention mask `attention_mask`. The attention mask has the same shape as the input IDs. It is used for training in order to allow the transformer to base its predictions only on certain parts of the input text. Specifically, for causal LMs, attention masks are needed because we can nicely parallelize the training of transformers and process an entire sequence at once (in contrast to RNN training); but we still want to base the predictions only on the preceding part of a sentence.\n",
        "\n",
        "In the widespread HF implementation, the attention mask has a 1 to indicate that the transformer should *attend* to tokens at the particular positions, while a 0 indicates that the transformer should not attend to the given token. The attention mask provided by the tokenizer (or created manually by the user) is further transformed and added to the attention computations. This operation results in \"zero-ing out\" contributions of tokens we don't want to attend to when computing a given token representation, essentially as if they weren't there.\n",
        "\n",
        "**Causal mask**:\n",
        "The attention mask is used to enable *causal* language modeling, i.e., to hide tokens that come *after* a token at a given position that is currently used for training. For training in a transformer in parallel over the entire sentence, the mask is created as a matrix, where each row $i$ represents the correct mask for the $i$-th token. The matrix on the right in the picture shows an example causal attention mask.\n",
        "\n",
        "![img](./pics/03a-masking.png)\n",
        "\n",
        "For more details on how the forward step through a transformer, including attention mask application and positional embedding works, please carefully look at [this](https://medium.com/@jinoo/a-simple-example-of-attention-masking-in-transformer-decoder-a6c66757bc7d) tutorial.\n",
        "\n",
        "If you are curious to see the HF implementation of masking, you can (optionally!) find them for GPT-2 [here](https://github.com/huggingface/transformers/blob/ae54e3c3b18bac0832ad62ea9b896dfd52a09850/src/transformers/models/gpt2/modeling_gpt2.py#L792).\n",
        "\n"
      ]
    },
    {
      "cell_type": "markdown",
      "metadata": {
        "id": "dxMr0G1IPgM4"
      },
      "source": [
        "> <strong><span style=&ldquo;color:#D83D2B;&rdquo;>Exercise 3.1.3: Embeddings & Attention</span></strong>\n",
        ">\n",
        "> 1. Consider the sentence \"The quick fox jumped.\". Write down the causal attention mask that we would use for i=2, i.e,. when training the model to predict the word that comes after \"fox\". Assume word / punctuation-sign level tokenization.\n",
        "> 2. Consider a vocabulary that consists of five tokens. Consider the following embedding matrix with 3-dimensional embeddings:\n",
        "> $$\n",
        "> E =\n",
        "> \\begin{bmatrix}\n",
        ">0.11 & 0.02 & 0.37\\\\\n",
        ">0.56 & 0.89 & 0.41 \\\\\n",
        ">0.60 & 0.89 & 0 \\\\\n",
        "> 0.20 & 1 & 0.62 \\\\\n",
        "> 0.12 & 0.03 & 0.29 \\\\\n",
        ">\\end{bmatrix}\n",
        "> $$\n",
        "> Extract the embedding for the token with the ID 2 (assume 0-indexing). Write down the respective calculation step.\n",
        "> 3. What is a very well known masked LM architecture?"
      ]
    },
    {
      "cell_type": "markdown",
      "metadata": {
        "id": "Lcp-PpLpPgM5"
      },
      "source": [
        "```{toggle}\n",
        "> 1. The attention mask for the sentence \"The quick fox jumped\", predicting word after \"fox\" would be [0 0 1 0 0]\n",
        "> 2. The embedding is to be found in the third line of the embedding matrix: [0.60 0.89 0]\n",
        ">3. BERT\n",
        "```"
      ]
    },
    {
      "cell_type": "markdown",
      "metadata": {
        "id": "nVY_oqksPgM5"
      },
      "source": [
        "The contents of the first part of the sheet were inspired by [this](https://huggingface.co/learn/nlp-course/chapter2/2) tutorial."
      ]
    },
    {
      "cell_type": "markdown",
      "metadata": {
        "id": "39P5Uf4UPgM5"
      },
      "source": [
        "## Transformers\n",
        "\n",
        "In the lecture we have now considered what the transformer architecture actually is under the hood. In this part of the sheet, the formal concepts of the architecture are mapped on their implementation, as provided by the PyTorch library and by HuggingFace within the pre-build and pre-trained models.\n",
        "\n",
        "### PyTorch\n",
        "\n",
        "PyTorch provides a pre-build [transformer](https://pytorch.org/docs/stable/generated/torch.nn.Transformer.html) architecture which allows to specify your desired model via different parameters."
      ]
    },
    {
      "cell_type": "markdown",
      "metadata": {
        "id": "_LDccXz3PgM5"
      },
      "source": [
        "> <strong><span style=&ldquo;color:#D83D2B;&rdquo;>Exercise 3.1.4: Simple transformers in PyTorch</span></strong>\n",
        ">\n",
        "> 1. Write a docstring for the following model class definition. Make sure you can map the parameters of the model onto concepts that were discussed in the lecture."
      ]
    },
    {
      "cell_type": "code",
      "execution_count": 12,
      "metadata": {
        "id": "uzIp3-m6PgM5"
      },
      "outputs": [],
      "source": [
        "# imports\n",
        "import torch.nn as nn\n",
        "import torch\n",
        "import math"
      ]
    },
    {
      "cell_type": "code",
      "execution_count": 13,
      "metadata": {
        "id": "GIzmxQmYPgM5",
        "tags": [
          "hide-cell"
        ]
      },
      "outputs": [],
      "source": [
        "class PositionalEncoding(nn.Module):\n",
        "    \"\"\"\n",
        "    Inject some information about the relative or absolute position of the tokens in the sequence.\n",
        "    The positional encodings have the same dimension as the embeddings, so that the two can be summed.\n",
        "    Here, we use sine and cosine functions of different frequencies.\n",
        "    .. math:\n",
        "        PosEncoder(pos, 2i) = sin(pos/10000^(2i/d_model))\n",
        "        PosEncoder(pos, 2i+1) = cos(pos/10000^(2i/d_model))\n",
        "        where pos is the word position and i is the embed idx\n",
        "    Args\n",
        "    ----\n",
        "        d_model: the embed dim (required).\n",
        "        dropout: the dropout value (default=0.1).\n",
        "        max_len: the max. length of the incoming sequence (default=5000).\n",
        "    Examples:\n",
        "        >>> pos_encoder = PositionalEncoding(d_model)\n",
        "    \"\"\"\n",
        "\n",
        "    def __init__(self, d_model, dropout=0.1, max_len=5000):\n",
        "        super(PositionalEncoding, self).__init__()\n",
        "        self.dropout = nn.Dropout(p=dropout)\n",
        "\n",
        "        pe = torch.zeros(max_len, d_model)\n",
        "        position = torch.arange(0, max_len, dtype=torch.float).unsqueeze(1)\n",
        "        div_term = torch.exp(torch.arange(0, d_model, 2).float() * (-math.log(10000.0) / d_model))\n",
        "        pe[:, 0::2] = torch.sin(position * div_term)\n",
        "        pe[:, 1::2] = torch.cos(position * div_term)\n",
        "        pe = pe.unsqueeze(0).transpose(0, 1)\n",
        "        self.register_buffer('pe', pe)\n",
        "\n",
        "class TransformerModel(nn.Transformer):\n",
        "    \"\"\"\n",
        "    Container module with an encoder-decoder transformer model.\n",
        "    \"\"\"\n",
        "\n",
        "    def __init__(self, ntoken, ninp, nhead, nhid, nlayers, dropout=0.5):\n",
        "        \"\"\"\n",
        "        #### YOUR DOCSTRING HERE #####\n",
        "        \"\"\"\n",
        "        super(TransformerModel, self).__init__(\n",
        "            d_model=ninp,\n",
        "            nhead=nhead,\n",
        "            dim_feedforward=nhid,\n",
        "            num_encoder_layers=nlayers,\n",
        "            num_decoder_layers=nlayers,\n",
        "            dropout=dropout,\n",
        "        )\n",
        "        self.model_type = \"Transformer\"\n",
        "        self.src_mask = None\n",
        "        self.pos_encoder = PositionalEncoding(ninp, dropout)\n",
        "\n",
        "        self.input_emb = nn.Embedding(ntoken, ninp)\n",
        "        self.ninp = ninp"
      ]
    },
    {
      "cell_type": "markdown",
      "metadata": {
        "id": "wY5PS_ERPgM5"
      },
      "source": [
        "> <strong><span style=&ldquo;color:#D83D2B;&rdquo;>Exercise 3.1.5: Simple transformers in PyTorch</span></strong>\n",
        ">\n",
        "> 1. Consider the following transformer model. First, think about the dimensions of the different matrices that are part of the transformer, based on the parameters. Then, check the dimensions of the model instance (you can find a hint for accessing the different parameters of the model below). Does your prediction match the implementation?"
      ]
    },
    {
      "cell_type": "code",
      "execution_count": 14,
      "metadata": {
        "colab": {
          "base_uri": "https://localhost:8080/"
        },
        "id": "wF_BrkWUPgM5",
        "outputId": "0d735a2e-d39c-4451-8d5a-c7d6318a5a0e"
      },
      "outputs": [
        {
          "name": "stderr",
          "output_type": "stream",
          "text": [
            "/usr/local/lib/python3.11/dist-packages/torch/nn/modules/transformer.py:385: UserWarning: enable_nested_tensor is True, but self.use_nested_tensor is False because encoder_layer.self_attn.batch_first was not True(use batch_first for better inference performance)\n",
            "  warnings.warn(\n"
          ]
        }
      ],
      "source": [
        "# instantiate a model\n",
        "# make sure to check that you understand what the single arguments mean -- ideally, add comments to each of them\n",
        "transformer_model = TransformerModel(\n",
        "    128,\n",
        "    32,\n",
        "    1,\n",
        "    64,\n",
        "    3,\n",
        ")"
      ]
    },
    {
      "cell_type": "markdown",
      "metadata": {
        "id": "PeYgnHgtPgM6"
      },
      "source": [
        "```{toggle}\n",
        "transformer_model = TransformerModel(\n",
        "    128, # size of the dictionary of embeddings, ntoken\n",
        "    32, # the size of each embedding vector & d_model of the Positional Encoding, ninp\n",
        "    1, # the number of attention heads\n",
        "    64, # dimensionality of hidden representations after attention application, provided by a linear layer, nhid\n",
        "    3, # the number of layers (for the encoder, and decoder, each), nlayers\n",
        ")\n",
        "```"
      ]
    },
    {
      "cell_type": "code",
      "execution_count": 15,
      "metadata": {
        "colab": {
          "base_uri": "https://localhost:8080/"
        },
        "id": "DubXyTCxPgM6",
        "outputId": "9eefad38-f37f-4be0-c326-8fa52153304f"
      },
      "outputs": [
        {
          "data": {
            "text/plain": [
              "TransformerModel(\n",
              "  (encoder): TransformerEncoder(\n",
              "    (layers): ModuleList(\n",
              "      (0-2): 3 x TransformerEncoderLayer(\n",
              "        (self_attn): MultiheadAttention(\n",
              "          (out_proj): NonDynamicallyQuantizableLinear(in_features=32, out_features=32, bias=True)\n",
              "        )\n",
              "        (linear1): Linear(in_features=32, out_features=64, bias=True)\n",
              "        (dropout): Dropout(p=0.5, inplace=False)\n",
              "        (linear2): Linear(in_features=64, out_features=32, bias=True)\n",
              "        (norm1): LayerNorm((32,), eps=1e-05, elementwise_affine=True)\n",
              "        (norm2): LayerNorm((32,), eps=1e-05, elementwise_affine=True)\n",
              "        (dropout1): Dropout(p=0.5, inplace=False)\n",
              "        (dropout2): Dropout(p=0.5, inplace=False)\n",
              "      )\n",
              "    )\n",
              "    (norm): LayerNorm((32,), eps=1e-05, elementwise_affine=True)\n",
              "  )\n",
              "  (decoder): TransformerDecoder(\n",
              "    (layers): ModuleList(\n",
              "      (0-2): 3 x TransformerDecoderLayer(\n",
              "        (self_attn): MultiheadAttention(\n",
              "          (out_proj): NonDynamicallyQuantizableLinear(in_features=32, out_features=32, bias=True)\n",
              "        )\n",
              "        (multihead_attn): MultiheadAttention(\n",
              "          (out_proj): NonDynamicallyQuantizableLinear(in_features=32, out_features=32, bias=True)\n",
              "        )\n",
              "        (linear1): Linear(in_features=32, out_features=64, bias=True)\n",
              "        (dropout): Dropout(p=0.5, inplace=False)\n",
              "        (linear2): Linear(in_features=64, out_features=32, bias=True)\n",
              "        (norm1): LayerNorm((32,), eps=1e-05, elementwise_affine=True)\n",
              "        (norm2): LayerNorm((32,), eps=1e-05, elementwise_affine=True)\n",
              "        (norm3): LayerNorm((32,), eps=1e-05, elementwise_affine=True)\n",
              "        (dropout1): Dropout(p=0.5, inplace=False)\n",
              "        (dropout2): Dropout(p=0.5, inplace=False)\n",
              "        (dropout3): Dropout(p=0.5, inplace=False)\n",
              "      )\n",
              "    )\n",
              "    (norm): LayerNorm((32,), eps=1e-05, elementwise_affine=True)\n",
              "  )\n",
              "  (pos_encoder): PositionalEncoding(\n",
              "    (dropout): Dropout(p=0.5, inplace=False)\n",
              "  )\n",
              "  (input_emb): Embedding(128, 32)\n",
              ")"
            ]
          },
          "execution_count": 15,
          "metadata": {},
          "output_type": "execute_result"
        }
      ],
      "source": [
        "# print the model\n",
        "transformer_model"
      ]
    },
    {
      "cell_type": "markdown",
      "metadata": {
        "id": "mcWb04WKPgM6"
      },
      "source": [
        "Now, we want to actually look at the single components of the transformer. First, we can use the following code to see what kinds of attributes the different building blocks of the transformer modules have. For this, let's pick the first encoder transformer layer and take a closer look at the self-attention:"
      ]
    },
    {
      "cell_type": "code",
      "execution_count": 16,
      "metadata": {
        "colab": {
          "base_uri": "https://localhost:8080/"
        },
        "id": "PgTrDRIZPgM6",
        "outputId": "5dff47f6-5341-4e56-f635-5ce93fced3c7"
      },
      "outputs": [
        {
          "data": {
            "text/plain": [
              "{'training': True,\n",
              " '_parameters': {'in_proj_weight': Parameter containing:\n",
              "  tensor([[-0.0312, -0.1834, -0.1287,  ...,  0.1895,  0.0819,  0.0848],\n",
              "          [ 0.1660, -0.1292, -0.1827,  ..., -0.1431,  0.0653,  0.0304],\n",
              "          [-0.1083, -0.1754,  0.2046,  ...,  0.0143,  0.0631,  0.1258],\n",
              "          ...,\n",
              "          [-0.2155, -0.1324,  0.0602,  ..., -0.1944, -0.1327, -0.1331],\n",
              "          [-0.0445,  0.1035,  0.0534,  ..., -0.1107,  0.0803,  0.1726],\n",
              "          [-0.1732, -0.0905,  0.0526,  ...,  0.1980, -0.0226,  0.1912]],\n",
              "         requires_grad=True),\n",
              "  'q_proj_weight': None,\n",
              "  'k_proj_weight': None,\n",
              "  'v_proj_weight': None,\n",
              "  'in_proj_bias': Parameter containing:\n",
              "  tensor([0., 0., 0., 0., 0., 0., 0., 0., 0., 0., 0., 0., 0., 0., 0., 0., 0., 0., 0., 0., 0., 0., 0., 0.,\n",
              "          0., 0., 0., 0., 0., 0., 0., 0., 0., 0., 0., 0., 0., 0., 0., 0., 0., 0., 0., 0., 0., 0., 0., 0.,\n",
              "          0., 0., 0., 0., 0., 0., 0., 0., 0., 0., 0., 0., 0., 0., 0., 0., 0., 0., 0., 0., 0., 0., 0., 0.,\n",
              "          0., 0., 0., 0., 0., 0., 0., 0., 0., 0., 0., 0., 0., 0., 0., 0., 0., 0., 0., 0., 0., 0., 0., 0.],\n",
              "         requires_grad=True)},\n",
              " '_buffers': {},\n",
              " '_non_persistent_buffers_set': set(),\n",
              " '_backward_pre_hooks': OrderedDict(),\n",
              " '_backward_hooks': OrderedDict(),\n",
              " '_is_full_backward_hook': None,\n",
              " '_forward_hooks': OrderedDict(),\n",
              " '_forward_hooks_with_kwargs': OrderedDict(),\n",
              " '_forward_hooks_always_called': OrderedDict(),\n",
              " '_forward_pre_hooks': OrderedDict(),\n",
              " '_forward_pre_hooks_with_kwargs': OrderedDict(),\n",
              " '_state_dict_hooks': OrderedDict(),\n",
              " '_state_dict_pre_hooks': OrderedDict(),\n",
              " '_load_state_dict_pre_hooks': OrderedDict(),\n",
              " '_load_state_dict_post_hooks': OrderedDict(),\n",
              " '_modules': {'out_proj': NonDynamicallyQuantizableLinear(in_features=32, out_features=32, bias=True)},\n",
              " 'embed_dim': 32,\n",
              " 'kdim': 32,\n",
              " 'vdim': 32,\n",
              " '_qkv_same_embed_dim': True,\n",
              " 'num_heads': 1,\n",
              " 'dropout': 0.5,\n",
              " 'batch_first': False,\n",
              " 'head_dim': 32,\n",
              " 'bias_k': None,\n",
              " 'bias_v': None,\n",
              " 'add_zero_attn': False}"
            ]
          },
          "execution_count": 16,
          "metadata": {},
          "output_type": "execute_result"
        }
      ],
      "source": [
        "transformer_model.encoder.layers[0].self_attn.__dict__"
      ]
    },
    {
      "cell_type": "markdown",
      "metadata": {
        "id": "Bo7hMjadPgM7"
      },
      "source": [
        "Equipped with the keys to different attributes of the self-attention block, we can closer inspect single components, e.g., the weight matrix:"
      ]
    },
    {
      "cell_type": "code",
      "execution_count": 17,
      "metadata": {
        "colab": {
          "base_uri": "https://localhost:8080/"
        },
        "id": "kktvTSDnPgM7",
        "outputId": "bd3e2095-c931-4935-fdd8-82b7c23d4db0"
      },
      "outputs": [
        {
          "name": "stdout",
          "output_type": "stream",
          "text": [
            "Shape of the encoder self attention matrix (combining, Q, K, V):  torch.Size([96, 32])\n"
          ]
        }
      ],
      "source": [
        "# we can also directly print the shape of a given weight matrix\n",
        "print(\"Shape of the encoder self attention matrix (combining, Q, K, V): \", transformer_model.encoder.layers[0].self_attn.in_proj_weight.shape)"
      ]
    },
    {
      "cell_type": "markdown",
      "metadata": {
        "id": "n0MCmC0bPgM7"
      },
      "source": [
        "In particular, we see that the three matrices that are involved in computing attention scores -- query, key and value matrices, are represented as one matrix. If we wanted to access them separately and, e.g., manually reimplement the attention weight computations, we can split the matrix:"
      ]
    },
    {
      "cell_type": "code",
      "execution_count": 18,
      "metadata": {
        "colab": {
          "base_uri": "https://localhost:8080/"
        },
        "id": "frBLIWVRPgM7",
        "outputId": "cbac631f-b196-4445-f206-13d3bfa332ee"
      },
      "outputs": [
        {
          "name": "stdout",
          "output_type": "stream",
          "text": [
            "Query matrix shape  torch.Size([32, 32])\n",
            "Key matrix shape  torch.Size([32, 32])\n",
            "Value matrix shape  torch.Size([32, 32])\n"
          ]
        }
      ],
      "source": [
        "in_proj_weight = transformer_model.encoder.layers[0].self_attn.in_proj_weight\n",
        "q, k, v = torch.split(in_proj_weight, [32, 32, 32])\n",
        "print(\"Query matrix shape \", q.shape)\n",
        "print(\"Key matrix shape \", k.shape)\n",
        "print(\"Value matrix shape \", v.shape)\n",
        "# Note that if we want to re-compute the attention scores, we need to transpose the matrices"
      ]
    },
    {
      "cell_type": "markdown",
      "metadata": {
        "id": "WwbStFzqPgM7"
      },
      "source": [
        "Feel free to play around with these retrievals to better understand the architecture."
      ]
    },
    {
      "cell_type": "markdown",
      "metadata": {
        "id": "KythbGkGPgM7"
      },
      "source": [
        "### Pretrained transformers\n",
        "\n",
        "Below, we consider in more detail what is under the hood when we load a pretrained transformer from HF. We will look at GPT-2. GPT-2 is a *decoder-only* model. That is, it only uses self-attention and only has a *decoder* block. Under the hood, it also uses the same building blocks as the transformer above, but provides higher-level wrappers around the core functionality and already implements the required configurations that were developed as the GPT-2 architecture."
      ]
    },
    {
      "cell_type": "code",
      "execution_count": 19,
      "metadata": {
        "id": "dufXp7w4PgM7"
      },
      "outputs": [],
      "source": [
        "from transformers import GPT2LMHeadModel"
      ]
    },
    {
      "cell_type": "code",
      "execution_count": 20,
      "metadata": {
        "colab": {
          "base_uri": "https://localhost:8080/"
        },
        "id": "yIZxXCVsPgM8",
        "outputId": "8e4fa2d8-58c8-4c2d-a076-d6e29717d4b1"
      },
      "outputs": [
        {
          "name": "stdout",
          "output_type": "stream",
          "text": [
            "GPT2LMHeadModel(\n",
            "  (transformer): GPT2Model(\n",
            "    (wte): Embedding(50257, 768)\n",
            "    (wpe): Embedding(1024, 768)\n",
            "    (drop): Dropout(p=0.1, inplace=False)\n",
            "    (h): ModuleList(\n",
            "      (0-11): 12 x GPT2Block(\n",
            "        (ln_1): LayerNorm((768,), eps=1e-05, elementwise_affine=True)\n",
            "        (attn): GPT2Attention(\n",
            "          (c_attn): Conv1D(nf=2304, nx=768)\n",
            "          (c_proj): Conv1D(nf=768, nx=768)\n",
            "          (attn_dropout): Dropout(p=0.1, inplace=False)\n",
            "          (resid_dropout): Dropout(p=0.1, inplace=False)\n",
            "        )\n",
            "        (ln_2): LayerNorm((768,), eps=1e-05, elementwise_affine=True)\n",
            "        (mlp): GPT2MLP(\n",
            "          (c_fc): Conv1D(nf=3072, nx=768)\n",
            "          (c_proj): Conv1D(nf=768, nx=3072)\n",
            "          (act): NewGELUActivation()\n",
            "          (dropout): Dropout(p=0.1, inplace=False)\n",
            "        )\n",
            "      )\n",
            "    )\n",
            "    (ln_f): LayerNorm((768,), eps=1e-05, elementwise_affine=True)\n",
            "  )\n",
            "  (lm_head): Linear(in_features=768, out_features=50257, bias=False)\n",
            ")\n"
          ]
        }
      ],
      "source": [
        "# first, we load the pretrained model and inspect it\n",
        "gpt2_lm = GPT2LMHeadModel.from_pretrained(\"gpt2\")\n",
        "\n",
        "print(gpt2_lm)"
      ]
    },
    {
      "cell_type": "code",
      "execution_count": 21,
      "metadata": {
        "colab": {
          "base_uri": "https://localhost:8080/"
        },
        "id": "9ih9iOkcPgM8",
        "outputId": "5d0d2582-9ed0-401f-9576-98cf467b4742"
      },
      "outputs": [
        {
          "data": {
            "text/plain": [
              "{'training': False,\n",
              " '_parameters': {'weight': Parameter containing:\n",
              "  tensor([[-0.4738, -0.2614, -0.0978,  ...,  0.0513, -0.0584,  0.0250],\n",
              "          [ 0.0874,  0.1473,  0.2387,  ..., -0.0525, -0.0113, -0.0156],\n",
              "          [ 0.0039,  0.0695,  0.3668,  ...,  0.1143,  0.0363, -0.0318],\n",
              "          ...,\n",
              "          [-0.2592, -0.0164,  0.1991,  ...,  0.0095, -0.0516,  0.0319],\n",
              "          [ 0.1517,  0.2170,  0.1043,  ...,  0.0293, -0.0429, -0.0475],\n",
              "          [-0.4100, -0.1924, -0.2400,  ..., -0.0046,  0.0070,  0.0198]],\n",
              "         requires_grad=True),\n",
              "  'bias': Parameter containing:\n",
              "  tensor([ 0.4803, -0.5254, -0.4293,  ...,  0.0126, -0.0499,  0.0032],\n",
              "         requires_grad=True)},\n",
              " '_buffers': {},\n",
              " '_non_persistent_buffers_set': set(),\n",
              " '_backward_pre_hooks': OrderedDict(),\n",
              " '_backward_hooks': OrderedDict(),\n",
              " '_is_full_backward_hook': None,\n",
              " '_forward_hooks': OrderedDict(),\n",
              " '_forward_hooks_with_kwargs': OrderedDict(),\n",
              " '_forward_hooks_always_called': OrderedDict(),\n",
              " '_forward_pre_hooks': OrderedDict(),\n",
              " '_forward_pre_hooks_with_kwargs': OrderedDict(),\n",
              " '_state_dict_hooks': OrderedDict(),\n",
              " '_state_dict_pre_hooks': OrderedDict(),\n",
              " '_load_state_dict_pre_hooks': OrderedDict(),\n",
              " '_load_state_dict_post_hooks': OrderedDict(),\n",
              " '_modules': {},\n",
              " 'nf': 2304,\n",
              " 'nx': 768,\n",
              " '_is_hf_initialized': True}"
            ]
          },
          "execution_count": 21,
          "metadata": {},
          "output_type": "execute_result"
        }
      ],
      "source": [
        "gpt2_lm.transformer.h[0].attn.c_attn.__dict__"
      ]
    },
    {
      "cell_type": "markdown",
      "metadata": {
        "id": "Q9tDeDEvPgM9"
      },
      "source": [
        "> <strong><span style=&ldquo;color:#D83D2B;&rdquo;>Exercise 3.1.6: GPT-2 architecture</span></strong>\n",
        ">\n",
        "> 1. What are the dimensions of the embedding layer? What does each dimension represent? How do they relate to the vocabulary size and why is that so?\n",
        "> 2. In order to understand the architecture, for yourself, answer the following questions: (a) how many transformer blocks does GPT-2 consist of? (b) Which layer type is used to compute attention weights? (c) What is the dimension of the resulting contextualized embedding?\n",
        "> 3. Find out the mathematical formula that is used for Layer Normalization that was discussed in the lecture. What does it do? Why do we use it?"
      ]
    },
    {
      "cell_type": "markdown",
      "metadata": {
        "id": "4Qu2c1qaPgM9"
      },
      "source": [
        "We can actually access the single components of the model. Let's inspect the components of the first attention block in more detail. Feel free to play around with the printing to get an intuition how to acccess different parts of the model."
      ]
    },
    {
      "cell_type": "code",
      "execution_count": 22,
      "metadata": {
        "colab": {
          "base_uri": "https://localhost:8080/"
        },
        "id": "_69pB4NGPgM9",
        "outputId": "043762ba-c8ac-43b1-b680-4af50db9df26"
      },
      "outputs": [
        {
          "name": "stdout",
          "output_type": "stream",
          "text": [
            "shape of the attention weights  torch.Size([768, 2304])\n",
            "Attention matrix shape\n"
          ]
        },
        {
          "data": {
            "text/plain": [
              "torch.Size([768, 2304])"
            ]
          },
          "execution_count": 22,
          "metadata": {},
          "output_type": "execute_result"
        }
      ],
      "source": [
        "print(\"shape of the attention weights \", gpt2_lm.transformer.h[0].attn.c_attn.weight.shape)\n",
        "print(\"Attention matrix shape\")\n",
        "# remove .shape to see the full matrix\n",
        "gpt2_lm.transformer.h[0].attn.c_attn.weight.shape"
      ]
    },
    {
      "cell_type": "markdown",
      "metadata": {
        "id": "eUzOlrO0PgM9"
      },
      "source": [
        "## Outlook (optional)\n",
        "\n",
        "For those who want to know more about topics that go beyond the contents of the sheet and the lecture, here are some pointers:\n",
        "* A different task that relies on text generation is image captioning. We have briefly seen it in the context of attention visualization. [This](https://www.cv-foundation.org/openaccess/content_cvpr_2015/papers/Vinyals_Show_and_Tell_2015_CVPR_paper.pdf) paper introduces one of the first successful architectures in this domain.\n",
        "  * How is this architecture related to the encoder-decoder models that we have seen in the lecture? What is similar, what differs?\n",
        "  * Consider [this](https://arxiv.org/pdf/1502.03044) paper which was mentioned in the lecture. What is different in terms of architecture?\n",
        "* [Sentence Transformers](https://sbert.net/index.html): this is a commonly used sentence embedding library.\n",
        "  * For yourself, try to understand the difference of these embeddings to contextualized embeddings that were discussed in the lecture."
      ]
    },
    {
      "cell_type": "markdown",
      "metadata": {
        "id": "rP-ZjmD-PgM9"
      },
      "source": []
    }
  ],
  "metadata": {
    "accelerator": "GPU",
    "colab": {
      "gpuType": "T4",
      "provenance": []
    },
    "kernelspec": {
      "display_name": "Python 3",
      "name": "python3"
    },
    "language_info": {
      "codemirror_mode": {
        "name": "ipython",
        "version": 3
      },
      "file_extension": ".py",
      "mimetype": "text/x-python",
      "name": "python",
      "nbconvert_exporter": "python",
      "pygments_lexer": "ipython3",
      "version": "3.10.14"
    }
  },
  "nbformat": 4,
  "nbformat_minor": 0
}
