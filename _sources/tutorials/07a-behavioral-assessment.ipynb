{
 "cells": [
  {
   "cell_type": "markdown",
   "metadata": {},
   "source": [
    "Sheet 7.1: Behavioral assessment & Evaluation\n",
    "======\n",
    "**Author**: Polina Tsvilodub"
   ]
  },
  {
   "cell_type": "markdown",
   "metadata": {},
   "source": [
    "This sheet focuses on evaluating the input-output (I/O) behavior of LLMs. Inspired by experimental paradigms / the terminology in cognitive science and psychology which investigate a blackbox (the human mind) via looking at the behavior across different interesting conditions (inputs), such assessment of LLMs (also blackboxes) can be called \"behavioral assessment\". This approach can be seen as one piece that should work in combination with attribution methods discussed in the previous sheet in order to provide fuller understanding of what LLMs can or cannot do (I/O testing) and how they do it (attributions). \n",
    "Following the structure of the lecture, we will first look at practical aspects of benchmark testing, and then look at \"machine psychology\", which often draws on the same methods but addresses somewhat different research questions.\n",
    "\n",
    "Therefore, the learning goals of this sheet are:\n",
    "* look at examples of a few different benchmarks and how they are usually constructed\n",
    "* become familiar with standard evaluation metrics and methods used for evaluating LLMs on benchmarks (these include PPL, log probability based scores, accuracy, F1, free generation etc) \n",
    "* look at examples of machine psychology and how, in practice, LLM performance can be easily compared to human data."
   ]
  },
  {
   "cell_type": "markdown",
   "metadata": {},
   "source": [
    "## Benchmark testing\n",
    "\n",
    "Such I/O evaluations are the most common approach to LLM evaluation. Taking a more technical / engineering-oriented perspective which aims at building LLMs for specific application, it is very common to make use of large benchmark datasets which are designed to test models’ performance on a variety of tasks in an automated way. This is often done by checking the models’ outputs against ground truth answers or by computing standard scores for certain datasets. Therefore, quality of LLMs is measured by their scores on these benchmarks. \n",
    "\n",
    "Initially, these benchmarks were designed to test LLMs’ linguistic performance since the goal of building the model is a system that predict grammatical and fluent natural language. Therefore, some first benchmarks (or, commonly used textual datasets) are, for instance, Wikipedia texts, the Penn Treebank, and the GLUE benchmark. Wikipedia texts are often used for measuring the perplexity of the model on this standard text (see below for details). The Penn Treebank was often used for fine-tuning or evaluating models, e.g., on part-of-speech tagging as an approximation of syntactic performance, while the GLUE benchmark contains tasks which are supposed to approximate (semantic) natural language understanding in the form of paraphrase tasks, sentiment classification, natural language inference tasks etc.\n",
    "\n",
    "Now recent LLMs have shown perhaps unexpectedly impressive generalization to tasks which seem to require more than linguistic fluency, like solving math and reasoning problems. Therefore, more recent benchmarks incorporate tests of various tasks going beyond linguistic capability. Two of the most widely used benchmarks include the [MMLU](https://arxiv.org/abs/2009.03300) and the [BIG-Bench](https://arxiv.org/abs/2206.04615) datasets.\n",
    "Given that SOTA LLMs are also often designed as assisstants and embedded in user-facing applications, it also became crucial to evaluate potenital social impacts that LLMs might exhibit with their outputs, like assessing biases and toxicity of the generations. To this end, specialized benchmarks like [RealToxicityPrompts](https://arxiv.org/abs/2009.11462) or [WinoGender](https://arxiv.org/abs/1804.09301) were created.\n",
    "\n",
    "One crucial assumption behind benchmark evaluation is that benchmarks are representative of tasks and covers a wide variety of data that the model should perform well on in order to count as a good model for its target deployment. Although benchmarks arguably provide a wide coverage (they commonly contain thousands of inputs and answers), they often test only an approximation of what the model does in deployment (i.e., free text generation). \n",
    "Furthermore, with newer models trained on newer crawls of the internet, there  are increasing worries of so-called *contamination*, i.e., actually including the test datasets in the training data of the models, thereby potentially inflating the models' true generalization scores. For instance, Wikipedia is included in the training data of most of the modern models. \n",
    "\n",
    "Scalably evaluating longer generated texts is quite a difficult task. This is because, intuitively, there is no single \"ground truth answer\" when it comes to writing; there are many equally good ways of writing summary of a text, or even potentially multiple ways of translating a sentence. This makes text evaluation difficult to evaluate automatically. This is still a largely unsolved issue (!), so that human or machine evaluation is often used. The available methods for automated text scoring are rooted in work on summarization and machine translation, and require (human-written) gold-standard texts. \n",
    "\n",
    "Note that when mentioning a *model* in the explanations, we refer to trained models which are evaluated with respect to their performance, i.e., in *inference mode*. If one wanted to track the performance on certain benchmarks during training, one could also run evaluations on intermediate model checkpoints during training, too. Just note that the model is \"frozen\" and runs in inference mode during all of the testing described in this sheet.\n",
    "\n",
    "In sum, the reasons why benchmarks are so widely used are a few core advantages: \n",
    "* the availability if a few well-known datasets leads to (somewhat of a) standardization of the evaluation procedure across different work. \n",
    "* their large scale often provides high coverage, more reliable results (although coverage might not always mean consistent quality or variability expected, e.g., by linguists). \n",
    "* **crucially**: they are design to be evaluated with easy to compute *automatic evaluation metrics*. You have heard about them in the lecture; we will recap these below and then work with them in practice.\n",
    "\n",
    "### Metrics\n",
    "\n",
    "**Perplexity**: It is computed as:\n",
    "$$PPL_{LM}(x_0 ... x_n) = \\exp(\\frac{1}{n}\\sum_{i=0}^n - \\log P_{LM}(x_i \\mid x_{<i})) $$\n",
    "\n",
    "Note that this is only applicable to causal language models. This is the metric commonly used, e.g., on the Wikipedia texts. For instance, the PPL of GPT-2 on the Penn Treebank dataset is 35.76, while the perplexity of GPT-3 on the same dataset is 20.50. \n",
    "The idea is that an ideal model should have a perplexity as close to 0 as possible for a naturally occurring text that it has learned, thereby approximating good fit to the \"ground truth distribution of natural language\".\n",
    "\n",
    "Below is some code for computing the perplexity of different sizes of GPT-2 for an exerpt from Wkipedia.\n",
    "> <strong><span style=&ldquo;color:#D83D2B;&rdquo;>Exercise 7.1.1: Calculating perplexity</span></strong>\n",
    ">\n",
    "> 1. Please complete the code below. (Hint: only one simple transformation is required in order to calculate the perplexity from the NLL loss)\n",
    "> 2. Compare the results for the models of different sizes. Does their comparison (ordering) match your intuition?"
   ]
  },
  {
   "cell_type": "code",
   "execution_count": null,
   "metadata": {},
   "outputs": [],
   "source": [
    "import torch\n",
    "if torch.cuda.is_available():\n",
    "    device = torch.device('cuda')\n",
    "elif torch.backends.mps.is_available():\n",
    "    device = torch.device(\"mps\")\n",
    "else:\n",
    "    device = torch.device('cpu')"
   ]
  },
  {
   "cell_type": "code",
   "execution_count": null,
   "metadata": {},
   "outputs": [],
   "source": [
    "# perplexity evaluation\n",
    "from datasets import load_dataset\n",
    "import numpy as np\n",
    "from transformers import AutoTokenizer, AutoModelForCausalLM\n",
    "\n",
    "tokenizer = AutoTokenizer.from_pretrained(\"gpt2\")\n",
    "test = load_dataset(\"wikitext\", 'wikitext-2-raw-v1', split=\"test\")\n",
    "\n",
    "input_tokens = tokenizer(\n",
    "    \"\\n\\n\".join(test[\"text\"][:10]), \n",
    "    return_tensors=\"pt\",\n",
    ").input_ids.to(device)\n",
    "\n",
    "# select a part of the text\n",
    "# input_tokens = encodings[:,10:50]\n",
    "\n",
    "# load models of different sizes\n",
    "model_s = AutoModelForCausalLM.from_pretrained(\"gpt2\").to(device)\n",
    "model_xl = AutoModelForCausalLM.from_pretrained(\"gpt2-xl\").to(device)\n",
    "\n",
    "output_s = model_s(input_tokens, labels = input_tokens)\n",
    "output_xl = model_xl(input_tokens, labels = input_tokens)\n",
    "print(\"Average NLL for wikipedia chunk under small model \", output_s.loss.item())\n",
    "print(\"Average NLL for wikipedia chunk under xl model \", output_xl.loss.item())\n",
    "\n",
    "### your code for computing the perplexity goes here ###\n",
    "perplexity_s = np.exp( output_s.loss.item())\n",
    "perplexity_xl = np.exp( output_xl.loss.item())\n",
    "\n",
    "print(f\"PPL of smaller model: {perplexity_s}, PPL of larger model: {perplexity_xl}\")"
   ]
  },
  {
   "cell_type": "markdown",
   "metadata": {},
   "source": [
    "[This](https://huggingface.co/docs/transformers/en/perplexity) blogpost provides an interesting outlook to dealing with the issue of fixed length of the context window of LMs when trying to compute the perplexity of longer texts (e.g., Wikipedia)."
   ]
  },
  {
   "cell_type": "markdown",
   "metadata": {},
   "source": [
    "\n",
    "**Accuracy**: this is a standard metric widely used in many domains, not only NLP. It computes the proportion of correct responses in a set of tasks. Presupposes that there is a single correct answer for a given input. We have seen in the lecture that one way to compute accuracy is to score each answer option, given the input, under the LLM, and retreive the predicted options via $argmax$; i.e., take the option for which the model assigned the highest (log) probability to be the chosen option. If this option is the ground truth option, the model's prediction is correct for this test item (i.e., correctness = 1); otherwise, correctness = 0. Accuracy is then the average correctness across all the test items in the benchmark. The lecture pointed out limitations of the argmax approach. Just as a recap, the underlying assumption is that a model that can perform a task correctly will predict:\n",
    "$$\\log P_{LM}(\\text{correct label} \\mid \\text{context}) >  \\log P_{LM}(\\text{incorrect label} \\mid \\text{context})$$\n",
    "\n",
    "The advantage of this approach is that it makes sure to score only the available answer options under the model, which is an especially important constraint for weaker models. However, SOTA more powerful LLMs, especially if they are instruction-tuned are often also tested via *text generation*. I.e., the input is given with an appropriate instruction, and the model's generated text is evaluated via string matching (e.g., regex of simple matching). If the correct answer option was generated, the model's correctness is 1 for this trial, and 0 otherwise. \n",
    "\n",
    "Below is some code exemplifying evaluating a model on a question answering benchmark CommonsenseQA which we have already used in the homework, via scoring answers under the model. This now provides an automatic implementation of the last task of HW1 / task 2 in HW2. For retrieving conditional log probabilities of different options, given a context, we will be using the package [`minicons`](https://github.com/kanishkamisra/minicons).\n",
    "\n",
    "Note that here we are interested in scoring the different response options, given the questions, under the model, rather prompting the model with a list of possible options and letting it generate the option label. Therefore, the wrangling of the dataset is slightly different than in the homework.\n",
    "\n",
    "> <strong><span style=&ldquo;color:#D83D2B;&rdquo;>Exercise 7.1.2: Calculating accuracy</span></strong>\n",
    ">\n",
    "> 1. Please complete the code below.\n",
    "> 2. Compare the results to your results from the homework. Which are better? Do you think the log probability based evaluation is better than the strategy we used in the homework? Why (not)?\n",
    "> 3. What is the expected chance accuracy on this dataset? Why is it important to consider chance accuracy when interpreting the results of a system?\n",
    "> 4. The lecture mentioned effects of various bias corrections that can be applied to the raw scores. In the code below, by default, a length correction is applied (i.e., average log probabilities are used). use the docs / examples of the minicons package [here](https://github.com/kanishkamisra/minicons/blob/master/examples/surprisals.md) to retrieve \"raw\" log probabilities of the completions (i.e., sums over the token probabilities) and use those to calculate the accuracy. Do the results change?"
   ]
  },
  {
   "cell_type": "code",
   "execution_count": null,
   "metadata": {},
   "outputs": [],
   "source": [
    "# load dataset \n",
    "dataset = load_dataset(\"tau/commonsense_qa\")"
   ]
  },
  {
   "cell_type": "code",
   "execution_count": null,
   "metadata": {},
   "outputs": [],
   "source": [
    "def massage_input_text(example):\n",
    "    \"\"\"\n",
    "    Helper for converting labels, answer options\n",
    "    into a single string.\n",
    "\n",
    "    Arguments\n",
    "    ---------\n",
    "    example: dict\n",
    "        Sample input from the dataset which contains the \n",
    "        question, answer labels (e.g. A, B, C, D),\n",
    "        the answer options for the question, and which \n",
    "        of the answers is correct.\n",
    "    \n",
    "    Returns\n",
    "    -------\n",
    "    answer_options: list[str]\n",
    "        Formatted list of answer options (e.g., 'A. <option 1> B. <option 2>' etc)\n",
    "        and the ground truth answer.\n",
    "    \"\"\"\n",
    "    # combine each label with its corresponding text\n",
    "    answer_options_list = list(zip(\n",
    "        example[\"choices\"][\"label\"],\n",
    "        example[\"choices\"][\"text\"]\n",
    "    ))\n",
    "    # join each label and text with . and space\n",
    "    answer_options = [f\"{label}. {text}\" for label, text in answer_options_list]\n",
    "\n",
    "    return answer_options\n",
    "\n",
    "# process input texts of validation dataset\n",
    "massaged_dataset_val = dataset[\"validation\"].map(\n",
    "    lambda example: {\n",
    "        \"text\": example[\"question\"],\n",
    "        \"answers\": massage_input_text(example),\n",
    "        # get the index of the correct answer\n",
    "        \"label\": example[\"choices\"][\"label\"].index(example[\"answerKey\"])\n",
    "    }\n",
    ")"
   ]
  },
  {
   "cell_type": "code",
   "execution_count": null,
   "metadata": {},
   "outputs": [],
   "source": [
    "massaged_dataset_val[0]"
   ]
  },
  {
   "cell_type": "code",
   "execution_count": null,
   "metadata": {},
   "outputs": [],
   "source": [
    "# iterate over part of the validation set an compute accuracy \n",
    "# (the test set doesn't have ground truth labels)\n",
    "\n",
    "# set up a scorer \n",
    "from minicons import scorer \n",
    "\n",
    "lm_scorer = scorer.IncrementalLMScorer(\n",
    "    'gpt2',\n",
    "    device=device,\n",
    ")\n",
    "# initialize list for storing the correctness of the model predictions\n",
    "correctness = []\n",
    "\n",
    "for i in range(100):\n",
    "    # get the ith example from the validation set\n",
    "    example = massaged_dataset_val[i]\n",
    "    # get the text of the question\n",
    "    question = example['text']\n",
    "    # get the list of answer options\n",
    "    answer_options = example['answers']\n",
    "    # get the ground truth label\n",
    "    label = example['label']\n",
    "    \n",
    "    # pass a list of contexts and a list of continuations to be scored\n",
    "    answer_scores = lm_scorer.conditional_score(\n",
    "        # format the question into a list of same length as the number of answer options\n",
    "        [question] * len(answer_options), \n",
    "        answer_options,\n",
    "    ) \n",
    "    # get the predicted answer (Hint: check above how we determine what the model predicts is the correct answer)\n",
    "    predicted_label = ### YOUR CODE HERE ###\n",
    "    # check if the prediction is correct\n",
    "    is_correct = predicted_label == label\n",
    "    correctness.append(is_correct)\n",
    "\n",
    "# compute the accuracy\n",
    "print(\"Accuracy: \", np.mean(correctness))"
   ]
  },
  {
   "cell_type": "markdown",
   "metadata": {},
   "source": [
    "**F1-score**:\n",
    "\n",
    "This is a score that is commonly used on *binary* tasks (i.e., tasks with only two possible answer options) instead of accuracy. It is calculated from the *precision* and *recall* of the test results.  The precision is the number of true positive results divided by the number of all samples predicted to be positive, including those not identified correctly. The recall is the number of true positive results divided by the number of all samples that should have been identified as positive. Here, positive and negative results refer to predictions in each of the two answer categories, respectively. \n",
    "\n",
    "The F1 score is the harmonic mean of the precision and recall. It thus symmetrically represents both precision and recall in one metric:\n",
    "$$F1 = 2 \\times \\frac{\\text{precision} \\cdot \\text{recall}}{\\text{precision} + \\text{recall}}$$\n",
    "The more generic $F_{\\beta}$ score applies additional weights, valuing one of precision or recall more than the other.\n",
    "The highest possible value of an F-score is 1.0, indicating perfect precision and recall, and the lowest possible value is 0, if precision and recall are zero. \n",
    "\n",
    "We will use the BoolQ dataset from the SuperGLUE benchmark and evaluate GPT-2's performance in terms of F1 scores on it. This is a task wherein the model has to predict an answer (true/false) to a question, given context. Therefore, the positive prediction here will be \"true\", and the negative \"false\".\n",
    "\n",
    "You can find the test dataset [here](https://github.com/CogSciPrag/Understanding-LLMs-course/tree/main/understanding-llms/tutorials/files/super_glue_boolq.csv).\n",
    "We will retrieve the model's predictions similarly to the accuracy evaluation above. Specifically, we will retrieve the probabilities of \"true\" and \"false\", given the context and the question.\n",
    "\n",
    "> <strong><span style=&ldquo;color:#D83D2B;&rdquo;>Exercise 7.1.3: Calculating F1 scores</span></strong>\n",
    ">\n",
    "> 1. Please complete the code below.\n",
    "> 2. Calculate the results. Does GPT-2 do well in this task? \n",
    "> 3. Evaluate the performance of the model using accuracy. What is the conceptual difference between the two results? Which one might be more reliable and why?\n",
    "> 4. Find out how to compute the F1 score with the `sklearn.metrics` package."
   ]
  },
  {
   "cell_type": "code",
   "execution_count": null,
   "metadata": {},
   "outputs": [],
   "source": [
    "import pandas as pd\n",
    "df_boolq = pd.read_csv(\"files/super_glue_boolq.csv\")"
   ]
  },
  {
   "cell_type": "code",
   "execution_count": null,
   "metadata": {},
   "outputs": [],
   "source": [
    "# inspect the dataset to understand its structure\n",
    "# if is_true = 1, it means that the answer to the question is \"True\"\n",
    "df_boolq.head()"
   ]
  },
  {
   "cell_type": "code",
   "execution_count": null,
   "metadata": {},
   "outputs": [],
   "source": [
    "predicted_answer= []\n",
    "true_answers = []\n",
    "\n",
    "for i, r in df_boolq[:200].iterrows():\n",
    "    # get the context for the question\n",
    "    context = r['sentence1']\n",
    "    # get the text of the question\n",
    "    question = r['sentence2']\n",
    "    # construct the list of answer options\n",
    "    answer_options = [\"False\", \"True\"]\n",
    "    # get the ground truth label\n",
    "    true_answer = r[\"is_true\"]\n",
    "    \n",
    "    # pass a list of contexts and a list of continuations to be scored\n",
    "    try:\n",
    "        answer_scores = lm_scorer.conditional_score(\n",
    "            # format the context + question into a list of same length as the number of answer options\n",
    "            [context + \" \" + question + \"?\"] * len(answer_options), \n",
    "            answer_options,\n",
    "        ) \n",
    "    except:\n",
    "        continue\n",
    "    # get the predicted answer (Hint: check above how we determine what the model predicts is the correct answer)\n",
    "    predicted_label = ### YOUR CODE HERE ###\n",
    "    # record the predicted answer\n",
    "    predicted_answer.append(predicted_label)\n",
    "    true_answers.append(true_answer)\n",
    "\n"
   ]
  },
  {
   "cell_type": "code",
   "execution_count": null,
   "metadata": {},
   "outputs": [],
   "source": [
    "# compute the F1 score\n",
    "true_positive = sum([(i == j) & (i == 1) for i, j in zip(predicted_answer, true_answers)])\n",
    "print(\"True positive: \", true_positive)\n",
    "false_positive = sum([(i != j) & (i == 1) for i, j in zip(predicted_answer, true_answers)]) \n",
    "print(\"False positive: \", false_positive)\n",
    "false_negative = sum([(i != j) & (i == 0) for i, j in zip(predicted_answer, true_answers)])\n",
    "f1_score = # YOUR CODE HERE\n",
    "print(\"F1 score: \", f1_score)"
   ]
  },
  {
   "cell_type": "markdown",
   "metadata": {},
   "source": [
    "**NLG metrics**: The lecture discussed the common metrics for generation evaluation: BLEU, ROUGE and METEOR. We already used ROUGE in task 2 of HW 3. These metrics all check whether the predicted text overlaps with ground truth texts. Often different overlap measures are used; for instance, overlaps of unigrams, bigrams or trigrams can be computed. \n",
    "These metrics originate from summarization and machine translation, where corpora of reference human summaries or translations. These are also applied to any other generation tasks, too, as long as reference texts are available. \n",
    "\n",
    "Below is space for trying out the BLEU score, in order to evaluate the translation predicted by FLAN-T5 small. \n",
    "\n",
    "> <strong><span style=&ldquo;color:#D83D2B;&rdquo;>Exercise 7.1.3: Calculating NLG scores</span></strong>\n",
    ">\n",
    "> 1. Please complete the code below by referring to the docs [here](https://huggingface.co/spaces/evaluate-metric/bleu).\n",
    "> 2. Calculate the results. What happens if you change the values of the `max_order` parameter, for this example and in general?\n",
    "> 3. If possible, try this out with a different language pair / a different sentence pair."
   ]
  },
  {
   "cell_type": "code",
   "execution_count": null,
   "metadata": {},
   "outputs": [],
   "source": [
    "# import the implementation of the bleu score computation\n",
    "from torchtext.data.metrics import bleu_score\n",
    "# load model and tokenizer\n",
    "from transformers import T5Tokenizer, T5ForConditionalGeneration\n",
    "import torch\n",
    "\n",
    "tokenizer_t5 = T5Tokenizer.from_pretrained(\"google/flan-t5-small\")\n",
    "model_t5 = T5ForConditionalGeneration.from_pretrained(\"google/flan-t5-small\")\n",
    "\n",
    "# define example sentences for translating from English to German\n",
    "text_en = \"All of the others were of a different opinion.\"\n",
    "text_de = \"Alle anderen waren anderer Meinung.\"\n",
    "# define task \n",
    "prefix = \"Translate to German: \"\n",
    "\n",
    "# encode the source and the target sentences\n",
    "encoding_en = tokenizer_t5(\n",
    "    [prefix + text_en],\n",
    "    return_tensors=\"pt\",\n",
    ").input_ids\n",
    "# we don't need the task prefix before the target\n",
    "encoding_de = tokenizer_t5(\n",
    "    [text_de],\n",
    "    return_tensors=\"pt\",\n",
    ").input_ids\n",
    "\n",
    "# predict with model\n",
    "predicted_de = model_t5.generate(encoding_en)\n",
    "\n",
    "\n",
    "\n",
    "# decode the prediction\n",
    "predicted_decoded_de = tokenizer_t5.decode(\n",
    "    predicted_de[0],\n",
    "    skip_special_tokens=True,\n",
    ")\n",
    "print(\"Predicted translation: \", predicted_decoded_de)\n",
    "\n",
    "# compute BLEU for the prediction\n",
    "### YOUR CODE CALLING THE HELPER ABOVE GOES HERE ###\n",
    "bleu = "
   ]
  },
  {
   "cell_type": "markdown",
   "metadata": {},
   "source": [
    "### Outlook\n",
    "\n",
    "* The log probability based scoring methods are generally only well-defined for causal LMs. However, the work by [Salazar et al. (2019)](https://arxiv.org/abs/1910.14659) introduces a pseudo log likelihood scoring for masked LMs.\n",
    "* The lecture and the sheet have pointed out the diversity in available evaluation methods of LMs, which might raise the natural question for you which method to choose and which one might work best. While this is an open research question, this great paper by [Hu & Levy (2032)](https://aclanthology.org/2023.emnlp-main.306.pdf) provides some insights regarding prompting vs. log probability based methods.\n",
    "* The lecture discussed the topic of *calibration*. There is a whole suite of work addressing calibration from a slightly more performance oriented perspective: the correlation of predicted probabilities of the correct response in multiple choice tasks is compared to the accuracy of the LM on those tasks, which is often put in context of LM's knowledge and confidence about factual information. One influential paper is by [Kadavath et al. (2022) (https://arxiv.org/abs/2207.05221)]."
   ]
  },
  {
   "cell_type": "markdown",
   "metadata": {},
   "source": [
    "## Machine psychology\n",
    "\n",
    "As discussed in the lecture, there is another important perspective on evaluting LLMs that can be called *machine psychology*, which can provide better and more robust evaluation results of LLMs in tandem with benchmark testing.  \n",
    "This approach targets better understanding of different (e.g., emergent) capabilities of LLMs and is often informed by methods from psuchology, linguistics and cognitive science. \n",
    "There are several critical points that this perspective addresses:\n",
    "* The datasets and tests used here are often much more curated and, motivated by best practices of human research, cover diverse conditions related to the same phenomenon and better isolate that phenomenon (in contrast to more generic latge benchmarks).\n",
    "* Studies in this domain may aim to evaluate to what extent LLMs' I/O behavior is *human-like*. This may be relevant, e.g., in user-facing scenarios where the systems are employed.\n",
    "* Finally, studies in this domain might shed light onto long-standing theoretical debates. For instance, recent models have been taken to provide evidence regarding the learnability of grammar from data only (without innate biases). [This opinion paper](https://lingbuzz.net/lingbuzz/007180) provides details on this debate.\n",
    "\n",
    "Importantly, the LLM prediction retrieval methods for investigating machine psychology are often similar or based on the benchmark evaluation methods. The difference often lies in the careful layout of the datasets, the hypotheses, and the overall methods for testing these hypotheses (e.g., supplemented with careful comaprison to human data).\n",
    "\n",
    "\n",
    "The sections below provide some examples of research questions within machine psychology that were mentioned in the lecture, and practical implementations for addressing them.\n",
    "\n",
    "First, we will look at targeted syntactic evaluation of LLMs and address the question of whether GPT-2 is capable of distinguishing grammatical and ungrammatical sentences.\n",
    "> <strong><span style=&ldquo;color:#D83D2B;&rdquo;>Exercise 7.1.4: Machine psychology</span></strong>\n",
    ">\n",
    "> 1. Please complete the code below. (The docs [here](https://github.com/kanishkamisra/minicons/blob/master/examples/surprisals.md) might help)\n",
    "> 2. Compute the results. How would you answer the research question above, based on these results?\n",
    "> 3. What are alternative scores which could be used to test this question? Might any of them be better than the implementation below? Why?"
   ]
  },
  {
   "cell_type": "code",
   "execution_count": null,
   "metadata": {},
   "outputs": [],
   "source": [
    "grammaticality_df = pd.read_csv(\"files/grammaticality_tests.csv\")\n",
    "grammaticality_df"
   ]
  },
  {
   "cell_type": "code",
   "execution_count": null,
   "metadata": {},
   "outputs": [],
   "source": [
    "# iterate over the pairs of sentences and compare the grammatical and ungrammatical sentences\n",
    "grammaticality_predictions = []\n",
    "for i, r in grammaticality_df.iterrows():\n",
    "    # get the grammatical sentence\n",
    "    grammatical_sentence = r[\"grammatical_sentence\"]\n",
    "    # get the ungrammatical sentence\n",
    "    ungrammatical_sentence = r[\"ungrammatical_sentence\"]\n",
    "    # compute sentence log probabilities\n",
    "    grammatical_log_prob = lm_scorer.sequence_score(\n",
    "        ### YOUR CODE HERE ###\n",
    "    )\n",
    "    ungrammatical_log_prob = lm_scorer.sequence_score(\n",
    "        ### YOUR CODE HERE ###\n",
    "    )\n",
    "    # compare the log probabilities\n",
    "    is_grammatical = ### YOUR CODE HERE ###\n",
    "    grammaticality_predictions.append(is_grammatical)\n",
    "    \n",
    "print(\"Accuracy: \", np.mean(grammaticality_predictions))"
   ]
  },
  {
   "cell_type": "markdown",
   "metadata": {},
   "source": [
    "Now, we address a reserach question at the intersection linguistic theory and methodological best practices. Specifically, following [this](https://arxiv.org/abs/2403.00998) paper, we want to understand whether:\n",
    "* LLMs can perform pragmatic language understanding tasks\n",
    "* whether they do so in a human-like way (in terms of mathcing human accuracy)\n",
    "* and whether different ways of retrieving LLM predictions lead to different fits to human data.\n",
    "\n",
    "Specifically, we will focus on the interpretation of *metaphors*. The data from one LLM, namely GPT-3.5-turbo-instruct, and from humans, can be found [here](https://github.com/CogSciPrag/Understanding-LLMs-course/tree/main/understanding-llms/tutorials/files).\n",
    "The human data used in the paper and provided here is taken from the paper by [Hu et al. (2022)](https://aclanthology.org/2023.acl-long.230/).\n",
    "An item in this dataset is a multiple choice task, and looks like this:\n",
    "> Context: Mary was asked about the town that she has just moved to. Mary responded: \"This town is a chimney.\" What does Mary mean?\n",
    "> Answer options: \n",
    "> * The town is not one of the cleanest one. (target nonliteral interpretation)\t\n",
    "> * The people living in this town are very welcoming. (incorrect nonliteral interpretation)\n",
    "> * All houses in this town have chimneys. (incorrect nonliteral interpretation)\n",
    "> * The town is a chimney. (incorrect literal interpretation)\t\n",
    "> * Mary found a job at a company installing chimneys. (incorrect distractor)\n",
    "\n",
    "> <strong><span style=&ldquo;color:#D83D2B;&rdquo;>Exercise 7.1.5: Machine psychology 2</span></strong>\n",
    ">\n",
    "> 1. Please look at the papers and complete the code below. What do the results tell us with respect to our research questions above?"
   ]
  },
  {
   "cell_type": "code",
   "execution_count": null,
   "metadata": {},
   "outputs": [],
   "source": [
    "metaphor_results_gpt = pd.read_csv(\"files/gpt_metaphor_results.csv\")\n",
    "metaphor_results_human = pd.read_csv(\"files/Human_Metaphor.csv\")"
   ]
  },
  {
   "cell_type": "code",
   "execution_count": null,
   "metadata": {},
   "outputs": [],
   "source": [
    "metaphor_results_gpt\n",
    "metaphor_results_human"
   ]
  },
  {
   "cell_type": "markdown",
   "metadata": {},
   "source": [
    "Specifically, the GPT results were computed with different scoring methods which is recorded in the `score` column. First, we are interested in the question which score resulted in the highest accuracy for GPT (whether the prediction for a given item is correct is recorded in the column `target`):"
   ]
  },
  {
   "cell_type": "code",
   "execution_count": null,
   "metadata": {},
   "outputs": [],
   "source": [
    "### YOUR CODE HERE ###"
   ]
  },
  {
   "cell_type": "markdown",
   "metadata": {},
   "source": [
    "Next, we are interested in comparing human and GPT results. Human results contain information whether the participant answered the item correcty in the column `Correct`.\n",
    "There are various ways of comparing the predictions. Following Hu et al (2022), we could compute the correlations of by-item accuracies of GPT and human data. The item IDs can be found in `itemNum` and `item_id`, respectively. One way to compute correlations in Python is documented e.g., [here](https://numpy.org/doc/stable/reference/generated/numpy.corrcoef.html). Furthermore, might want to investigate the correlation separately for the different LLM scoring methods."
   ]
  },
  {
   "cell_type": "code",
   "execution_count": null,
   "metadata": {},
   "outputs": [],
   "source": [
    "#### YOUR CODE HERE ####"
   ]
  },
  {
   "cell_type": "markdown",
   "metadata": {},
   "source": []
  }
 ],
 "metadata": {
  "kernelspec": {
   "display_name": "understanding_llms",
   "language": "python",
   "name": "python3"
  },
  "language_info": {
   "codemirror_mode": {
    "name": "ipython",
    "version": 3
   },
   "file_extension": ".py",
   "mimetype": "text/x-python",
   "name": "python",
   "nbconvert_exporter": "python",
   "pygments_lexer": "ipython3",
   "version": "3.10.14"
  }
 },
 "nbformat": 4,
 "nbformat_minor": 2
}
