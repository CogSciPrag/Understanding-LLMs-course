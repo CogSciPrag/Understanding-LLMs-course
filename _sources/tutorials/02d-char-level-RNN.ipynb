{
 "cells": [
  {
   "cell_type": "markdown",
   "metadata": {},
   "source": [
    "Sheet 2.4: Character-level sequence modeling w/ RNNs\n",
    "====================================================\n",
    "\n",
    "**Author:** Michael Franke\n",
    "\n"
   ]
  },
  {
   "cell_type": "markdown",
   "metadata": {},
   "source": [
    "The goal of this tutorial is to get familiar with simple language models.\n",
    "To be able to have a manageable (quick to train, evaluate, inspect) case study, we look at character-level predictions of surnames from different languages.\n",
    "(The inspiration and source of this notebook is [this tutorial](https://pytorch.org/tutorials/intermediate/char_rnn_generation_tutorial.html) from PyTorch&rsquo;s documentation.)\n",
    "\n"
   ]
  },
  {
   "cell_type": "markdown",
   "metadata": {},
   "source": [
    "## Packages & global parameters\n",
    "\n"
   ]
  },
  {
   "cell_type": "markdown",
   "metadata": {},
   "source": [
    "In addition to the usual packages for neural network modeling, we will also require packages for I/O and string handling.\n",
    "\n"
   ]
  },
  {
   "cell_type": "code",
   "execution_count": 36,
   "metadata": {},
   "outputs": [],
   "source": [
    "##################################################\n",
    "## import packages\n",
    "##################################################\n",
    "\n",
    "from __future__ import unicode_literals, print_function, division\n",
    "import json\n",
    "import pandas\n",
    "import string\n",
    "import torch\n",
    "import urllib.request\n",
    "import numpy as np\n",
    "import torch.nn as nn\n",
    "import random\n",
    "import time\n",
    "import math\n",
    "import matplotlib.pyplot as plt\n",
    "import warnings\n",
    "\n",
    "warnings.filterwarnings(\"ignore\")"
   ]
  },
  {
   "cell_type": "markdown",
   "metadata": {},
   "source": [
    "## Loading & inspecting the data\n",
    "\n"
   ]
  },
  {
   "cell_type": "markdown",
   "metadata": {},
   "source": [
    "Our training data are lists of surnames from different countries.\n",
    "We will use this data set to train a model that predicts a name, given the country as a prompt.\n",
    "\n",
    "The (pre-processed) data is stored in a JSON file.\n",
    "We load it and define a few useful variables for later use.\n",
    "\n"
   ]
  },
  {
   "cell_type": "code",
   "execution_count": 37,
   "metadata": {},
   "outputs": [],
   "source": [
    "\n",
    "##################################################\n",
    "## read and inspect the data\n",
    "##################################################\n",
    "with urllib.request.urlopen(\n",
    "    \"https://raw.githubusercontent.com/michael-franke/npNLG/main/neural_pragmatic_nlg/05-RNNs/names-data.json\"\n",
    ") as url:\n",
    "    names_data = json.load(url)\n",
    "\n",
    "# # local import\n",
    "# with open('names-data.json') as dataFile:\n",
    "#     names_data = json.load(dataFile)\n",
    "\n",
    "categories = list(names_data.keys())\n",
    "n_categories = len(categories)\n",
    "\n",
    "# Use all ASCII letters as vocabulary (plus tokens [EOS], [SOS])\n",
    "all_letters = string.ascii_letters + \" .,;'-\"\n",
    "n_letters = len(all_letters) + 2  # all letter + [EOS] and [SOS]\n",
    "SOSIndex = n_letters - 1\n",
    "EOSIndex = n_letters - 2\n"
   ]
  },
  {
   "cell_type": "markdown",
   "metadata": {},
   "source": [
    "The data consists of two things:\n",
    "a list of strings, called &ldquo;categories&rdquo;, contains all the categories (languages) for which we have data;\n",
    "a dictionary, called &ldquo;names_data&rdquo;, contains a list of names for each category.\n",
    "\n",
    "> <strong><span style=&ldquo;color:#D83D2B;&rdquo;>Exercise 2.4.1: Inspect the data</span></strong>\n",
    ">\n",
    "> 0. [Just for yourself.] Find out what&rsquo;s in the data set. How any different countries do we have? How many names per country? Are all names unique in a given country? Do the names sound typical to your ears for the given countries?\n",
    "\n"
   ]
  },
  {
   "cell_type": "markdown",
   "metadata": {},
   "source": [
    "## Train-test split\n",
    "\n"
   ]
  },
  {
   "cell_type": "markdown",
   "metadata": {},
   "source": [
    "We will split the data into a training and a test set.\n",
    "Look at the code and try to answer the exercise question of how this split is realized.\n",
    "\n"
   ]
  },
  {
   "cell_type": "code",
   "execution_count": 38,
   "metadata": {},
   "outputs": [
    {
     "name": "stdout",
     "output_type": "stream",
     "text": [
      "Czech 519 467 52\n",
      "German 724 652 72\n",
      "Arabic 2000 1800 200\n",
      "Japanese 991 892 99\n",
      "Chinese 268 241 27\n",
      "Vietnamese 73 66 7\n",
      "Russian 9408 8467 941\n",
      "French 277 249 28\n",
      "Irish 232 209 23\n",
      "English 3668 3301 367\n",
      "Spanish 298 268 30\n",
      "Greek 203 183 20\n",
      "Italian 709 638 71\n",
      "Portuguese 74 67 7\n",
      "Scottish 100 90 10\n",
      "Dutch 297 267 30\n",
      "Korean 94 85 9\n",
      "Polish 139 125 14\n"
     ]
    }
   ],
   "source": [
    "##################################################\n",
    "## make a train/test split\n",
    "##################################################\n",
    "\n",
    "train_data = dict()\n",
    "test_data = dict()\n",
    "split_percentage = 10\n",
    "for k in list(names_data.keys()):\n",
    "    total_size = len(names_data[k])\n",
    "    test_size = round(total_size / split_percentage)\n",
    "    train_size = total_size - test_size\n",
    "    print(k, total_size, train_size, test_size)\n",
    "    indices = [i for i in range(total_size)]\n",
    "    random.shuffle(indices)\n",
    "    train_indices = indices[0:train_size]\n",
    "    test_indices = indices[(train_size + 1) : (-1)]\n",
    "    train_data[k] = [names_data[k][i] for i in train_indices]\n",
    "    test_data[k] = [names_data[k][i] for i in test_indices]"
   ]
  },
  {
   "cell_type": "markdown",
   "metadata": {},
   "source": [
    "> <strong><span style=&ldquo;color:#D83D2B;&rdquo;>Exercise 2.4.2: Explain the train-test split</span></strong>\n",
    ">\n",
    "> 1. How is the original data information split into training and test set? (E.g., what amount of data is allocated to each part?; is the split exclusive and exhaustive?; how is it determined which item goes where?)\n",
    "\n"
   ]
  },
  {
   "cell_type": "markdown",
   "metadata": {},
   "source": [
    "## Defining the model\n",
    "\n"
   ]
  },
  {
   "cell_type": "markdown",
   "metadata": {},
   "source": [
    "The model we use is a (hand-crafted) recurrent neural network.\n",
    "The architecture follows [this tutorial](https://pytorch.org/tutorials/intermediate/char_rnn_generation_tutorial.html), from where we also borrow the following picture:\n",
    "\n",
    "![img](./pics/05-RNN-diagram.png){width=550px}\n",
    "\n",
    "The model makes consecutive predictions about the next character.\n",
    "It is conditioned on three vectors:\n",
    "\n",
    "1.  &rsquo;category&rsquo; is a one-hot vector encoding the country\n",
    "2.  &rsquo;input&rsquo; is a one-hot vector encoding the character\n",
    "3.  &rsquo;hidden&rsquo; is the RNN&rsquo;s hidden state (remembering what happened before)\n",
    "\n",
    "These vectors are first combined and then used to produce a next-character probability distribution *and* the hidden state to be fed into the next round of predictions.\n",
    "\n",
    "Next to the usual functions (initialization and forward pass), there is also a function that returns a blank &rsquo;hidden state&rsquo;.\n",
    "This will be used later during training and inference, because at the start of each application (training or inference) the RNN should have a blank memory.\n",
    "(It makes sense to include this function in the definition of the module because it depends on the module&rsquo;s parameters (size of the hidden layer).)\n",
    "\n",
    "Notice that the architecture features a dropout layer, which randomly sets a fixed proportion of units to 0.\n",
    "The inclusion of dropout introduces a random element in the model during training and inference.\n",
    "\n"
   ]
  },
  {
   "cell_type": "code",
   "execution_count": 39,
   "metadata": {},
   "outputs": [],
   "source": [
    "##################################################\n",
    "## define RNN\n",
    "##################################################\n",
    "\n",
    "\n",
    "class RNN(nn.Module):\n",
    "    def __init__(self, input_size, hidden_size, output_size, dropout=0.1):\n",
    "        super(RNN, self).__init__()\n",
    "        self.hidden_size = hidden_size\n",
    "        self.i2h = nn.Linear(n_categories + input_size + hidden_size, hidden_size)\n",
    "        self.i2o = nn.Linear(n_categories + input_size + hidden_size, output_size)\n",
    "        self.o2o = nn.Linear(hidden_size + output_size, output_size)\n",
    "        self.dropout = nn.Dropout(dropout)\n",
    "        self.softmax = nn.LogSoftmax(dim=1)\n",
    "\n",
    "    def forward(self, category, input, hidden):\n",
    "        input_combined = torch.cat((category, input, hidden), 1)\n",
    "        hidden = self.i2h(input_combined)\n",
    "        output = self.i2o(input_combined)\n",
    "        output_combined = torch.cat((hidden, output), 1)\n",
    "        output = self.o2o(output_combined)\n",
    "        output = self.dropout(output)\n",
    "        output = self.softmax(output)\n",
    "        return output, hidden\n",
    "\n",
    "    def init_hidden(self):\n",
    "        return torch.zeros(1, self.hidden_size)"
   ]
  },
  {
   "cell_type": "markdown",
   "metadata": {},
   "source": [
    "> <strong><span style=&ldquo;color:#D83D2B;&rdquo;>Exercise 2.4.3: Inspect the model</span></strong>\n",
    ">\n",
    "> 0. [Just for yourself.] Make sure that you understand the model architecture and its implementation. E.g., do you agree that this code implements the model graph shown above? Can you think of slight alterations to the model which might also work?\n",
    "\n"
   ]
  },
  {
   "cell_type": "markdown",
   "metadata": {},
   "source": [
    "## Helper functions for training\n",
    "\n"
   ]
  },
  {
   "cell_type": "markdown",
   "metadata": {},
   "source": [
    "For training, we will present the model with randomly sampled single items.\n",
    "This is why we define a &rsquo;random_training_pair&rsquo; function which returns, well, a random training pair (category and name).\n",
    "\n"
   ]
  },
  {
   "cell_type": "code",
   "execution_count": 40,
   "metadata": {},
   "outputs": [],
   "source": [
    "##################################################\n",
    "## helper functions for training\n",
    "##################################################\n",
    "\n",
    "\n",
    "# Random item from a list\n",
    "def random_choice(l):\n",
    "    return l[random.randint(0, len(l) - 1)]\n",
    "\n",
    "\n",
    "# Get a random category and random line from that category\n",
    "def random_training_pair():\n",
    "    category = random_choice(categories)\n",
    "    line = random_choice(train_data[category])\n",
    "    return category, line"
   ]
  },
  {
   "cell_type": "markdown",
   "metadata": {},
   "source": [
    "We also need to make sure that the training and test data are in a format that the model understands.\n",
    "So, this is where we use vector representations for the categories and sequences of characters.\n",
    "For sequences of characters we distinguish those used as input to the model (&rsquo;input_tensor&rsquo;) and those used in training as what needs to be predicted (&rsquo;target_tensor&rsquo;).\n",
    "\n"
   ]
  },
  {
   "cell_type": "code",
   "execution_count": 41,
   "metadata": {},
   "outputs": [],
   "source": [
    "# One-hot vector for category\n",
    "def category_tensor(category):\n",
    "    li = categories.index(category)\n",
    "    tensor = torch.zeros(1, n_categories)\n",
    "    tensor[0][li] = 1\n",
    "    return tensor\n",
    "\n",
    "\n",
    "# One-hot matrix of first to last letters (not including [EOS]) for input\n",
    "# The first input is always [SOS]\n",
    "def input_tensor(line):\n",
    "    tensor = torch.zeros(len(line) + 1, 1, n_letters)\n",
    "    tensor[0][0][SOSIndex] = 1\n",
    "    for li in range(len(line)):\n",
    "        letter = line[li]\n",
    "        tensor[li + 1][0][all_letters.find(letter)] = 1\n",
    "    return tensor\n",
    "\n",
    "\n",
    "def target_tensor(line):\n",
    "    letter_indexes = [all_letters.find(line[li]) for li in range(len(line))]\n",
    "    letter_indexes.append(EOSIndex)\n",
    "    return torch.LongTensor(letter_indexes)"
   ]
  },
  {
   "cell_type": "markdown",
   "metadata": {},
   "source": [
    "Finally, we construct a function that returns a random training pair in the proper vectorized format.\n",
    "\n"
   ]
  },
  {
   "cell_type": "code",
   "execution_count": 42,
   "metadata": {},
   "outputs": [],
   "source": [
    "# Make category, input, and target tensors from a random category, line pair\n",
    "def random_training_example():\n",
    "    category, line = random_training_pair()\n",
    "    category_tensor_ = category_tensor(category)\n",
    "    input_line_tensor = input_tensor(line)\n",
    "    target_line_tensor = target_tensor(line)\n",
    "    return category_tensor_, input_line_tensor, target_line_tensor"
   ]
  },
  {
   "cell_type": "markdown",
   "metadata": {},
   "source": [
    "> <strong><span style=&ldquo;color:#D83D2B;&rdquo;>Exercise 2.4.4: Understand the representational format </span></strong>\n",
    ">\n",
    "> 1. Write a doc-string for the function &rsquo;random_training_example&rsquo; that is short but completely explanatory regarding the format and meaning of its output.\n",
    "\n",
    "We use this timing function to keep track of training time:\n",
    "\n"
   ]
  },
  {
   "cell_type": "code",
   "execution_count": 43,
   "metadata": {},
   "outputs": [],
   "source": [
    "def time_since(since):\n",
    "    now = time.time()\n",
    "    s = now - since\n",
    "    m = math.floor(s / 60)\n",
    "    s -= m * 60\n",
    "    return \"%dm %ds\" % (m, s)"
   ]
  },
  {
   "cell_type": "markdown",
   "metadata": {},
   "source": [
    "## Training the network\n",
    "\n"
   ]
  },
  {
   "cell_type": "markdown",
   "metadata": {},
   "source": [
    "This function captures a single training step for one training triplet (category, input representation of the name, output representation of the string).\n",
    "\n",
    "What is important to note here is that at the start of each &ldquo;name&rdquo;, so to speak, we need to supply a fresh &rsquo;hidden layer&rsquo;, but that subsequent calls to the RNN&rsquo;s forward pass function will use the hidden layer that is returned from the previous forward pass.\n",
    "\n"
   ]
  },
  {
   "cell_type": "code",
   "execution_count": 44,
   "metadata": {},
   "outputs": [],
   "source": [
    "##################################################\n",
    "## single training pass\n",
    "##################################################\n",
    "\n",
    "\n",
    "def train(category_tensor, input_line_tensor, target_line_tensor):\n",
    "    # reshape target tensor\n",
    "    target_line_tensor.unsqueeze_(-1)\n",
    "    # get a fresh hidden layer\n",
    "    hidden = rnn.init_hidden()\n",
    "    # reset cumulative loss\n",
    "    optimizer.zero_grad()\n",
    "    loss = 0\n",
    "    # zero the gradients\n",
    "    # sequentially probe predictions and collect loss\n",
    "    for i in range(input_line_tensor.size(0)):\n",
    "        output, hidden = rnn(category_tensor, input_line_tensor[i], hidden)\n",
    "        l = criterion(output, target_line_tensor[i])\n",
    "        loss += l\n",
    "    # perform backward pass\n",
    "    loss.backward()\n",
    "    # perform optimization\n",
    "    optimizer.step()\n",
    "    # return prediction and loss\n",
    "    return loss.item()  # / input_line_tensor.size(0)"
   ]
  },
  {
   "cell_type": "markdown",
   "metadata": {},
   "source": [
    "The actual training process is furthermore not very special.\n",
    "\n"
   ]
  },
  {
   "cell_type": "code",
   "execution_count": 45,
   "metadata": {},
   "outputs": [
    {
     "name": "stdout",
     "output_type": "stream",
     "text": [
      "0m 9s (5000 5%) 19.6658\n",
      "0m 18s (10000 10%) 18.8256\n",
      "0m 26s (15000 15%) 18.4274\n",
      "0m 35s (20000 20%) 18.1675\n",
      "0m 43s (25000 25%) 18.0140\n",
      "0m 52s (30000 30%) 17.8482\n",
      "1m 0s (35000 35%) 17.7381\n",
      "1m 9s (40000 40%) 17.6431\n",
      "1m 18s (45000 45%) 17.5494\n",
      "1m 26s (50000 50%) 17.4842\n",
      "1m 35s (55000 55%) 17.4396\n",
      "1m 44s (60000 60%) 17.3909\n",
      "1m 52s (65000 65%) 17.3364\n",
      "2m 1s (70000 70%) 17.2860\n",
      "2m 10s (75000 75%) 17.2455\n",
      "2m 18s (80000 80%) 17.2208\n",
      "2m 27s (85000 85%) 17.1925\n",
      "2m 35s (90000 90%) 17.1608\n",
      "2m 44s (95000 95%) 17.1264\n",
      "2m 52s (100000 100%) 17.1055\n"
     ]
    }
   ],
   "source": [
    "##################################################\n",
    "## actual training loop\n",
    "## (should take about 2-4 minutes)\n",
    "##################################################\n",
    "\n",
    "# instantiate the model\n",
    "rnn = RNN(n_letters, 128, n_letters)\n",
    "# training objective\n",
    "criterion = nn.NLLLoss()\n",
    "# learning rate\n",
    "learning_rate = 0.0005\n",
    "# optimizer\n",
    "optimizer = torch.optim.Adam(rnn.parameters(), lr=learning_rate)\n",
    "# training parameters\n",
    "n_iters = 100000\n",
    "print_every = 5000\n",
    "plot_every = 500\n",
    "all_losses = []\n",
    "total_loss = 0  # will be reset every 'plot_every' iterations\n",
    "\n",
    "start = time.time()\n",
    "\n",
    "for iter in range(1, n_iters + 1):\n",
    "    loss = train(*random_training_example())\n",
    "    total_loss += loss\n",
    "\n",
    "    if iter % plot_every == 0:\n",
    "        all_losses.append(total_loss / plot_every)\n",
    "        total_loss = 0\n",
    "\n",
    "    if iter % print_every == 0:\n",
    "        rolling_mean = np.mean(all_losses[iter - print_every * (iter // print_every) :])\n",
    "        print(\n",
    "            \"%s (%d %d%%) %.4f\"\n",
    "            % (time_since(start), iter, iter / n_iters * 100, rolling_mean)\n",
    "        )"
   ]
  },
  {
   "cell_type": "markdown",
   "metadata": {},
   "source": [
    "Here is a plot of the temporal development of the model&rsquo;s performance during training:\n",
    "\n"
   ]
  },
  {
   "cell_type": "code",
   "execution_count": 46,
   "metadata": {},
   "outputs": [
    {
     "data": {
      "image/png": "[encoded data removed]",
      "text/plain": [
       "<Figure size 640x480 with 1 Axes>"
      ]
     },
     "metadata": {},
     "output_type": "display_data"
    }
   ],
   "source": [
    "##################################################\n",
    "## monitoring loss function during training\n",
    "##################################################\n",
    "\n",
    "plt.figure()\n",
    "plt.plot(all_losses)\n",
    "plt.show()"
   ]
  },
  {
   "cell_type": "markdown",
   "metadata": {},
   "source": [
    "> <strong><span style=&ldquo;color:#D83D2B;&rdquo;>Exercise 2.4.5: Investigate the training regime </span></strong>\n",
    ">\n",
    "> 1. What exactly is the loss function here? What are we training the model on: perplexity, average surprisal, or yet something else?\n",
    "\n"
   ]
  },
  {
   "cell_type": "markdown",
   "metadata": {},
   "source": [
    "## Evaluation & inference\n",
    "\n"
   ]
  },
  {
   "cell_type": "markdown",
   "metadata": {},
   "source": [
    "Let&rsquo;s see what the model has learned and how well it does in producing new names.\n",
    "\n",
    "Here are some auxiliary functions to obtain surprisal values and related notions for sequences of characters.\n",
    "We can use them to compare the model&rsquo;s performance on the training and test data set.\n",
    "\n"
   ]
  },
  {
   "cell_type": "code",
   "execution_count": 47,
   "metadata": {},
   "outputs": [
    {
     "name": "stdout",
     "output_type": "stream",
     "text": [
      "\n",
      "mean surprisal (test): 18.06200265467764\n",
      "\n",
      "mean surprisal (train): 16.530164374188345\n"
     ]
    }
   ],
   "source": [
    "##################################################\n",
    "## evaluation\n",
    "##################################################\n",
    "\n",
    "\n",
    "def get_surprisal_item(category, name):\n",
    "    category_tensor_ = category_tensor(category)\n",
    "    input_line_tensor = input_tensor(name)\n",
    "    target_line_tensor = target_tensor(name)\n",
    "    hidden = rnn.init_hidden()\n",
    "    surprisal = 0\n",
    "    target_line_tensor.unsqueeze_(-1)\n",
    "\n",
    "    for i in range(input_line_tensor.size(0)):\n",
    "        output, hidden = rnn(category_tensor_, input_line_tensor[i], hidden)\n",
    "        surprisal += criterion(output, target_line_tensor[i])\n",
    "    return surprisal.item()\n",
    "\n",
    "\n",
    "def get_surprisal_dataset(data):\n",
    "    surprisl_dict = dict()\n",
    "    surp_avg_dict = dict()\n",
    "    perplxty_dict = dict()\n",
    "    for category in list(data.keys()):\n",
    "        surprisl = 0\n",
    "        surp_avg = 0\n",
    "        perplxty = 0\n",
    "        # training\n",
    "        for name in data[category]:\n",
    "            item_surpr = get_surprisal_item(category, name)\n",
    "            surprisl += item_surpr\n",
    "            surp_avg += item_surpr / len(name)\n",
    "            perplxty += item_surpr ** (-1 / len(name))\n",
    "        n_items = len(data[category])\n",
    "\n",
    "        surprisl_dict[category] = surprisl / n_items\n",
    "        surp_avg_dict[category] = surp_avg / n_items\n",
    "        perplxty_dict[category] = perplxty / n_items\n",
    "\n",
    "    return (surprisl_dict, surp_avg_dict, perplxty_dict)\n",
    "\n",
    "\n",
    "def make_df(surp_dict):\n",
    "    p = pandas.DataFrame.from_dict(surp_dict)\n",
    "    p = p.transpose()\n",
    "    p.columns = [\"surprisal\", \"surp_scaled\", \"perplexity\"]\n",
    "    return p\n",
    "\n",
    "\n",
    "surprisal_test = make_df(get_surprisal_dataset(test_data))\n",
    "surprisal_train = make_df(get_surprisal_dataset(train_data))\n",
    "\n",
    "print(\"\\nmean surprisal (test):\", np.mean(surprisal_test[\"surprisal\"]))\n",
    "print(\"\\nmean surprisal (train):\", np.mean(surprisal_train[\"surprisal\"]))"
   ]
  },
  {
   "cell_type": "markdown",
   "metadata": {},
   "source": [
    "> <strong><span style=&ldquo;color:#D83D2B;&rdquo;>Exercise 2.4.6: Interpret the evaluation metric </span></strong>\n",
    ">\n",
    "> 1. What do these two last numbers represent? What&rsquo;s better: a higher or lower value? What do the two numbers tell us when we compare them?\n",
    "\n"
   ]
  },
  {
   "cell_type": "markdown",
   "metadata": {},
   "source": [
    "## Inference\n",
    "\n"
   ]
  },
  {
   "cell_type": "markdown",
   "metadata": {},
   "source": [
    "Let&rsquo;s also explore the trained model&rsquo;s predictions to compare them against our own intuitions of what might be typical names in a given country.\n",
    "\n",
    "Here&rsquo;s a function that takes a country and an initial string, and it outputs a model prediction for how to continue that string.\n",
    "\n",
    "Note that for each prediction step with the model, the model is embedded under `torch.no_grad()`. This setting means that gradients are not computed during the forward passes through the model. This setting is recommended for *inference* (for any neural net), i.e., when you don't want to train the model anymore (only use it for generating predictions). This allows to increase computational effiency and save memory. "
   ]
  },
  {
   "cell_type": "code",
   "execution_count": 48,
   "metadata": {},
   "outputs": [
    {
     "name": "stdout",
     "output_type": "stream",
     "text": [
      "Müllen\n",
      "Müllen\n",
      "Müllenger\n",
      "Müllen\n"
     ]
    }
   ],
   "source": [
    "##################################################\n",
    "## prediction function\n",
    "##################################################\n",
    "\n",
    "max_length = 20\n",
    "\n",
    "\n",
    "# make a prediction based on given sequence\n",
    "def predict(category, initial_sequence):\n",
    "\n",
    "    if len(initial_sequence) >= max_length:\n",
    "        return initial_sequence\n",
    "\n",
    "    category_tensor_ = category_tensor(category)\n",
    "    input_line_tensor = input_tensor(initial_sequence)\n",
    "    hidden = rnn.init_hidden()\n",
    "\n",
    "    name = initial_sequence\n",
    "\n",
    "    for i in range(input_line_tensor.size(0)):\n",
    "        with torch.no_grad():\n",
    "            output, hidden = rnn(category_tensor_, input_line_tensor[i], hidden)\n",
    "\n",
    "    # greedy decoding: choosing the most likely guess\n",
    "    topv, topi = output.topk(1)\n",
    "    topi = topi[0][0]\n",
    "\n",
    "    if topi == EOSIndex:\n",
    "        return name\n",
    "    else:\n",
    "        name += all_letters[topi]\n",
    "\n",
    "    return predict(category, name)\n",
    "\n",
    "\n",
    "print(predict(\"German\", \"Müll\"))\n",
    "print(predict(\"German\", \"Müll\"))\n",
    "print(predict(\"German\", \"Müll\"))\n",
    "print(predict(\"German\", \"Müll\"))"
   ]
  },
  {
   "cell_type": "markdown",
   "metadata": {},
   "source": [
    "You can also probe the model with an empty string:\n",
    "\n"
   ]
  },
  {
   "cell_type": "code",
   "execution_count": 49,
   "metadata": {},
   "outputs": [
    {
     "name": "stdout",
     "output_type": "stream",
     "text": [
      "Maka\n",
      "Kana\n",
      "Maka\n",
      "Muka\n"
     ]
    }
   ],
   "source": [
    "print(predict(\"Japanese\", \"\"))\n",
    "print(predict(\"Japanese\", \"\"))\n",
    "print(predict(\"Japanese\", \"\"))\n",
    "print(predict(\"Japanese\", \"\"))"
   ]
  },
  {
   "cell_type": "markdown",
   "metadata": {},
   "source": [
    "> <strong><span style=&ldquo;color:#D83D2B;&rdquo;>Exercise 2.4.7: Explore the model&rsquo;s predictions </span></strong>\n",
    ">\n",
    "> 1. Play around with these prediction functions for a country or several of which you have robust intuitions about how names from that country might sound. Report on one feature that speaks in favor of the model, and one that suggests that the model is not perfect (or seriously flawed).\n",
    ">\n",
    "> 2. Is the prediction function as implemented in this subsection stochastic or not?\n",
    "\n"
   ]
  },
  {
   "cell_type": "markdown",
   "metadata": {},
   "source": [
    "## Inverting the generation model\n",
    "\n"
   ]
  },
  {
   "cell_type": "markdown",
   "metadata": {},
   "source": [
    "The model we have trained here could be consider a **speaker model**: the model generates language (very limited in scope but still).\n",
    "Additionally, the model can be used to probe how likely a particular name would be (as a generated string) for a particular category/country.\n",
    "So, essentially we get something like $P_{S}(name \\mid category)$ as a speaker likelihood function.\n",
    "For instance, we can do this:\n",
    "\n"
   ]
  },
  {
   "cell_type": "code",
   "execution_count": 50,
   "metadata": {},
   "outputs": [
    {
     "name": "stdout",
     "output_type": "stream",
     "text": [
      "13.716519355773926\n",
      "19.072649002075195\n"
     ]
    }
   ],
   "source": [
    "print(get_surprisal_item(\"German\", \"Franke\"))\n",
    "print(get_surprisal_item(\"Arabic\", \"Franke\"))"
   ]
  },
  {
   "cell_type": "markdown",
   "metadata": {},
   "source": [
    "> <strong><span style=&ldquo;color:#D83D2B;&rdquo;>Exercise 2.4.8: Category prediction with Bayes rule </span></strong>\n",
    ">\n",
    "> 1. Use the model as a speaker likelihood function to compute, via Bayes rule, the probability $P(category\\mid name)$ for the names &ldquo;Dovesky&rdquo;, &ldquo;Jackson&rdquo; and &ldquo;Satoshi&rdquo;. Compare the results against those obtained by the RNN-based classifier reported in [this tutorial](https://pytorch.org/tutorials/intermediate/char_rnn_classification_tutorial.html) (all the way at the end).\n",
    "\n"
   ]
  },
  {
   "cell_type": "markdown",
   "metadata": {},
   "source": []
  }
 ],
 "metadata": {
  "kernelspec": {
   "display_name": "npNLG",
   "language": "python",
   "name": "python3"
  },
  "language_info": {
   "codemirror_mode": {
    "name": "ipython",
    "version": 3
   },
   "file_extension": ".py",
   "mimetype": "text/x-python",
   "name": "python",
   "nbconvert_exporter": "python",
   "pygments_lexer": "ipython3",
   "version": "3.10.8"
  },
  "org": null
 },
 "nbformat": 4,
 "nbformat_minor": 4
}
