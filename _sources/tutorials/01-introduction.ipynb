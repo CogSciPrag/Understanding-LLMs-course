{
 "cells": [
  {
   "cell_type": "markdown",
   "metadata": {},
   "source": [
    "# Practical set-up & Training data\n",
    "\n",
    "This page will contains materials for the first tutorial session (April 19th).\n",
    "\n",
    "The learning goals for the first tutorial are:\n",
    "\n",
    "* preparing the Python requirements for practical exercises in the upcoming tutorials,\n",
    "* test-running a few lines of code,\n",
    "* familiarization with a few coding best practices,\n",
    "* understanding key processing steps and terms of the first building block for training any language model -- the training data.\n",
    "\n",
    "**Please try to complete the first block of this tutorial sheet (i.e., installation of requirements) AHEAD of the tutorial session**, ideally, while you have a stable internet connection. This way we can try to solve any problems that might have come up with the installation during the tutorial on Friday."
   ]
  },
  {
   "cell_type": "markdown",
   "metadata": {},
   "source": [
    "## Installing requirements\n",
    "\n",
    "Throughout the semester, we will use Python, PyTorch and various packages for practical work. Both the in-tutorial exercise sheets and homework will require you to execute Python code yourself.\n",
    "Please follow the steps below to set up the requirements (i.e., most packages required for completing exercises) that we will use in the course. We will have to install more packages as we go during the semester, though.\n",
    "\n",
    "You can do so either on your own machine, or by using [Google Colab](https://colab.research.google.com/). You can easily access the latter option by pressing the Colab icon at the top of the webook's page. Depending on your choice, please follow the respective requirement installation steps below."
   ]
  },
  {
   "cell_type": "markdown",
   "metadata": {},
   "source": [
    "### Colab\n",
    "\n",
    "The advantage of using Colab is that you don't need to install software on your own machine; i.e., it is a safer option if you are not very comfortable with using Python on your own machine. Colab is a  platform provided by Google for free, and it also provides limited access to GPU computation (which will be useful fpor working with actual language models). Using it only requires a Google account.\n",
    "\n",
    "For using a GPU on Colab, before executing your code, navigate to Runtime > Change runtime type > GPU > Save. Please note that the provided Colab computational resources are free, so please be mindful when using them. Further, Colab monitors GPU usage, so if it is used a lot very frequently, the user might not be able to access GPU run times for a while. \n",
    "\n",
    "Colab already provides Python as well as a number of basic packages. If you choose to use it, you will only need to install the more specific packages. Note that you will have to so *every time* you open a new Colab runtime. To test that you can access requirements for the class, please open this notebook in Colab (see above), uncomment and run the following line:"
   ]
  },
  {
   "cell_type": "code",
   "execution_count": null,
   "metadata": {},
   "outputs": [],
   "source": [
    "# !pip install torch transformers sentencepiece datasets langchain torchrl llama-index bertviz "
   ]
  },
  {
   "cell_type": "markdown",
   "metadata": {},
   "source": [
    "### Local installation\n",
    "\n",
    "Using your computer for local execution of all practical exercises might be a more advanced option. If you do so, we strongly encourage you to create an environment (e.g., with Conda) before installing any packages. Furthermore, ideally, check if you have a GPU suitable for deep learning because using a GPU will significantly speed up the work with language models. You can do so by checking your computer specs and finding out whether your GPU works with CUDA, MPS or ROCm. If you don't have a suitable GPU, you can use Colab for tasks that require GPU access. Finally, please note that we will download some pretrained models and some datasets which will occupy some of your local storage.\n",
    "\n",
    "If you choose to use your own machine, please do the following steps:\n",
    "* install Python >= 3.9\n",
    "* create an environment (optional but recommended)\n",
    "* download the requirements file [here](https://github.com/CogSciPrag/Understanding-LLMs-course/tree/main/understanding-llms/tutorials/files/requirements.txt)\n",
    "* if you have a deep learning supporting GPU: \n",
    "  * please check [here](https://pytorch.org/get-started/locally/) which PyTorch version you need in order to use the GPU\n",
    "  * please modify the first line of the requirements file to reflect the PyTorch version suitable for your machine\n",
    "  * please install the remaining requirements from the requirements file (e.g., run: `pip install -r requirements.txt` once pip is available in your environment; adjust path to file if needed)\n",
    "* if you do NOT have a deep learning supporting GPU:\n",
    "  * please modify the first line to the requirements file to be: `pytorch`\n",
    "  * please install the requirements from the requirements file (e.g., run: `pip install -r requirements.txt` once pip is available in your environment; adjust path to file if needed)"
   ]
  },
  {
   "cell_type": "markdown",
   "metadata": {},
   "source": [
    "## Verifying requirement installation\n",
    "\n",
    "Stay tuned!"
   ]
  },
  {
   "cell_type": "markdown",
   "metadata": {},
   "source": [
    "## Understanding training data\n",
    "\n",
    "Stay tuned!"
   ]
  },
  {
   "cell_type": "markdown",
   "metadata": {},
   "source": []
  }
 ],
 "metadata": {
  "kernelspec": {
   "display_name": "speakers39",
   "language": "python",
   "name": "speakers39"
  },
  "language_info": {
   "name": "python",
   "version": "3.9.15"
  }
 },
 "nbformat": 4,
 "nbformat_minor": 2
}
