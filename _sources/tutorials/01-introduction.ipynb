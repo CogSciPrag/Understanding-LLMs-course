{
 "cells": [
  {
   "cell_type": "markdown",
   "metadata": {},
   "source": [
    "Sheet 1.1: Practical set-up & Training data\n",
    "========================\n",
    "\n",
    "**Author**: Polina Tsvilodub"
   ]
  },
  {
   "cell_type": "markdown",
   "metadata": {},
   "source": [
    "\n",
    "This page contains materials for the first tutorial session (April 19th).\n",
    "\n",
    "The learning goals for the first tutorial are:\n",
    "\n",
    "* preparing the Python requirements for practical exercises in the upcoming tutorials,\n",
    "* test-running a few lines of code,\n",
    "* familiarization with a few coding best practices,\n",
    "* understanding key processing steps and terms of the first building block for training any language model -- the training data.\n",
    "\n",
    "**Please try to complete the first block of this tutorial sheet (i.e., installation of requirements) AHEAD of the tutorial session**, ideally, while you have a stable internet connection. This way we can try to solve any problems that might have come up with the installation during the tutorial on Friday."
   ]
  },
  {
   "cell_type": "markdown",
   "metadata": {},
   "source": [
    "## Installing requirements\n",
    "\n",
    "Throughout the semester, we will use Python, PyTorch and various packages for practical work. Both the in-tutorial exercise sheets and homework will require you to execute Python code yourself.\n",
    "Please follow the steps below to set up the requirements (i.e., most packages required for completing exercises) that we will use in the course. We will most likely install more packages as we go during the semester, though.\n",
    "\n",
    "You can do so either on your own machine, or by using [Google Colab](https://colab.research.google.com/). You can easily access the latter option by pressing the Colab icon at the top of the webook's page. Depending on your choice, please follow the respective requirement installation steps below."
   ]
  },
  {
   "cell_type": "markdown",
   "metadata": {},
   "source": [
    "### Colab\n",
    "\n",
    "The advantage of using Colab is that you don't need to install software on your own machine; i.e., it is a safer option if you are not very comfortable with using Python on your own machine. Colab is a  platform provided by Google for free, and it also provides limited access to GPU computation (which will be useful for working with language models). Using it only requires a Google account.\n",
    "\n",
    "For using a GPU on Colab, before executing your code, navigate to Runtime > Change runtime type > GPU > Save. Please note that the provided Colab computational resources are free, so please be mindful when using them. Further, Colab monitors GPU usage, so if it is used a lot very frequently, the user might not be able to access GPU run times for a while. \n",
    "\n",
    "Colab already provides Python as well as a number of basic packages. If you choose to use it, you will only need to install the more specific packages. Note that you will have to so *every time* you open a new Colab runtime. To test that you can access requirements for the class, please open this notebook in Colab (see above), uncomment and run the following line:"
   ]
  },
  {
   "cell_type": "code",
   "execution_count": null,
   "metadata": {},
   "outputs": [],
   "source": [
    "# !pip install datasets langchain torchrl llama-index bertviz wikipedia"
   ]
  },
  {
   "cell_type": "markdown",
   "metadata": {},
   "source": [
    "### Local installation\n",
    "\n",
    "Using your computer for local execution of all practical exercises might be a more advanced option. If you do so, we strongly encourage you to create an environment (e.g., with Conda) before installing any packages. Furthermore, ideally, check if you have a GPU suitable for deep learning because using a GPU will significantly speed up the work with language models. You can do so by checking your computer specs and finding out whether your GPU works with CUDA, MPS or ROCm. If you don't have a suitable GPU, you can use Colab for tasks that require GPU access. Finally, please note that we will download some pretrained models and some datasets which will occupy some of your local storage.\n",
    "\n",
    "If you choose to use your own machine, please do the following steps:\n",
    "* install Python >= 3.9\n",
    "* create an environment (optional but recommended)\n",
    "* download the requirements file [here](https://github.com/CogSciPrag/Understanding-LLMs-course/tree/main/understanding-llms/tutorials/files/requirements.txt)\n",
    "* if you have a deep learning supporting GPU: \n",
    "  * please check [here](https://pytorch.org/get-started/locally/) which PyTorch version you need in order to use the GPU\n",
    "  * please modify the first line of the requirements file to reflect the PyTorch version suitable for your machine (if needed)\n",
    "  * please install the requirements from the requirements file (e.g., run: `pip install -r requirements.txt` once pip is available in your environment; adjust path to file if needed)\n",
    "* if you do NOT have a deep learning supporting GPU:\n",
    "  * please install the requirements from the requirements file (e.g., run: `pip install -r requirements.txt` once pip is available in your environment; adjust path to file if needed)"
   ]
  },
  {
   "cell_type": "markdown",
   "metadata": {},
   "source": [
    "## Verifying requirement installation\n",
    "\n",
    "Please run the following code cells to make sure that the key requirements were installed successfully. If errors occur and you cannot solve them ahead of the tutorial, please don't be shy and let us know in the first tutorial!"
   ]
  },
  {
   "cell_type": "code",
   "execution_count": null,
   "metadata": {},
   "outputs": [],
   "source": [
    "# import packages\n",
    "\n",
    "import torch\n",
    "from transformers import AutoTokenizer\n",
    "from langchain.tools import WikipediaQueryRun\n",
    "from langchain_community.utilities import WikipediaAPIWrapper"
   ]
  },
  {
   "cell_type": "code",
   "execution_count": null,
   "metadata": {},
   "outputs": [],
   "source": [
    "# check available computation device\n",
    "# if you have a local GPU or if you are using a GPU on Colab, the following code should return \"CUDA\"\n",
    "# if you are on Mac and have an > M1 chip, the following code should return \"MPS\"\n",
    "# otherwise, it should return \"CPU\"\n",
    "\n",
    "if torch.cuda.is_available():\n",
    "    device = torch.device(\"cuda\")\n",
    "    print(f\"Device: {device}\")\n",
    "elif torch.backends.mps.is_available():\n",
    "    device = torch.device(\"mps\")\n",
    "    print(f\"Device: {device}\")\n",
    "else:\n",
    "    device = torch.device(\"cpu\")\n",
    "    print(f\"Device: {device}\")"
   ]
  },
  {
   "cell_type": "code",
   "execution_count": null,
   "metadata": {},
   "outputs": [],
   "source": [
    "# test PyTorch\n",
    "\n",
    "# randomly initialize a tensor of shape (5, 3)\n",
    "x = torch.rand(5, 3).to(device)\n",
    "print(x)\n",
    "print(\"Shape of tensor x:\", x.shape)\n",
    "print(\"Device of tensor x:\", x.device)\n",
    "\n",
    "# initialize a tensor of shape (5, 3) with ones\n",
    "y = torch.ones(5, 3).to(device)\n",
    "print(y)\n",
    "\n",
    "# multiply x and y in a pointwise manner\n",
    "z = x * y\n",
    "print(z)\n",
    "\n",
    "# note that to do a matrix multiplication between x and y, we need to transpose\n",
    "# either matrix x or y because the inner dimensions must match\n",
    "z1 = x @ y.T\n",
    "print(z1)\n",
    "\n",
    "# or:\n",
    "z2 = x.T @ y\n",
    "print(z2)\n",
    "# and note that the result of z1 and z2 are not the same and have different shapes"
   ]
  },
  {
   "cell_type": "code",
   "execution_count": null,
   "metadata": {},
   "outputs": [],
   "source": [
    "# testing LangChain\n",
    "\n",
    "# run a Wikipedia query, searching for the article \"Attention is all you need\"\n",
    "# NB: requires an internet connection\n",
    "wikipedia = WikipediaQueryRun(api_wrapper=WikipediaAPIWrapper())\n",
    "wikipedia.run(\"Attention is all you need\")"
   ]
  },
  {
   "cell_type": "code",
   "execution_count": null,
   "metadata": {},
   "outputs": [],
   "source": [
    "# testing the package transformers which provides pre-trained language models\n",
    "# and excellent infrastructure around them\n",
    "\n",
    "# download (if not available yet) and load GPT-2 tokenizer\n",
    "tokenizer_gpt2 = AutoTokenizer.from_pretrained(\"gpt2\")\n",
    "text = \"Attention is all you need\"\n",
    "# tokenize the text (i.e., convert the string into a tensor of token IDs)\n",
    "input_ids = tokenizer_gpt2(\n",
    "    text,\n",
    "    return_tensors=\"pt\",\n",
    ").to(device)\n",
    "\n",
    "print(\"Input IDs:\", input_ids)"
   ]
  },
  {
   "cell_type": "markdown",
   "metadata": {},
   "source": [
    "## Best practices for writing code\n",
    "\n",
    "There is a lot of debate around best practices for writing, documenting and formatting Python code and their actual implementation in daily practice, and many people have different personal preferences. We are not committing to a particular side in this debate, but we do care about a few general aspects: \n",
    "* working with clean code \n",
    "* working with understandable code (i.e., commented, with understandable variable names etc)\n",
    "* producing well-documented projects (e.g., supplied with relevant READMEs etc). Think: your work should be structured such that you could look at it in a year and be able to immediately know what you did, how and why.\n",
    "\n",
    "There are a few de facto standard *formatting* practices that help to keep Python code crisp and clean. Please take a look at these and adhere to these as much as you can (as so will we):\n",
    "* [PEP8](https://pep8.org/): style guide for Python code defining e.g., variable naming conventions, how many spaces to use for indentation, how long single lines should be etc.\n",
    "  * Here is an overview [video](https://www.youtube.com/watch?v=D4_s3q038I0) of some of the PEP8 conventions\n",
    "  * There is handy software that reformats your code for you according to some of these conventions. Such software is often seamlessly integrated in IDEs. This includes for instance *Black* or *Ruff* Python formatters. They can be installed as extensions in, e.g., Visual Studio Code.\n",
    "* *docstrings* are comments (strings) that document a specific code object and always directly follow the definition of the object (e.g., directly after `def fct(...)`). They specify the functionality, inputs, outputs and their types. Again, there are slightly different formatting styles for docstrings; please try to be consistent about your formatting. \n",
    "  * One example style of docstrings is [*numpydoc*](https://numpydoc.readthedocs.io/en/latest/format.html#docstring-standard); you might see that the provided code might often use such docstrings."
   ]
  },
  {
   "cell_type": "code",
   "execution_count": null,
   "metadata": {},
   "outputs": [],
   "source": [
    "# example: bad formatting\n",
    "def add(a,b):\n",
    "    return a+b\n",
    "\n",
    "# example: better formatting\n",
    "def add(a, b):\n",
    "    return a + b\n",
    "\n",
    "# example: bad docstring\n",
    "\n",
    "def add(a, b):\n",
    "    \"\"\"a+b\"\"\"\n",
    "    return a + b\n",
    "\n",
    "# example: better docstring\n",
    "def add(a, b):\n",
    "    \"\"\"\n",
    "    Add two numbers.\n",
    "\n",
    "    Args\n",
    "    ----\n",
    "    a: int\n",
    "        First number.\n",
    "    b: int\n",
    "        Second number.\n",
    "\n",
    "    Returns\n",
    "    -------\n",
    "    int: Sum of a and b.\n",
    "    \"\"\"\n",
    "    return a + b"
   ]
  },
  {
   "cell_type": "markdown",
   "metadata": {},
   "source": [
    "There are also some hints regarding structuring larger projects and e.g. GitHub repositories (just fyi):\n",
    "\n",
    "* [project structure](https://djnavarro.net/slides-project-structure/#1)\n",
    "* [writing good READMEs](https://www.freecodecamp.org/news/how-to-write-a-good-readme-file/)\n",
    "* [tidy collaboration and git](https://vimeo.com/412835411)\n",
    "\n",
    "These best practices will be useful to you beyond this class and possibly even beyond your studies when collaborating on other coding projects within teams or even by yourself. We do our best to stick to these guidelines ourselves and kindly urge you to do the same when submitting assignments and possibly projects."
   ]
  },
  {
   "cell_type": "markdown",
   "metadata": {},
   "source": [
    "## Understanding training data\n",
    "\n",
    "One of the critical building blocks of any language model (be it an n-gram model or GPT-4) is the **training data**. The contents of the training data determine, for instance, which tokens (e.g., words) the model \"sees\" during training, how often each of them occurs, which language the model learns, but also which potential *biases* the model might inherit (more on this in lecture 9). \n",
    "\n",
    "The goals of this part of the sheet are: \n",
    "* introduce core terms and concepts that we might be using throughout the class, and that are often used in NLP papers\n",
    "* understand core data processing steps used before training LMs\n",
    "* try hands-on loading a dataset and performing basic preprocessing steps\n",
    "\n",
    "Tasks:\n",
    "* read the sections below, try to understand each concept and ask yourself whether you have already heard it, and if so, in which context\n",
    "* complete the exercises\n",
    "* complete the coding exercises where you can load and process a dataset yourself.\n",
    "\n",
    "### Core concepts\n",
    "\n",
    "* **(training) data / dataset** (in the context of LMs): a collection of text data which is used as input to the LM in order to optimize its parameters, so that, ideally, the model learns to perform well on its target task; that is, to predict fluent text. Anything from a single sentence to a book can be considered data; but since learning statistics of natural language is very difficult, usually very large collections of texts (i.e., very large datasets) are used to train LMs. Generalization to other machine learning models: the type of input data might be different (e.g., images and labels for image classification models) but the purpose is the same. Data and dataset are mostly used interchangeably.\n",
    "  * **corpus** [ling.]: \"A corpus is a collection of pieces of language text in electronic form, selected according to external criteria to represent, as far as possible, a language or language variety as a source of data for linguistic research.\" [source](https://user.phil.hhu.de/~bontcheva/SS10CTCL/CTCL-IntroNotes.pdf) For the purposes of NLP, the term corpus is often used interchangeably with the term dataset, especially when referring to collections of literary texts (e.g., the Books corpus) or when sourced from corpora created in linguistics.\n",
    "    * well-known linguistic corpora are, e.g.: the [Brown corpus](http://icame.uib.no/brown/bcm.html), the British National Corpus [BNC](http://www.natcorp.ox.ac.uk/).\n",
    "  * **test / validation data** (general ML concept): the full dataset is sually split into the *training data* (used to optimize the model), and the held-out *validation data* and *test data* (called dataset splits). Validation data is often used to optimize aspects of the model architecture (so-called hyperparameters like optimizer, drop out rate etc). This split is sometimes ommited if no hyperparameter tuning is done. Test data is then used to assess the model's performance on *unseen* data. That is, it is used to approximately answer the question: How well will my trained model perform on completely new inputs? In the context of LMs, all dataset splits are texts.\n",
    "* **cleaning & preprocessing**: this is the step when \"raw\" data (e.g., from the web) is processed so as to massage the data into a format that is optimal for the NLP task which we want to accomplish. This can include, for instance, removing markup tags, lower-casing data, splitting it into single sentences etc.\n",
    "* **annotation**: this step refers to enriching \"raw\" data with additional information like judgements about the quality of data, \"gold standard\" demonstrations of a task (e.g., gold standard answer to a question) etc, usually provided by humans. This is done generate high-quality training datasets which cannot be obtained otherwise.\n",
    "  * most prominently, human annotation is often used in the process of fine-tuning LLMs with RLHF (more on this in lecture 5).\n",
    "* **token**: minimal unit of text which is mapped onto a numerical representation to be readable for the LM. Different types of tokens have been used: single words, single characters, and recently mostly sub-word parts (and most most recently some experiments with tokens that are large multi-word chunks). Note that unique minimal units are assigned different tokens; whenever such a unit occurs in a particular context, the same numerical representation (i.e., token ID) is assigned to that unit. Therefore, the notion of a token in NLP is not completely equivalent to the notion in lingusitics (and there are no types in NLP as opposed to linguistics).  \n",
    "  * tokenization is the process of converting a string to a list or tensor of tokens. \n",
    "  * part of tokenization for training transformers is also creating *attention masks* which \"mask\" certain tokens for the model (i.e., hide it from the model during training). This is done to train models to predict next words based only on preceding context.\n",
    "  * tokenization will be discussed in more detail in the session of week 3.\n",
    "* **vocabulary**: the set of unique tokens used by a particular LM-tookenizer pair. For example, in case of the Llama-2 model, the vocabulary consists of ~32 000 tokens.\n",
    "* **embedding**: a vector representation of a single token (e.g., word2vec). These vector representations are learned in a way optimizing the next token prediction task and, intuitively, can be understood as approximating (some aspects of) the meaning of a word. \n",
    "* **batch**: a set of input samples (i.e., texts) that is passed through the LM during training simultaneously, in parallel, during one training step, before updating the internal model parameters. The **batch size** refers to the number of input samples in the set. The batch size is a common hyperparameter of the LM architectures and might have a significant effect on set-up requirements (a large batch size requires a lot of memory) and the model performance (because model parameters are updated based on the training signal from the entire batch).\n",
    "* **epoch**: an interation over the entire training dataset. Often a model is trained for several epochs, i.e., training iterates over the training set several times.\n",
    "\n",
    "We will likely extend this list and learn about more important aspects as we go on with the class, but this should already equip you with a good foundation for understanding the parts of the LM literature related to data.\n",
    "\n",
    "### Main training data processing steps\n",
    "\n",
    "Before beginning to train the LM, the following steps are commonly completed:\n",
    "\n",
    "1. acquiring the training data: this step involves downloading or collecting the data of your choice onto the machine which will be used for training. Nowadays many datasets for various tasks can be downloaded from [HuggingFace](https://huggingface.co/datasets) or are made available in GitHub repositories.\n",
    "2. exploring and understanding the dataset: it is important to understand what kinds of texts, from which sources, on which topics, with what sentence length, ... the dataset contains. This is crucial because the model will pick up on features of the dataset in a way that might be difficult to fully anticipate (which is good if the features are, e.g., gramamticality of sentences, but bad if it is toxic language).\n",
    "3. creating the desired combination: nowadays training datasets might consist of a mix of different smaller datasets. See the exercise below for more details.\n",
    "4. cleaning: this step involves filtering out or converting non-machine readable or undesired characters, often lower-casing, removal of punctuation or digits or so-called stop-words (very common words like \"a\", \"and\"). However, the last three steps are not very common any more for state-of-the-art LLM training.\n",
    "   * Specifically, the last cleaning steps have been introduced for tasks like, e.g., sentiment classification. Arguably, stopwords and punctuation etc probably don't contribute much task-relevant information, but might rather introduce encoding difficulties. On the other hand, for natural language generation, punctuation, all words as well as other symbols like emojis carry valuable information. Therefore, such preprocessing is not common for LM training.\n",
    "5. splitting the dataset into train, validation, test splits\n",
    "6. prepairing the training split: training texts are often shuffled and sometimes split into shorter texts. Specifically, splitting is required if the length of a text exceeds the maximal *context window size* of the transformer model (i.e., the maximal number of tokens a model can process). In this case, texts are often split into shorter slightly overlapping chunks.\n",
    "7. tokenizing: converting the single texts into lists of tokens, i.e., into lists of numerical IDs. More on tokenization in the session of week 3.\n",
    "8. batching: to speed up training, the model is often fed multiple texts at the same time (i.e., at each training step). To create these batches, often additional steps are needed to ensure that several tokenized texts (i.e., several lists with token IDs) can be represented as one input tensor. These steps are either restricting texts to a maximal common length (and cutting off the rest) or *padding* all the texts to the same length. More on this in the tokenization session.\n",
    "\n",
    "[This article](https://www.geeksforgeeks.org/natural-language-processing-nlp-pipeline/) provides a great and more detailed overview of the steps 1-4 and provides insights into traditional approaches (e.g., feature engineering) which are more common for task-specific models than for foundation language models."
   ]
  },
  {
   "cell_type": "markdown",
   "metadata": {},
   "source": [
    "> <strong><span style=&ldquo;color:#D83D2B;&rdquo;>Exercise 1.1.: Massaging a Twitter dataset</span></strong>\n",
    "> \n",
    "> Below are a few code blocks for implementing some data processing steps on an example dataset of [tweets about financial news](https://huggingface.co/datasets/zeroshot/twitter-financial-news-sentiment), downloaded from HuggingFace. We will use the `datasets` [package](https://huggingface.co/docs/datasets/en/tutorial) to work with the dataset. Originally, the dataset is intended for sentiment classification, but we will just use the tweets from the column \"text\".\n",
    ">\n",
    "> 1. Please go through the code and complete it in slots which say \"#### YOUR CODE HERE\". Refer to the comments and hints for instructions about what the code is supposed to do. Make sure to try to understand every line!\n",
    ">\n",
    "> 2. What is prominent about the dataset? Are the processing steps adequate if you wanted to train a Twitter bot which could write tweets on this data? Specifically, do you think the resulting cleaned sentences are sensible, good training examples to learn to generate text, and, more specifically, tweets?"
   ]
  },
  {
   "cell_type": "code",
   "execution_count": null,
   "metadata": {},
   "outputs": [],
   "source": [
    "from datasets import load_dataset\n",
    "import matplotlib.pyplot as plt\n",
    "\n",
    "# 1. load dataset, only training split\n",
    "dataset = load_dataset(\n",
    "    \"zeroshot/twitter-financial-news-sentiment\",\n",
    "    split=\"train\",\n",
    ")\n",
    "\n",
    "# 2. understand dataset\n",
    "# print first 5 examples\n",
    "print(dataset[:5])\n",
    "\n",
    "# print the columns of the dataset\n",
    "print(dataset.column_names)\n",
    "\n",
    "# get the number of examples in the dataset\n",
    "dataset_size = ### YOUR CODE HERE ###\n",
    "print(f\"Dataset size: {dataset_size}\")\n",
    "\n",
    "# compute the tweet lengths (in words, i.e., split by whitespace)\n",
    "# plot them and compute the average tweet length\n",
    "tweets = dataset[\"text\"]\n",
    "tweet_lengths = ### YOUR CODE HERE ###\n",
    "average_tweet_length = ### YOUR CODE HERE ###\n",
    "print(f\"Average tweet length: {average_tweet_length}\")\n",
    "\n",
    "# plot a histogram of the tweet lengths\n",
    "### YOUR CODE HERE ###\n",
    "plt.xlabel(\"Tweet length\")"
   ]
  },
  {
   "cell_type": "markdown",
   "metadata": {},
   "source": [
    "Click below to see the solution."
   ]
  },
  {
   "cell_type": "code",
   "execution_count": 1,
   "metadata": {
    "tags": [
     "hide-cell"
    ]
   },
   "outputs": [
    {
     "name": "stderr",
     "output_type": "stream",
     "text": [
      "/opt/anaconda3/envs/understanding_llms/lib/python3.10/site-packages/tqdm/auto.py:21: TqdmWarning: IProgress not found. Please update jupyter and ipywidgets. See https://ipywidgets.readthedocs.io/en/stable/user_install.html\n",
      "  from .autonotebook import tqdm as notebook_tqdm\n"
     ]
    },
    {
     "name": "stdout",
     "output_type": "stream",
     "text": [
      "{'text': ['$BYND - JPMorgan reels in expectations on Beyond Meat https://t.co/bd0xbFGjkT', '$CCL $RCL - Nomura points to bookings weakness at Carnival and Royal Caribbean https://t.co/yGjpT2ReD3', '$CX - Cemex cut at Credit Suisse, J.P. Morgan on weak building outlook https://t.co/KN1g4AWFIb', '$ESS: BTIG Research cuts to Neutral https://t.co/MCyfTsXc2N', '$FNKO - Funko slides after Piper Jaffray PT cut https://t.co/z37IJmCQzB'], 'label': [0, 0, 0, 0, 0]}\n",
      "['text', 'label']\n",
      "Dataset size: 9543\n",
      "Average tweet length: 12.17835062349366\n"
     ]
    },
    {
     "data": {
      "text/plain": [
       "Text(0.5, 0, 'Tweet length')"
      ]
     },
     "execution_count": 1,
     "metadata": {},
     "output_type": "execute_result"
    },
    {
     "data": {
      "image/png": "[encoded data removed]",
      "text/plain": [
       "<Figure size 640x480 with 1 Axes>"
      ]
     },
     "metadata": {},
     "output_type": "display_data"
    }
   ],
   "source": [
    "from datasets import load_dataset\n",
    "import matplotlib.pyplot as plt\n",
    "\n",
    "# 1. load dataset, only training split\n",
    "dataset = load_dataset(\n",
    "    \"zeroshot/twitter-financial-news-sentiment\",\n",
    "    split=\"train\",\n",
    ")\n",
    "\n",
    "# 2. understand dataset\n",
    "# print first 5 examples\n",
    "print(dataset[:5])\n",
    "\n",
    "# print the columns of the dataset\n",
    "print(dataset.column_names)\n",
    "\n",
    "# get the number of examples in the dataset\n",
    "dataset_size = len(dataset) ### YOUR CODE HERE ###\n",
    "print(f\"Dataset size: {dataset_size}\")\n",
    "\n",
    "# compute the tweet lengths (in words, i.e., split by whitespace)\n",
    "# plot them and compute the average tweet length\n",
    "tweets = dataset[\"text\"]\n",
    "tweet_lengths = [len(tweet.split()) for tweet in tweets] ### YOUR CODE HERE ###\n",
    "average_tweet_length = sum(tweet_lengths) / len(tweet_lengths) ### YOUR CODE HERE ###\n",
    "print(f\"Average tweet length: {average_tweet_length}\")\n",
    "\n",
    "# plot the tweet lengths\n",
    "plt.hist(tweet_lengths, bins=20) ### YOUR CODE HERE ###\n",
    "plt.xlabel(\"Tweet length\")"
   ]
  },
  {
   "cell_type": "markdown",
   "metadata": {
    "tags": [
     "hide-cell"
    ]
   },
   "source": [
    "> <strong><span style=&ldquo;color:#D83D2B;&rdquo;>Answers Exercise 1.1.: Massaging a Twitter dataset</span></strong>\n",
    ">\n",
    "> 2. The Tweet lenght peaks at 10 tokens, followed by between 10 and 15 tokens. The tweet lenght is almost never larger then 25 tokens. The Average tweet length is 12.17835062349366. This is quite small for tweets. \n",
    "> So if you would train your Twitter bot with this dataset you would receive a bot that answers in very short sentences. If that is what you are looking for, the dataset would be appropiate."
   ]
  },
  {
   "cell_type": "code",
   "execution_count": null,
   "metadata": {},
   "outputs": [],
   "source": [
    "# 4. clean tweets: remove non-alphabetic or non-space characters\n",
    "# Hint: you can easily google how to remove non-alphabetic characters in Python\n",
    "\n",
    "\n",
    "def clean_tweet(tweet):\n",
    "    \"\"\"\n",
    "    Remove non-alphabetic or non-space characters from a tweet.\n",
    "\n",
    "    Args\n",
    "    ----\n",
    "    tweet: str\n",
    "        Tweet to clean.\n",
    "\n",
    "    Returns\n",
    "    -------\n",
    "    cleaned_tweet: str\n",
    "        Cleaned tweet without non-alphabetic symbols.\n",
    "    \"\"\"\n",
    "    tweet = \"\".join(\n",
    "        ### YOUR CODE HERE ###\n",
    "    )  \n",
    "    return tweet\n",
    "\n",
    "# apply the preprocessing function to all tweets\n",
    "cleaned_dataset = dataset.map(\n",
    "    lambda example: {\n",
    "        \"text\": clean_tweet(example[\"text\"])\n",
    "    }\n",
    ")\n",
    "\n",
    "# look at a few examples of clean tweets\n",
    "print(cleaned_dataset[:2])"
   ]
  },
  {
   "cell_type": "markdown",
   "metadata": {},
   "source": [
    "Click below to see the solution."
   ]
  },
  {
   "cell_type": "code",
   "execution_count": null,
   "metadata": {
    "tags": [
     "hide-cell"
    ]
   },
   "outputs": [],
   "source": [
    "# 4. clean tweets: remove non-alphabetic characters\n",
    "# Hint: you can easily google how to remove non-alphabetic characters in Python\n",
    "\n",
    "\n",
    "def clean_tweet(tweet):\n",
    "    \"\"\"\n",
    "    Remove non-alphabetic or non-space characters from a tweet.\n",
    "\n",
    "    Args\n",
    "    ----\n",
    "    tweet: str\n",
    "        Tweet to clean.\n",
    "\n",
    "    Returns\n",
    "    -------\n",
    "    cleaned_tweet: str\n",
    "        Cleaned tweet without non-alphabetic symbols.\n",
    "    \"\"\"\n",
    "    tweet = \"\".join(\n",
    "        [char for char in tweet if char.isalpha() or char.isspace()]\n",
    "    )  ### YOUR CODE HERE ###\n",
    "    return tweet\n",
    "\n",
    "# apply the preprocessing function to all tweets\n",
    "cleaned_dataset = dataset.map(\n",
    "    lambda example: {\n",
    "        \"text\": clean_tweet(example[\"text\"])\n",
    "    }\n",
    ")\n",
    "\n",
    "# look at a few examples of clean tweets\n",
    "print(cleaned_dataset[:1])"
   ]
  },
  {
   "cell_type": "code",
   "execution_count": null,
   "metadata": {},
   "outputs": [],
   "source": [
    "# 5. split dataset into training and testing set\n",
    "\n",
    "# select the proportion of the dataset that should be used for training\n",
    "# and the proportion that should be used for testing\n",
    "# commonly train : test is around 80:20\n",
    "train_size = int(0.8 * dataset_size)  ### YOUR CODE HERE ###\n",
    "test_size = ### YOUR CODE HERE ###\n",
    "\n",
    "print(f\"Train size: {train_size}, Test size: {test_size}\")\n",
    "\n",
    "# split the dataset into training and testing set\n",
    "# this will create two new sub-datasets with the keys \"train\" and \"test\"\n",
    "cleaned_dataset_split = cleaned_dataset.train_test_split(\n",
    "    test_size=test_size,  \n",
    ")\n",
    "\n",
    "print(\"Train split examples: \", cleaned_dataset_split[\"train\"][:3])\n",
    "print(\"Test split examples: \", cleaned_dataset_split[\"test\"][:3])"
   ]
  },
  {
   "cell_type": "markdown",
   "metadata": {},
   "source": [
    "Click below to see the solution."
   ]
  },
  {
   "cell_type": "code",
   "execution_count": null,
   "metadata": {
    "tags": [
     "hide-cell"
    ]
   },
   "outputs": [],
   "source": [
    "# 5. split dataset into training and testing set\n",
    "\n",
    "# select the proportion of the dataset that should be used for training\n",
    "# and the proportion that should be used for testing\n",
    "# commonly train : test is around 80:20\n",
    "train_size = int(0.8 * dataset_size)  ### YOUR CODE HERE ###\n",
    "test_size = dataset_size - train_size  ### YOUR CODE HERE ###\n",
    "\n",
    "print(f\"Train size: {train_size}, Test size: {test_size}\")\n",
    "\n",
    "# split the dataset into training and testing set\n",
    "# this will create two new sub-datasets with the keys \"train\" and \"test\"\n",
    "cleaned_dataset_split = cleaned_dataset.train_test_split(\n",
    "    test_size=test_size,  \n",
    ")\n",
    "\n",
    "print(\"Train split examples: \", cleaned_dataset_split[\"train\"][:3])\n",
    "print(\"Test split examples: \", cleaned_dataset_split[\"test\"][:3])"
   ]
  },
  {
   "cell_type": "code",
   "execution_count": null,
   "metadata": {},
   "outputs": [],
   "source": [
    "# 7-8. Tokenize and batch the dataset with wrappers provided by the datasets package\n",
    "# for tokeinization, we use the GPT-2 tokenizer (more details for what is going on\n",
    "# under the hood of these wrappers is to come in the next sessions)\n",
    "\n",
    "from transformers import AutoTokenizer\n",
    "\n",
    "tokenizer = AutoTokenizer.from_pretrained(\"gpt2\")\n",
    "\n",
    "def tokenization(example):\n",
    "    \"\"\"\n",
    "    Wrapper around the tokenizer to tokenize the text of an example.\n",
    "\n",
    "    Args\n",
    "    ----\n",
    "    example: dict\n",
    "        Example tweet from the dataset. Key \"text\" contains the tweet.\n",
    "\n",
    "    Returns\n",
    "    -------\n",
    "    dict\n",
    "        Tokenized tweet with token IDs and an attention mask.\n",
    "    \"\"\"\n",
    "    return tokenizer(### YOUR CODE HERE ###\n",
    "        )\n",
    "\n",
    "# apply the tokenization function to the train dataset\n",
    "preprocessed_train_dataset = cleaned_dataset_split[\"train\"].map(tokenization, batched=True)\n",
    "\n",
    "# datasets provides a handy method to format the dataset for training models with PyTorch\n",
    "# specifically, it makes sure that dataset samples that are loaded from the\n",
    "# dataset are PyTorch tensors. It also selects columns to be used.\n",
    "preprocessed_train_dataset.set_format(\n",
    "    type=\"torch\", \n",
    "    columns=[\"input_ids\", \"attention_mask\", \"label\"]\n",
    ")\n",
    "\n",
    "preprocessed_train_dataset.format['type']"
   ]
  },
  {
   "cell_type": "markdown",
   "metadata": {},
   "source": [
    "Click below to see the solution."
   ]
  },
  {
   "cell_type": "code",
   "execution_count": null,
   "metadata": {
    "tags": [
     "hide-cell"
    ]
   },
   "outputs": [],
   "source": [
    "# 7-8. Tokenize and batch the dataset with wrappers provided by the datasets package\n",
    "# for tokeinization, we use the GPT-2 tokenizer (more details for what is going on\n",
    "# under the hood of these wrappers is to come in the next sessions)\n",
    "\n",
    "from transformers import AutoTokenizer\n",
    "\n",
    "tokenizer = AutoTokenizer.from_pretrained(\"gpt2\")\n",
    "\n",
    "def tokenization(example):\n",
    "    \"\"\"\n",
    "    Wrapper around the tokenizer to tokenize the text of an example.\n",
    "\n",
    "    Args\n",
    "    ----\n",
    "    example: dict\n",
    "        Example tweet from the dataset.\n",
    "\n",
    "    Returns\n",
    "    -------\n",
    "    dict\n",
    "        Tokenized tweet with token IDs and an attention mask.\n",
    "    \"\"\"\n",
    "    return tokenizer(example[\"text\"])\n",
    "\n",
    "# apply the tokenization function to the train dataset\n",
    "preprocessed_train_dataset = cleaned_dataset_split[\"train\"].map(tokenization, batched=True)\n",
    "\n",
    "# \n",
    "preprocessed_train_dataset.set_format(\n",
    "    type=\"torch\", \n",
    "    columns=[\"input_ids\", \"attention_mask\", \"label\"]\n",
    ")\n",
    "preprocessed_train_dataset.format['type']"
   ]
  },
  {
   "cell_type": "code",
   "execution_count": null,
   "metadata": {},
   "outputs": [],
   "source": [
    "# finally, to see what the preprocessed dataset looks like \n",
    "# we iterate over the dataset for a few steps, as we would do in training\n",
    "# note: usually a DataLoader would be used to iterate over the dataset for training\n",
    "# we will cover this in the next sessions\n",
    "\n",
    "for i in range(5):\n",
    "    print(preprocessed_train_dataset[i])"
   ]
  },
  {
   "cell_type": "markdown",
   "metadata": {},
   "source": [
    "**NOTE**: if you are building your own dataset instead of e.g. loading it via `datasets`, PyTorch provides a class `Dataset` which is easily customizable and essentially allows to explicitly implement functionality that is tucked away in the `datasets` package. Working with it is covered in sheet 2.3 (for next week!)."
   ]
  },
  {
   "cell_type": "markdown",
   "metadata": {},
   "source": [
    "> <strong><span style=&ldquo;color:#D83D2B;&rdquo;>Exercise 1.2.: Understanding The Pile</span></strong>\n",
    "> \n",
    "> To make things more specific, consider [The Pile dataset (Gao et al., 2020)](https://arxiv.org/pdf/2101.00027.pdf). Read trough the abstract and section 1 (Introduction), look at Table 1 (if needed, glimpse at other sections describing what the single names stand for), read section 5.2.\n",
    "> The following exercises are meant to foster understanding and critical thinking about training datasets. Please try to answer the following questions to yourself: \n",
    "> \n",
    "> 1. Which language(s) does The Pile mainly consist of? If an LM is trained on The Pile as it is, how would you expect the LM will perform when completing a text in, e.g., Hungarian?\n",
    ">\n",
    "> 2. What is the difference between The Pile and Common Crawl? Why was The Pile introduced?\n",
    ">\n",
    "> 3. What does the \"epochs\" column in Table 1 refer to? What is the idea behind it?\n",
    ">\n",
    "> 4. What kind of data is missing from the mix reported in Table 1? What do you think the effect of adding such data would be on an LM trained with the data?"
   ]
  },
  {
   "cell_type": "markdown",
   "metadata": {},
   "source": [
    "Click below to see the solution."
   ]
  },
  {
   "cell_type": "markdown",
   "metadata": {},
   "source": [
    "```{toggle}\n",
    "<strong><span style=&ldquo;color:#D83D2B;&rdquo;>Answers Exercise 1.2.: Understanding The Pile</span></strong>\n",
    ">\n",
    ">1.   The majority of the data is english. Additionally is consists in 14 languages. Nonetheless, the main criteria for multilanguage data was the existence of english data. Therefore Hungarian text completion is probably not possible.\n",
    ">2.  Common crawl consists in a large amount of raw data, which can result in a poor quality. Because it is favourable to uses a mixtures of many diverse datasets of high quality and from different fields, the Pile was introduced. Furthermore common crawl is part if The Pile changed into PIle-CC while using jusText on Web Archive files for extraction to receive a higher quality.\n",
    ">3. Epochs are the number of passes over each constituent dataset during a full epoch over the Pile. Therefore smaller datasets can pass the dataset more often the large datasets resulting in a better diversion.\n",
    ">4. The standard diviation of the document could give inforation whether the dataset has strong outliers. It can give an impression whether the dataset is biased in some way or not.\n",
    "```"
   ]
  },
  {
   "cell_type": "markdown",
   "metadata": {},
   "source": [
    "### Dataset documentation\n",
    "\n",
    "Although datasets are a crucial part of the NLP pipeline, unfortunately, there are very few or no established practices for *documenting* shared datasets or *reporting* the datasets which are used to traing published models. This results in issues of reproducibility of the training because details about the data are unknown, biases of models due to under- or misrepresentation in the data and other issues. This paper (a completely optional read) provides an overview as well as suggestions for improving the situation in the area of machine learning:\n",
    "\n",
    "[Jo & Gebru (2020). Lessons from Archives: Strategies for Collecting Sociocultural Data in Machine Learning](https://dl.acm.org/doi/pdf/10.1145/3351095.3372829)"
   ]
  }
 ],
 "metadata": {
  "kernelspec": {
   "display_name": "npNLG",
   "language": "python",
   "name": "python3"
  },
  "language_info": {
   "codemirror_mode": {
    "name": "ipython",
    "version": 3
   },
   "file_extension": ".py",
   "mimetype": "text/x-python",
   "name": "python",
   "nbconvert_exporter": "python",
   "pygments_lexer": "ipython3",
   "version": "3.10.14"
  }
 },
 "nbformat": 4,
 "nbformat_minor": 4
}
