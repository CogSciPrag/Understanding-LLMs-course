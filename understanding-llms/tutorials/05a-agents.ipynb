{
 "cells": [
  {
   "cell_type": "markdown",
   "metadata": {},
   "source": [
    "5.1 LLM agents\n",
    "==========\n",
    "**Author:** Polina Tsvilodub"
   ]
  },
  {
   "cell_type": "markdown",
   "metadata": {},
   "source": [
    "Learning goals:\n",
    "\n",
    "* \"understanding basics of langchain and trying out langchain tools or agents, \n",
    "* dealing with output processing, \n",
    "* handling memory, relevance scores etc\n",
    "* thinking about task decomposition\n",
    "* Model trained for tool use: NexaAIDev/Octopus-v2\n",
    "\n",
    "Tasks: \n",
    "* maybe implement debate / self-critique with langchain?\n",
    "* implement the HW task with websearch / wikipedia instead of RAG?\n",
    "  * implementing a planning thing: you give a list of ingredients you have -> get recipe.\n",
    "    * (1) implement task decomposition yourself\n",
    "    * (2) agent"
   ]
  },
  {
   "cell_type": "code",
   "execution_count": null,
   "metadata": {},
   "outputs": [],
   "source": [
    "import random\n",
    "import os\n",
    "import tqdm\n",
    "import pandas as pd\n",
    "from dotenv import load_dotenv\n",
    "\n",
    "import numpy as np\n",
    "from langchain_core.prompts import PromptTemplate, FewShotPromptTemplate\n",
    "from langchain.prompts.example_selector.base import BaseExampleSelector\n",
    "from langchain.example_generator import generate_example\n",
    "# from langchain_community.llms import OpenAI\n",
    "# from langchain.chains.llm import LLMChain\n",
    "from langchain.chains import SequentialChain, TransformChain\n",
    "# import openai\n",
    "from datetime import datetime\n",
    "import argparse\n",
    "\n",
    "############ updated API ########\n",
    "from langchain_openai import ChatOpenAI\n",
    "from langchain_core.output_parsers import StrOutputParser\n",
    "from langchain_core.prompts import ChatPromptTemplate"
   ]
  },
  {
   "cell_type": "code",
   "execution_count": null,
   "metadata": {},
   "outputs": [],
   "source": [
    "# set some hyperparameters\n",
    "temperature = 0.7\n",
    "kwargs = {\n",
    "    \"max_tokens\": 100,\n",
    "}\n",
    "\n",
    "instructions_text = \"I have the following ingredients in my fridge: \\n{ingredients}\\n\\nHow can I make dinner with these ingredients?\" "
   ]
  },
  {
   "cell_type": "code",
   "execution_count": null,
   "metadata": {},
   "outputs": [],
   "source": [
    "# instantiate model\n",
    "model = ChatOpenAI(\n",
    "    openai_api_key=os.getenv(\"OPENAI_API_KEY\"),\n",
    "    temperature=temperature,\n",
    "    **kwargs   \n",
    ") \n",
    "\n",
    "prompt_template = PromptTemplate(\n",
    "    template = instructions_text,\n",
    "    input_variables = ['ingredients'],\n",
    ")\n",
    "prompt_template = ChatPromptTemplate.from_messages(\n",
    "    [(\"system\", \"You are a helpful assistant.\"), (\"user\", \"{text}\")]\n",
    ")\n",
    "\n",
    "# format the few_shot prompt\n",
    "few_shot_prompt = FewShotPromptTemplate(\n",
    "    prefix=instructions_text, \n",
    "    examples=selected_examples,\n",
    "    example_prompt=prompt_template, \n",
    "    input_variables=[], \n",
    "    suffix=\"Object category:\",\n",
    "    example_separator=\"\\n\\n\",\n",
    ")    \n",
    "print(\"Predicting objects\")\n",
    "\n",
    "# objects_chain = LLMChain(\n",
    "#     llm=model, \n",
    "#     prompt=few_shot_prompt, \n",
    "#     verbose=True, \n",
    "#     output_key=\"sampled_objects\"\n",
    "# ) \n",
    "object_transformation_chain = TransformChain(\n",
    "    input_variables=[\"sampled_objects\"], \n",
    "    output_variables=[\"basic_category\", \"typical\", \"atypical\"], \n",
    "    transform=transform_fct, \n",
    "    verbose=True\n",
    ")\n",
    "chain = prompt_template | model | output_parser | object_transformation_chain\n",
    "r = chain.invoke({\"ingredients\": \"cauliflower, rice, eggs, tomatoes, cucumbers.\"})"
   ]
  },
  {
   "cell_type": "markdown",
   "metadata": {},
   "source": [
    "## Output parsing\n",
    "\n",
    "https://python.langchain.com/v0.2/docs/how_to/structured_output/"
   ]
  }
 ],
 "metadata": {
  "language_info": {
   "name": "python"
  }
 },
 "nbformat": 4,
 "nbformat_minor": 2
}
