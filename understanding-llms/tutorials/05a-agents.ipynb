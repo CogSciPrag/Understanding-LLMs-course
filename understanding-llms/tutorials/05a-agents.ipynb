{
 "cells": [
  {
   "cell_type": "markdown",
   "metadata": {},
   "source": [
    "5.1 LLM agents\n",
    "==========\n",
    "**Author:** Polina Tsvilodub"
   ]
  },
  {
   "cell_type": "markdown",
   "metadata": {},
   "source": [
    "This sheet takes a closer look at more complex LLM-based systems and *LLM agents*. Specifically, we will use the package [`langchain`](https://python.langchain.com/v0.2/docs/tutorials/) and its extensions to build our own LLM systems and explore their functionality. The learning goals for this sheet are:\n",
    "\n",
    "* understanding basics of langchain \n",
    "* trying out langchain agents and tools \n",
    "* understanding the basics of output processing \n",
    "* familiarization with basic handling of agent memory"
   ]
  },
  {
   "cell_type": "markdown",
   "metadata": {},
   "source": [
    "## LangChain\n",
    "\n",
    "The lecture discussed that modern LLMs can be viewed as building blocks of larger systems, be it for engineering or research purposes. In particular, one might want to use an LLM and make several calls (i.e., several inference passses) to it, and somehow use the predicted results together to complete one's task. \n",
    " \n",
    "\n",
    "[Disclaimer: Not sponsored by LangChain -- there are other very useful tools for doing such things, for instance, XXXX. This is just one popular example]"
   ]
  },
  {
   "cell_type": "code",
   "execution_count": null,
   "metadata": {},
   "outputs": [],
   "source": [
    "#!pip install langchain==0.2.2 langchain-core==0.2.4 langchain-openai==0.1.7 wikipedia==1.4.0"
   ]
  },
  {
   "cell_type": "code",
   "execution_count": 1,
   "metadata": {},
   "outputs": [],
   "source": [
    "import os\n",
    "from dotenv import load_dotenv\n",
    "from langchain_openai import ChatOpenAI\n",
    "from langchain_core.output_parsers import StrOutputParser"
   ]
  },
  {
   "cell_type": "code",
   "execution_count": 26,
   "metadata": {},
   "outputs": [],
   "source": [
    "# set some hyperparameters\n",
    "temperature = 0.7\n",
    "kwargs = {\n",
    "    \"max_tokens\": 100,\n",
    "}\n",
    "\n",
    "ingredients = \"cauliflower, tomatoes.\"\n",
    "\n",
    "instructions_text_appetizer = \"I have the following ingredients in my fridge: \\n{ingredients}\\n\\nWhich Italian appetizer can I make for dinner with these ingredients?\"\n",
    "\n",
    "instructions_text_main = \"I am planning to make the following appetizer: \\n{appetizer}\\n\\nWhich Italian main course can I make for my dinner?\"\n",
    "\n",
    "instructions_text_dessert = \"I have the following ingredients in my fridge: \\n{ingredients}\\n\\nI am planning to make the following appetizer: \\n{appetizer}\\n\\nThe, I will serve the following main course:\\n{main_course}\\n\\Which Italian dessert could I make fitting my dinner menu?\"\n"
   ]
  },
  {
   "cell_type": "code",
   "execution_count": 31,
   "metadata": {},
   "outputs": [
    {
     "name": "stdout",
     "output_type": "stream",
     "text": [
      "You can make a classic Italian dish called \"Spaghetti Carbonara.\" Here's how to make it:\n",
      "\n",
      "Ingredients:\n",
      "- 1 lb spaghetti\n",
      "- 6 slices of pancetta or bacon, diced\n",
      "- 2 cloves of garlic, minced\n",
      "- 2 large eggs\n",
      "- 1 cup grated Pecorino Romano cheese\n",
      "- Salt and pepper to taste\n",
      "- Chopped parsley for garnish\n",
      "\n",
      "Instructions:\n",
      "1. Cook the spaghetti according to package instructions until al dente."
     ]
    }
   ],
   "source": [
    "load_dotenv()\n",
    "\n",
    "# instantiate model\n",
    "model = ChatOpenAI(\n",
    "    openai_api_key=os.getenv(\"OPENAI_API_KEY\"),\n",
    "    temperature=temperature,\n",
    "    **kwargs   \n",
    ") \n",
    "\n",
    "prompt_template_appetizer = PromptTemplate(\n",
    "    template = instructions_text_appetizer,\n",
    "    input_variables = ['ingredients'],\n",
    "    # output_variables = ['appetizer'],\n",
    ")\n",
    "prompt_template_main = PromptTemplate(\n",
    "    template = instructions_text_main,\n",
    "    input_variables = ['appetizer'],\n",
    "    # output_variables = ['main_course'],\n",
    ")\n",
    "prompt_template_dessert = PromptTemplate(\n",
    "    template = instructions_text_appetizer,\n",
    "    input_variables = ['ingredients', 'appetizer', 'main_course'],\n",
    ")\n",
    "\n",
    "# prompt_template = ChatPromptTemplate.from_messages(\n",
    "#     [(\"system\", \"You are a helpful assistant.\"), (\"user\", instructions_text)]\n",
    "# )\n",
    "\n",
    "# format the few_shot prompt\n",
    "# few_shot_prompt = FewShotPromptTemplate(\n",
    "#     prefix=instructions_text, \n",
    "#     examples=selected_examples,\n",
    "#     example_prompt=prompt_template, \n",
    "#     input_variables=[], \n",
    "#     suffix=\"Object category:\",\n",
    "#     example_separator=\"\\n\\n\",\n",
    "# )    \n",
    "# print(\"Predicting objects\")\n",
    "\n",
    "appetizer_chain = prompt_template_appetizer | model | StrOutputParser()\n",
    "# r = appetizer_chain.invoke({\"ingredients\": ingredients})\n",
    "# print(\"appetizer chaon result: \", r)\n",
    "composed_chain = {\"appetizer\": appetizer_chain} | prompt_template_main | model\n",
    "composed_result = composed_chain.invoke({\"ingredients\": ingredients})\n",
    "print(\"Result: \", composed_result)\n",
    "\n"
   ]
  },
  {
   "cell_type": "markdown",
   "metadata": {},
   "source": [
    "### Agents\n",
    "\n",
    "[React agent](https://react-lm.github.io/)"
   ]
  },
  {
   "cell_type": "code",
   "execution_count": 8,
   "metadata": {},
   "outputs": [
    {
     "data": {
      "text/plain": [
       "'Answer the following questions as best you can. You have access to the following tools:\\n\\n{tools}\\n\\nUse the following format:\\n\\nQuestion: the input question you must answer\\nThought: you should always think about what to do\\nAction: the action to take, should be one of [{tool_names}]\\nAction Input: the input to the action\\nObservation: the result of the action\\n... (this Thought/Action/Action Input/Observation can repeat N times)\\nThought: I now know the final answer\\nFinal Answer: the final answer to the original input question\\n\\nBegin!\\n\\nQuestion: {input}\\nThought:{agent_scratchpad}'"
      ]
     },
     "execution_count": 8,
     "metadata": {},
     "output_type": "execute_result"
    }
   ],
   "source": [
    "# same task with agent\n",
    "from langchain import hub\n",
    "import langchain_core\n",
    "from langchain.agents import AgentExecutor\n",
    "from langchain.agents import create_react_agent\n",
    "\n",
    "\n",
    "# tools = [search, retriever_tool]\n",
    "\n",
    "llm = ChatOpenAI(model=\"gpt-3.5-turbo-0125\", temperature=0.5)\n",
    "\n",
    "\n",
    "# Get the prompt to use - you can modify this!\n",
    "prompt = hub.pull(\"hwchase17/react\")\n",
    "# just sets up a helpful assistant etc\n",
    "prompt.template"
   ]
  },
  {
   "cell_type": "code",
   "execution_count": 9,
   "metadata": {},
   "outputs": [
    {
     "name": "stdout",
     "output_type": "stream",
     "text": [
      "\n",
      "\n",
      "\u001b[1m> Entering new AgentExecutor chain...\u001b[0m\n",
      "\u001b[32;1m\u001b[1;3mFirst, think about what dishes can be made using cauliflower and tomatoes in an Italian cuisine. Consider appetizers, main courses, and desserts.\n",
      "Action: [Search for vegetarian Italian recipes using cauliflower and tomatoes]\n",
      "Action Input: Vegetarian cauliflower and tomato Italian recipes\u001b[0m[Search for vegetarian Italian recipes using cauliflower and tomatoes] is not a valid tool, try one of [].\u001b[32;1m\u001b[1;3mLet's try searching for recipes on a cooking website or app.\n",
      "Action: [Search for vegetarian Italian recipes using cauliflower and tomatoes on a cooking website or app]\n",
      "Action Input: Vegetarian cauliflower and tomato Italian recipes\u001b[0m[Search for vegetarian Italian recipes using cauliflower and tomatoes on a cooking website or app] is not a valid tool, try one of [].\u001b[32;1m\u001b[1;3mLet's try searching for recipes on a popular search engine.\n",
      "Action: [Search for vegetarian Italian recipes using cauliflower and tomatoes on a popular search engine]\n",
      "Action Input: Vegetarian cauliflower and tomato Italian recipes\u001b[0m[Search for vegetarian Italian recipes using cauliflower and tomatoes on a popular search engine] is not a valid tool, try one of [].\u001b[32;1m\u001b[1;3mLet's try searching for recipes on a vegetarian cooking website.\n",
      "Action: [Search for vegetarian Italian recipes using cauliflower and tomatoes on a vegetarian cooking website]\n",
      "Action Input: Vegetarian cauliflower and tomato Italian recipes\u001b[0m[Search for vegetarian Italian recipes using cauliflower and tomatoes on a vegetarian cooking website] is not a valid tool, try one of [].\u001b[32;1m\u001b[1;3mLet's try searching for recipes on a vegetarian recipe app.\n",
      "Action: [Search for vegetarian Italian recipes using cauliflower and tomatoes on a vegetarian recipe app]\n",
      "Action Input: Vegetarian cauliflower and tomato Italian recipes\u001b[0m[Search for vegetarian Italian recipes using cauliflower and tomatoes on a vegetarian recipe app] is not a valid tool, try one of [].\u001b[32;1m\u001b[1;3mLet's try searching for recipes on a vegetarian cooking blog.\n",
      "Action: [Search for vegetarian Italian recipes using cauliflower and tomatoes on a vegetarian cooking blog]\n",
      "Action Input: Vegetarian cauliflower and tomato Italian recipes\u001b[0m[Search for vegetarian Italian recipes using cauliflower and tomatoes on a vegetarian cooking blog] is not a valid tool, try one of [].\u001b[32;1m\u001b[1;3mLet's try searching for recipes on a vegetarian recipe website.\n",
      "Action: [Search for vegetarian Italian recipes using cauliflower and tomatoes on a vegetarian recipe website]\n",
      "Action Input: Vegetarian cauliflower and tomato Italian recipes\u001b[0m[Search for vegetarian Italian recipes using cauliflower and tomatoes on a vegetarian recipe website] is not a valid tool, try one of [].\u001b[32;1m\u001b[1;3mLet's try searching for recipes on a vegetarian cooking forum.\n",
      "Action: [Search for vegetarian Italian recipes using cauliflower and tomatoes on a vegetarian cooking forum]\n",
      "Action Input: Vegetarian cauliflower and tomato Italian recipes\u001b[0m[Search for vegetarian Italian recipes using cauliflower and tomatoes on a vegetarian cooking forum] is not a valid tool, try one of [].\u001b[32;1m\u001b[1;3mIt seems that searching for specific recipes using the ingredients I have is not working. I will have to come up with a three-course Italian dinner menu using cauliflower and tomatoes on my own.\n",
      "Final Answer: For the appetizer, I will make a roasted cauliflower and tomato bruschetta. For the main course, I will prepare a cauliflower and tomato pasta with garlic and olive oil. For dessert, I will serve a tomato and basil sorbet.\u001b[0m\n",
      "\n",
      "\u001b[1m> Finished chain.\u001b[0m\n"
     ]
    },
    {
     "data": {
      "text/plain": [
       "{'input': 'Please help me come up with a three course Italian dinner menu. It should be vegetarian. I have cauliflower and tomatoes in my fridge.',\n",
       " 'output': 'For the appetizer, I will make a roasted cauliflower and tomato bruschetta. For the main course, I will prepare a cauliflower and tomato pasta with garlic and olive oil. For dessert, I will serve a tomato and basil sorbet.'}"
      ]
     },
     "execution_count": 9,
     "metadata": {},
     "output_type": "execute_result"
    }
   ],
   "source": [
    "agent = create_react_agent(llm, tools=[], prompt=prompt)\n",
    "\n",
    "agent_executor = AgentExecutor(agent=agent, tools=[], verbose=True)\n",
    "\n",
    "agent_executor.invoke({\"input\": \"Please help me come up with a three course Italian dinner menu. It should be vegetarian. I have cauliflower and tomatoes in my fridge.\"})"
   ]
  },
  {
   "cell_type": "markdown",
   "metadata": {},
   "source": [
    "### LangChain agent with tools\n",
    "\n",
    "Bla bla bla. Web search tool and math tool maybe."
   ]
  },
  {
   "cell_type": "code",
   "execution_count": 11,
   "metadata": {},
   "outputs": [
    {
     "name": "stdout",
     "output_type": "stream",
     "text": [
      "tools [WikipediaQueryRun(api_wrapper=WikipediaAPIWrapper(wiki_client=<module 'wikipedia' from '/opt/anaconda3/envs/understanding_llms/lib/python3.10/site-packages/wikipedia/__init__.py'>, top_k_results=3, lang='en', load_all_available_meta=False, doc_content_chars_max=4000))]\n",
      "\n",
      "\n",
      "\u001b[1m> Entering new AgentExecutor chain...\u001b[0m\n",
      "\u001b[32;1m\u001b[1;3mYou can use Wikipedia to search for vegetarian Italian dishes that include cauliflower and tomatoes.\n",
      "Action: wikipedia\n",
      "Action Input: Vegetarian Italian dishes with cauliflower and tomatoes\u001b[0m\u001b[36;1m\u001b[1;3mPage: List of vegetable dishes\n",
      "Summary: This is a list of vegetable dishes, that includes dishes in which the main ingredient or one of the essential ingredients is a vegetable or vegetables.\n",
      "In culinary terms, a vegetable is an edible plant or its part, intended for cooking or eating raw. Many vegetable-based dishes exist throughout the world.\n",
      "\n",
      "Page: Fried cauliflower\n",
      "Summary: Fried cauliflower is a popular dish in many cuisines of the Middle East, South Asia, Europe, and elsewhere. It may start from raw or cooked cauliflower; it may be dipped in batter or breading; it may be fried in oil, butter, or other fats. It can be served on its own, as a mezze or side dish, or in a sandwich. It is often seasoned with salt, spices, and a variety of sauces, in the Middle East often based on tahini or strained yogurt.\n",
      "Cauliflower in general, and fried cauliflower in particular, has become increasingly popular in the United States.\n",
      "\n",
      "Page: Italian cuisine\n",
      "Summary: Italian cuisine is a Mediterranean cuisine consisting of the ingredients, recipes and cooking techniques developed in Italy since Roman times and later spread around the world together with waves of Italian diaspora. Significant changes occurred with the colonization of the Americas and the introduction of potatoes, tomatoes, capsicums, maize and sugar beet—the latter introduced in quantity in the 18th century. It is one of the best-known and most appreciated gastronomies worldwide.\n",
      "Italian cuisine includes deeply rooted traditions common to the whole country, as well as all the regional gastronomies, different from each other, especially between the north, the centre and the south of Italy, which are in continuous exchange. Many dishes that were once regional have proliferated with variations throughout the country. Italian cuisine offers an abundance of taste, and is one of the most popular and copied around the world. The cuisine has influenced several other cuisines around the world, chiefly that of the United States in the form of Italian-American cuisine.\n",
      "One of the main characteristics of Italian cuisine is its simplicity, with many dishes made up of few ingredients, and therefore Italian cooks often rely on the quality of the ingredients, rather than the complexity of preparation. Italian cuisine is at the origin of a turnover of more than €200 billion worldwide. The most popular dishes and recipes, over the centuries, have often been created by ordinary people more so than by chefs, which is why many Italian recipes are suitable for home and daily cooking, respecting regional specificities, privileging only raw materials and ingredients from the region of origin of the dish and preserving its seasonality.\n",
      "The Mediterranean diet forms the basis of Italian cuisine, rich in pasta, fish, fruits and vegetables. Cheese, cold cuts and wine are central to Italian cuisine, and along with pizza and coffee (especially espresso) form part of Italian gastronomic culture. Desserts have a long tradition of merging local flavours such as citrus fruits, pistachio and almonds with sweet cheeses such as mascarpone and ricotta or exotic tastes as cocoa, vanilla and cinnamon. Gelato, tiramisu and cassata are among the most famous examples of Italian desserts, cakes and patisserie. Italian cuisine relies heavily on traditional products; the country has a large number of traditional specialities protected under EU law. Italy is the world's largest producer of wine, as well as the country with the widest variety of indigenous grapevine varieties in the world.\u001b[0m\u001b[32;1m\u001b[1;3mNow that I have some general information about Italian cuisine, I can search for specific vegetarian Italian dishes that include cauliflower and tomatoes.\n",
      "Action: wikipedia\n",
      "Action Input: Vegetarian Italian dishes with cauliflower and tomatoes\u001b[0m\u001b[36;1m\u001b[1;3mPage: List of vegetable dishes\n",
      "Summary: This is a list of vegetable dishes, that includes dishes in which the main ingredient or one of the essential ingredients is a vegetable or vegetables.\n",
      "In culinary terms, a vegetable is an edible plant or its part, intended for cooking or eating raw. Many vegetable-based dishes exist throughout the world.\n",
      "\n",
      "Page: Fried cauliflower\n",
      "Summary: Fried cauliflower is a popular dish in many cuisines of the Middle East, South Asia, Europe, and elsewhere. It may start from raw or cooked cauliflower; it may be dipped in batter or breading; it may be fried in oil, butter, or other fats. It can be served on its own, as a mezze or side dish, or in a sandwich. It is often seasoned with salt, spices, and a variety of sauces, in the Middle East often based on tahini or strained yogurt.\n",
      "Cauliflower in general, and fried cauliflower in particular, has become increasingly popular in the United States.\n",
      "\n",
      "Page: Italian cuisine\n",
      "Summary: Italian cuisine is a Mediterranean cuisine consisting of the ingredients, recipes and cooking techniques developed in Italy since Roman times and later spread around the world together with waves of Italian diaspora. Significant changes occurred with the colonization of the Americas and the introduction of potatoes, tomatoes, capsicums, maize and sugar beet—the latter introduced in quantity in the 18th century. It is one of the best-known and most appreciated gastronomies worldwide.\n",
      "Italian cuisine includes deeply rooted traditions common to the whole country, as well as all the regional gastronomies, different from each other, especially between the north, the centre and the south of Italy, which are in continuous exchange. Many dishes that were once regional have proliferated with variations throughout the country. Italian cuisine offers an abundance of taste, and is one of the most popular and copied around the world. The cuisine has influenced several other cuisines around the world, chiefly that of the United States in the form of Italian-American cuisine.\n",
      "One of the main characteristics of Italian cuisine is its simplicity, with many dishes made up of few ingredients, and therefore Italian cooks often rely on the quality of the ingredients, rather than the complexity of preparation. Italian cuisine is at the origin of a turnover of more than €200 billion worldwide. The most popular dishes and recipes, over the centuries, have often been created by ordinary people more so than by chefs, which is why many Italian recipes are suitable for home and daily cooking, respecting regional specificities, privileging only raw materials and ingredients from the region of origin of the dish and preserving its seasonality.\n",
      "The Mediterranean diet forms the basis of Italian cuisine, rich in pasta, fish, fruits and vegetables. Cheese, cold cuts and wine are central to Italian cuisine, and along with pizza and coffee (especially espresso) form part of Italian gastronomic culture. Desserts have a long tradition of merging local flavours such as citrus fruits, pistachio and almonds with sweet cheeses such as mascarpone and ricotta or exotic tastes as cocoa, vanilla and cinnamon. Gelato, tiramisu and cassata are among the most famous examples of Italian desserts, cakes and patisserie. Italian cuisine relies heavily on traditional products; the country has a large number of traditional specialities protected under EU law. Italy is the world's largest producer of wine, as well as the country with the widest variety of indigenous grapevine varieties in the world.\u001b[0m\u001b[32;1m\u001b[1;3mI can search specifically for Italian vegetarian dishes that include cauliflower and tomatoes.\n",
      "Action: wikipedia\n",
      "Action Input: Italian vegetarian dishes with cauliflower and tomatoes\u001b[0m\u001b[36;1m\u001b[1;3mPage: List of vegetable dishes\n",
      "Summary: This is a list of vegetable dishes, that includes dishes in which the main ingredient or one of the essential ingredients is a vegetable or vegetables.\n",
      "In culinary terms, a vegetable is an edible plant or its part, intended for cooking or eating raw. Many vegetable-based dishes exist throughout the world.\n",
      "\n",
      "Page: Fried cauliflower\n",
      "Summary: Fried cauliflower is a popular dish in many cuisines of the Middle East, South Asia, Europe, and elsewhere. It may start from raw or cooked cauliflower; it may be dipped in batter or breading; it may be fried in oil, butter, or other fats. It can be served on its own, as a mezze or side dish, or in a sandwich. It is often seasoned with salt, spices, and a variety of sauces, in the Middle East often based on tahini or strained yogurt.\n",
      "Cauliflower in general, and fried cauliflower in particular, has become increasingly popular in the United States.\n",
      "\n",
      "Page: Italian cuisine\n",
      "Summary: Italian cuisine is a Mediterranean cuisine consisting of the ingredients, recipes and cooking techniques developed in Italy since Roman times and later spread around the world together with waves of Italian diaspora. Significant changes occurred with the colonization of the Americas and the introduction of potatoes, tomatoes, capsicums, maize and sugar beet—the latter introduced in quantity in the 18th century. It is one of the best-known and most appreciated gastronomies worldwide.\n",
      "Italian cuisine includes deeply rooted traditions common to the whole country, as well as all the regional gastronomies, different from each other, especially between the north, the centre and the south of Italy, which are in continuous exchange. Many dishes that were once regional have proliferated with variations throughout the country. Italian cuisine offers an abundance of taste, and is one of the most popular and copied around the world. The cuisine has influenced several other cuisines around the world, chiefly that of the United States in the form of Italian-American cuisine.\n",
      "One of the main characteristics of Italian cuisine is its simplicity, with many dishes made up of few ingredients, and therefore Italian cooks often rely on the quality of the ingredients, rather than the complexity of preparation. Italian cuisine is at the origin of a turnover of more than €200 billion worldwide. The most popular dishes and recipes, over the centuries, have often been created by ordinary people more so than by chefs, which is why many Italian recipes are suitable for home and daily cooking, respecting regional specificities, privileging only raw materials and ingredients from the region of origin of the dish and preserving its seasonality.\n",
      "The Mediterranean diet forms the basis of Italian cuisine, rich in pasta, fish, fruits and vegetables. Cheese, cold cuts and wine are central to Italian cuisine, and along with pizza and coffee (especially espresso) form part of Italian gastronomic culture. Desserts have a long tradition of merging local flavours such as citrus fruits, pistachio and almonds with sweet cheeses such as mascarpone and ricotta or exotic tastes as cocoa, vanilla and cinnamon. Gelato, tiramisu and cassata are among the most famous examples of Italian desserts, cakes and patisserie. Italian cuisine relies heavily on traditional products; the country has a large number of traditional specialities protected under EU law. Italy is the world's largest producer of wine, as well as the country with the widest variety of indigenous grapevine varieties in the world.\u001b[0m\u001b[32;1m\u001b[1;3mI now know that Italian cuisine is rich in pasta, fish, fruits, and vegetables. I can create a three-course vegetarian Italian dinner menu using cauliflower and tomatoes as the main ingredients.\n",
      "Final Answer: For the vegetarian Italian dinner menu, you can start with a Caprese salad with tomatoes and fresh mozzarella, followed by a main course of cauliflower risotto, and finish with a dessert of panna cotta with a tomato compote.\u001b[0m\n",
      "\n",
      "\u001b[1m> Finished chain.\u001b[0m\n"
     ]
    },
    {
     "data": {
      "text/plain": [
       "{'input': 'Please help me come up with a three course Italian dinner menu. It should be vegetarian. I have cauliflower and tomatoes in my fridge.',\n",
       " 'output': 'For the vegetarian Italian dinner menu, you can start with a Caprese salad with tomatoes and fresh mozzarella, followed by a main course of cauliflower risotto, and finish with a dessert of panna cotta with a tomato compote.'}"
      ]
     },
     "execution_count": 11,
     "metadata": {},
     "output_type": "execute_result"
    }
   ],
   "source": [
    "from langchain.agents import load_tools\n",
    "tools = load_tools([\"wikipedia\"], llm=llm) #[search, retriever_tool]\n",
    "\n",
    "print('tools',  tools)\n",
    "# llm = ChatOpenAI(model=\"gpt-3.5-turbo-0125\", temperature=0)\n",
    "\n",
    "# from langchain import hub\n",
    "\n",
    "# # Get the prompt to use - you can modify this!\n",
    "# prompt = hub.pull(\"hwchase17/openai-functions-agent\")\n",
    "# # just sets up a helpful assistant etc\n",
    "# prompt.messages\n",
    "\n",
    "from langchain.agents import create_tool_calling_agent, create_react_agent\n",
    "\n",
    "agent_with_tools = create_react_agent(llm, tools=tools, prompt=prompt)\n",
    "\n",
    "from langchain.agents import AgentExecutor\n",
    "\n",
    "agent_executor = AgentExecutor(agent=agent_with_tools, tools=tools, verbose=True)\n",
    "\n",
    "agent_executor.invoke({\"input\": \"Please help me come up with a three course Italian dinner menu. It should be vegetarian. I have cauliflower and tomatoes in my fridge.\"})"
   ]
  },
  {
   "cell_type": "markdown",
   "metadata": {},
   "source": [
    "## Output parsing\n",
    "\n",
    "https://python.langchain.com/v0.2/docs/how_to/structured_output/"
   ]
  },
  {
   "cell_type": "markdown",
   "metadata": {},
   "source": [
    "## Memory handling & Cognitive agents"
   ]
  },
  {
   "cell_type": "markdown",
   "metadata": {},
   "source": []
  }
 ],
 "metadata": {
  "kernelspec": {
   "display_name": "understanding_llms",
   "language": "python",
   "name": "python3"
  },
  "language_info": {
   "codemirror_mode": {
    "name": "ipython",
    "version": 3
   },
   "file_extension": ".py",
   "mimetype": "text/x-python",
   "name": "python",
   "nbconvert_exporter": "python",
   "pygments_lexer": "ipython3",
   "version": "3.10.14"
  }
 },
 "nbformat": 4,
 "nbformat_minor": 2
}
