{
 "cells": [
  {
   "cell_type": "markdown",
   "metadata": {},
   "source": [
    "5.1 LLM agents\n",
    "==========\n",
    "**Author:** Polina Tsvilodub"
   ]
  },
  {
   "cell_type": "markdown",
   "metadata": {},
   "source": [
    "This sheet takes a closer look at more complex LLM-based systems and *LLM agents*. Specifically, we will use the package [`langchain`](https://python.langchain.com/v0.2/docs/tutorials/) and its extensions to build our own LLM systems and explore their functionality. The learning goals for this sheet are:\n",
    "\n",
    "* understanding basics of langchain \n",
    "* trying out langchain agents and tools \n",
    "* understanding the basics of output processing \n",
    "* familiarization with basic handling of agent memory\n",
    "\n",
    "Langchain is under heavy development. Sometimes examples provided in the docs break with version updates, so one needs to be somewhat patient. \n",
    "\n",
    "**NOTE**: At this point it provides quite vast functionality (and docs, respectively) -- of course, we do NOT expect you to study or understand all of that. The examples below will provide links to some relevant parts of the documentation, and the examples serve a little demo / inspiration of what is out there, as a starting point for you to learn more, if you are interested. "
   ]
  },
  {
   "cell_type": "markdown",
   "metadata": {},
   "source": [
    "## LangChain\n",
    "\n",
    "The lecture discussed that modern LLMs can be viewed as building blocks of larger systems, be it for engineering or research purposes. In particular, one might want to use an LLM and make several calls (i.e., several inference passses) to it, and somehow use the predicted results together to complete one's task. Note that when we talk about such systems, we (almost always) use the LLM for *inference*, i.e., the LLM is already pretrained / fine-tuned.\n",
    "\n",
    "Using the terminology of langchain, a sequence of such LLM calls is called a *chain*. For each call, one minimally needs to specify a (pretrained / fine-tuned) LLM and a prompt that specifies what exactly the call should accomplish. For the prompt, oftentimes *prompt templates* are used. These prompt templates usually specify *variables* which are filled with inputs when the respective LLM call is invoked. The idea behind this is that the calls can be re-used, e.g., with various user inputs, without having to re-type the entire prompt. Further, these inputs may come from a previous LLM call. One neat feature of langchain is that it allows to seamlessly chain LLM calls and stream outputs from one call into the next. Specific types of templates (e.g., chat prompt templates) also take care of formatting text in the way expected by the model, e.g., adding the required special tokens and format for chat models.\n",
    "\n",
    "[Disclaimer: Not sponsored by LangChain -- there are other very useful tools for doing such things, for instance, XXXX. This is just one popular example.]\n",
    "\n",
    "Below, we will first look at a an example of a simple sequence of LLM calls. In particular, we will build a system that helps us to come up with a dinner menu, given some ingredients that we already have.\n",
    "\n",
    "We will be using the OpenAI API to get optimal performance (specifically, the GPT-3.5-turbo model). Instructions for retreiving the an API key will be provided in class."
   ]
  },
  {
   "cell_type": "code",
   "execution_count": null,
   "metadata": {},
   "outputs": [],
   "source": [
    "# please install the following packages and versions\n",
    "\n",
    "#!pip install langchain==0.2.2 langchain-core==0.2.4 langchain-openai==0.1.7 wikipedia==1.4.0 langchainhub==0.1.17"
   ]
  },
  {
   "cell_type": "code",
   "execution_count": 33,
   "metadata": {},
   "outputs": [],
   "source": [
    "import os\n",
    "from dotenv import load_dotenv\n",
    "from langchain_openai import ChatOpenAI\n",
    "from langchain_core.output_parsers import StrOutputParser\n",
    "from langchain_core.prompts import PromptTemplate"
   ]
  },
  {
   "cell_type": "code",
   "execution_count": 35,
   "metadata": {},
   "outputs": [],
   "source": [
    "# set some hyperparameters for the generation\n",
    "temperature = 0.7\n",
    "kwargs = {\n",
    "    \"max_tokens\": 100,\n",
    "}\n",
    "\n",
    "ingredients = \"cauliflower, tomatoes.\"\n",
    "\n",
    "instructions_text_appetizer = \"I have the following ingredients in my fridge: \\n{ingredients}\\n\\nWhich Italian appetizer can I make for dinner with these ingredients?\"\n",
    "\n",
    "instructions_text_main = \"I am planning to make the following appetizer: \\n{appetizer}\\n\\nWhich Italian main course can I make for my dinner?\"\n",
    "\n",
    "instructions_menu_summary = \"I am planning the following recipes for my dinner: \\nAppetizer: {appetizer}\\nMain course: {main_course}\\n\\nPlease write a menu summary for my dinner.\""
   ]
  },
  {
   "cell_type": "code",
   "execution_count": 36,
   "metadata": {},
   "outputs": [
    {
     "name": "stdout",
     "output_type": "stream",
     "text": [
      "Result:  Menu Summary:\n",
      "- Appetizer: Bruschetta with Cauliflower and Tomato\n",
      "- Main Course: Spaghetti Carbonara\n",
      "\n",
      "Enjoy a delicious Italian-inspired dinner with a flavorful cauliflower and tomato bruschetta as the appetizer, followed by a classic spaghetti carbonara as the main course. Bon appétit!\n"
     ]
    }
   ],
   "source": [
    "# load env file with the OpenAI API key\n",
    "load_dotenv()\n",
    "\n",
    "# instantiate model\n",
    "model = ChatOpenAI(\n",
    "    model=\"gpt-3.5-turbo-0125\",\n",
    "    openai_api_key=os.getenv(\"OPENAI_API_KEY\"),\n",
    "    temperature=temperature,\n",
    "    **kwargs   \n",
    ") \n",
    "\n",
    "# construct prompts for our calls\n",
    "prompt_template_appetizer = PromptTemplate(\n",
    "    template = instructions_text_appetizer,\n",
    "    input_variables = ['ingredients'],\n",
    ")\n",
    "prompt_template_main = PromptTemplate(\n",
    "    template = instructions_text_main,\n",
    "    input_variables = ['appetizer'],\n",
    ")\n",
    "prompt_template_summary = PromptTemplate(\n",
    "    template = instructions_menu_summary,\n",
    "    input_variables = ['appetizer', 'main_course'],\n",
    ")\n",
    "# construct sub-chains for each course\n",
    "appetizer_chain = prompt_template_appetizer | model | StrOutputParser()\n",
    "main_chain = {\"appetizer\": appetizer_chain} | prompt_template_main | model | StrOutputParser()\n",
    "composed_chain = {\"appetizer\": appetizer_chain, \"main_course\": main_chain} | prompt_template_summary | model | StrOutputParser()\n",
    "\n",
    "# actually call the execution of the entire chain\n",
    "composed_result = composed_chain.invoke({\"ingredients\": ingredients})\n",
    "print(\"Result: \", composed_result)\n",
    "\n"
   ]
  },
  {
   "cell_type": "markdown",
   "metadata": {},
   "source": [
    "> <strong><span style=&ldquo;color:#D83D2B;&rdquo;>Exercise 5.1.1: LLM chain</span></strong>\n",
    ">\n",
    "> 1. Please look at the code above and try to understand what it does. Relevant docs about LLM calls can be found [here](https://python.langchain.com/v0.1/docs/modules/model_io/prompts/quick_start/), about chains [here](https://python.langchain.com/v0.1/docs/expression_language/primitives/sequence/).\n",
    "> 2. Add a third course to our menu! Of course, you can also play around with the other prompts and the sequence. "
   ]
  },
  {
   "cell_type": "markdown",
   "metadata": {},
   "source": [
    "### Agents\n",
    "\n",
    "In the system above, we have decomposed the task of creating a dinner menu into \"bite-sized\" pieces for LLM calls ourselves; i.e., we have specified the order and the specific pormpt for the single calls ourselves. Next, we will try to avoid these steps, and use an *agent* instead: i.e., we will pass our overall task description to an LLM and let it figure out the necessary substeps on its own. Specifically, we will use a [React agent](https://react-lm.github.io/)."
   ]
  },
  {
   "cell_type": "code",
   "execution_count": 37,
   "metadata": {},
   "outputs": [
    {
     "data": {
      "text/plain": [
       "'Answer the following questions as best you can. You have access to the following tools:\\n\\n{tools}\\n\\nUse the following format:\\n\\nQuestion: the input question you must answer\\nThought: you should always think about what to do\\nAction: the action to take, should be one of [{tool_names}]\\nAction Input: the input to the action\\nObservation: the result of the action\\n... (this Thought/Action/Action Input/Observation can repeat N times)\\nThought: I now know the final answer\\nFinal Answer: the final answer to the original input question\\n\\nBegin!\\n\\nQuestion: {input}\\nThought:{agent_scratchpad}'"
      ]
     },
     "execution_count": 37,
     "metadata": {},
     "output_type": "execute_result"
    }
   ],
   "source": [
    "# same task with agent\n",
    "from langchain import hub\n",
    "from langchain.agents import AgentExecutor\n",
    "from langchain.agents import create_react_agent\n",
    "\n",
    "# initialize the backbone model for the agent\n",
    "llm = ChatOpenAI(model=\"gpt-3.5-turbo-0125\", temperature=0.5)\n",
    "\n",
    "# Get an example prompt from langchain that was constructed for this agent architecture. you can modify this!\n",
    "prompt = hub.pull(\"hwchase17/react\")\n",
    "# inspect the prompt\n",
    "prompt.template"
   ]
  },
  {
   "cell_type": "code",
   "execution_count": 38,
   "metadata": {},
   "outputs": [
    {
     "name": "stdout",
     "output_type": "stream",
     "text": [
      "\n",
      "\n",
      "\u001b[1m> Entering new AgentExecutor chain...\u001b[0m\n",
      "\u001b[32;1m\u001b[1;3mI should think about what dishes I can make with cauliflower and tomatoes to create a well-rounded menu.\n",
      "Action: [Look up vegetarian Italian recipes using cauliflower and tomatoes]\n",
      "Action Input: Google search \"vegetarian Italian cauliflower tomato recipes\"\u001b[0m[Look up vegetarian Italian recipes using cauliflower and tomatoes] is not a valid tool, try one of [].\u001b[32;1m\u001b[1;3mI should try searching for specific dishes using cauliflower and tomatoes as ingredients instead.\n",
      "Action: [Search for vegetarian Italian cauliflower tomato recipes]\n",
      "Action Input: Google search \"vegetarian Italian cauliflower tomato recipes\"\u001b[0m[Search for vegetarian Italian cauliflower tomato recipes] is not a valid tool, try one of [].\u001b[32;1m\u001b[1;3mI should try searching for specific Italian vegetarian dishes that include cauliflower and tomatoes.\n",
      "Action: [Search for vegetarian Italian dishes with cauliflower and tomatoes]\n",
      "Action Input: Google search \"vegetarian Italian dishes with cauliflower and tomatoes\"\u001b[0m[Search for vegetarian Italian dishes with cauliflower and tomatoes] is not a valid tool, try one of [].\u001b[32;1m\u001b[1;3mI should think about classic Italian dishes that can be made vegetarian by substituting cauliflower and tomatoes.\n",
      "Action: [Brainstorm classic Italian dishes that can be made vegetarian with cauliflower and tomatoes]\n",
      "Action Input: Classic Italian dishes\u001b[0m[Brainstorm classic Italian dishes that can be made vegetarian with cauliflower and tomatoes] is not a valid tool, try one of [].\u001b[32;1m\u001b[1;3mI should consider dishes like pasta primavera, caprese salad, and eggplant parmesan that can incorporate cauliflower and tomatoes.\n",
      "Final Answer: A three-course Italian vegetarian dinner menu could include pasta primavera as an appetizer, caprese salad as a main course, and eggplant parmesan as a dessert.\u001b[0m\n",
      "\n",
      "\u001b[1m> Finished chain.\u001b[0m\n"
     ]
    },
    {
     "data": {
      "text/plain": [
       "{'input': 'Please help me come up with a three course Italian dinner menu. It should be vegetarian. I have cauliflower and tomatoes in my fridge.',\n",
       " 'output': 'A three-course Italian vegetarian dinner menu could include pasta primavera as an appetizer, caprese salad as a main course, and eggplant parmesan as a dessert.'}"
      ]
     },
     "execution_count": 38,
     "metadata": {},
     "output_type": "execute_result"
    }
   ],
   "source": [
    "# load the agent\n",
    "agent = create_react_agent(llm, tools=[], prompt=prompt)\n",
    "# initialize the agent\n",
    "agent_executor = AgentExecutor(agent=agent, tools=[], verbose=True)\n",
    "# actually call the agent with the same task as above\n",
    "agent_executor.invoke({\"input\": \"Please help me come up with a three course Italian dinner menu. It should be vegetarian. I have cauliflower and tomatoes in my fridge.\"})"
   ]
  },
  {
   "cell_type": "markdown",
   "metadata": {},
   "source": [
    "> <strong><span style=&ldquo;color:#D83D2B;&rdquo;>Exercise 5.1.2: LLM agents</span></strong>\n",
    ">\n",
    "> 1. Please look at the code above and try to understand what it does. Relevant information about agents can be found [here](https://python.langchain.com/v0.2/docs/tutorials/agents/). Please also try to get an overview of the React architecture (see link above).\n",
    "> 2. What steps does the agent (try to) perform in order to accomplish the task? How does it \"know\" which steps to do when?\n",
    "> 3. Compare the results to the chain above. Do you observe differences?"
   ]
  },
  {
   "cell_type": "markdown",
   "metadata": {},
   "source": [
    "### LangChain agent with tools\n",
    "\n",
    "As you might have seen above, the agent instantiation accepts a list of *tools* (which we have left empty above). The agent tried to make use of the tools above. This time, let us add a tool to agent -- specifically, we will provide it with a tool to call the Wikipedia API for real time searches.   "
   ]
  },
  {
   "cell_type": "code",
   "execution_count": 11,
   "metadata": {},
   "outputs": [
    {
     "name": "stdout",
     "output_type": "stream",
     "text": [
      "tools [WikipediaQueryRun(api_wrapper=WikipediaAPIWrapper(wiki_client=<module 'wikipedia' from '/opt/anaconda3/envs/understanding_llms/lib/python3.10/site-packages/wikipedia/__init__.py'>, top_k_results=3, lang='en', load_all_available_meta=False, doc_content_chars_max=4000))]\n",
      "\n",
      "\n",
      "\u001b[1m> Entering new AgentExecutor chain...\u001b[0m\n",
      "\u001b[32;1m\u001b[1;3mYou can use Wikipedia to search for vegetarian Italian dishes that include cauliflower and tomatoes.\n",
      "Action: wikipedia\n",
      "Action Input: Vegetarian Italian dishes with cauliflower and tomatoes\u001b[0m\u001b[36;1m\u001b[1;3mPage: List of vegetable dishes\n",
      "Summary: This is a list of vegetable dishes, that includes dishes in which the main ingredient or one of the essential ingredients is a vegetable or vegetables.\n",
      "In culinary terms, a vegetable is an edible plant or its part, intended for cooking or eating raw. Many vegetable-based dishes exist throughout the world.\n",
      "\n",
      "Page: Fried cauliflower\n",
      "Summary: Fried cauliflower is a popular dish in many cuisines of the Middle East, South Asia, Europe, and elsewhere. It may start from raw or cooked cauliflower; it may be dipped in batter or breading; it may be fried in oil, butter, or other fats. It can be served on its own, as a mezze or side dish, or in a sandwich. It is often seasoned with salt, spices, and a variety of sauces, in the Middle East often based on tahini or strained yogurt.\n",
      "Cauliflower in general, and fried cauliflower in particular, has become increasingly popular in the United States.\n",
      "\n",
      "Page: Italian cuisine\n",
      "Summary: Italian cuisine is a Mediterranean cuisine consisting of the ingredients, recipes and cooking techniques developed in Italy since Roman times and later spread around the world together with waves of Italian diaspora. Significant changes occurred with the colonization of the Americas and the introduction of potatoes, tomatoes, capsicums, maize and sugar beet—the latter introduced in quantity in the 18th century. It is one of the best-known and most appreciated gastronomies worldwide.\n",
      "Italian cuisine includes deeply rooted traditions common to the whole country, as well as all the regional gastronomies, different from each other, especially between the north, the centre and the south of Italy, which are in continuous exchange. Many dishes that were once regional have proliferated with variations throughout the country. Italian cuisine offers an abundance of taste, and is one of the most popular and copied around the world. The cuisine has influenced several other cuisines around the world, chiefly that of the United States in the form of Italian-American cuisine.\n",
      "One of the main characteristics of Italian cuisine is its simplicity, with many dishes made up of few ingredients, and therefore Italian cooks often rely on the quality of the ingredients, rather than the complexity of preparation. Italian cuisine is at the origin of a turnover of more than €200 billion worldwide. The most popular dishes and recipes, over the centuries, have often been created by ordinary people more so than by chefs, which is why many Italian recipes are suitable for home and daily cooking, respecting regional specificities, privileging only raw materials and ingredients from the region of origin of the dish and preserving its seasonality.\n",
      "The Mediterranean diet forms the basis of Italian cuisine, rich in pasta, fish, fruits and vegetables. Cheese, cold cuts and wine are central to Italian cuisine, and along with pizza and coffee (especially espresso) form part of Italian gastronomic culture. Desserts have a long tradition of merging local flavours such as citrus fruits, pistachio and almonds with sweet cheeses such as mascarpone and ricotta or exotic tastes as cocoa, vanilla and cinnamon. Gelato, tiramisu and cassata are among the most famous examples of Italian desserts, cakes and patisserie. Italian cuisine relies heavily on traditional products; the country has a large number of traditional specialities protected under EU law. Italy is the world's largest producer of wine, as well as the country with the widest variety of indigenous grapevine varieties in the world.\u001b[0m\u001b[32;1m\u001b[1;3mNow that I have some general information about Italian cuisine, I can search for specific vegetarian Italian dishes that include cauliflower and tomatoes.\n",
      "Action: wikipedia\n",
      "Action Input: Vegetarian Italian dishes with cauliflower and tomatoes\u001b[0m\u001b[36;1m\u001b[1;3mPage: List of vegetable dishes\n",
      "Summary: This is a list of vegetable dishes, that includes dishes in which the main ingredient or one of the essential ingredients is a vegetable or vegetables.\n",
      "In culinary terms, a vegetable is an edible plant or its part, intended for cooking or eating raw. Many vegetable-based dishes exist throughout the world.\n",
      "\n",
      "Page: Fried cauliflower\n",
      "Summary: Fried cauliflower is a popular dish in many cuisines of the Middle East, South Asia, Europe, and elsewhere. It may start from raw or cooked cauliflower; it may be dipped in batter or breading; it may be fried in oil, butter, or other fats. It can be served on its own, as a mezze or side dish, or in a sandwich. It is often seasoned with salt, spices, and a variety of sauces, in the Middle East often based on tahini or strained yogurt.\n",
      "Cauliflower in general, and fried cauliflower in particular, has become increasingly popular in the United States.\n",
      "\n",
      "Page: Italian cuisine\n",
      "Summary: Italian cuisine is a Mediterranean cuisine consisting of the ingredients, recipes and cooking techniques developed in Italy since Roman times and later spread around the world together with waves of Italian diaspora. Significant changes occurred with the colonization of the Americas and the introduction of potatoes, tomatoes, capsicums, maize and sugar beet—the latter introduced in quantity in the 18th century. It is one of the best-known and most appreciated gastronomies worldwide.\n",
      "Italian cuisine includes deeply rooted traditions common to the whole country, as well as all the regional gastronomies, different from each other, especially between the north, the centre and the south of Italy, which are in continuous exchange. Many dishes that were once regional have proliferated with variations throughout the country. Italian cuisine offers an abundance of taste, and is one of the most popular and copied around the world. The cuisine has influenced several other cuisines around the world, chiefly that of the United States in the form of Italian-American cuisine.\n",
      "One of the main characteristics of Italian cuisine is its simplicity, with many dishes made up of few ingredients, and therefore Italian cooks often rely on the quality of the ingredients, rather than the complexity of preparation. Italian cuisine is at the origin of a turnover of more than €200 billion worldwide. The most popular dishes and recipes, over the centuries, have often been created by ordinary people more so than by chefs, which is why many Italian recipes are suitable for home and daily cooking, respecting regional specificities, privileging only raw materials and ingredients from the region of origin of the dish and preserving its seasonality.\n",
      "The Mediterranean diet forms the basis of Italian cuisine, rich in pasta, fish, fruits and vegetables. Cheese, cold cuts and wine are central to Italian cuisine, and along with pizza and coffee (especially espresso) form part of Italian gastronomic culture. Desserts have a long tradition of merging local flavours such as citrus fruits, pistachio and almonds with sweet cheeses such as mascarpone and ricotta or exotic tastes as cocoa, vanilla and cinnamon. Gelato, tiramisu and cassata are among the most famous examples of Italian desserts, cakes and patisserie. Italian cuisine relies heavily on traditional products; the country has a large number of traditional specialities protected under EU law. Italy is the world's largest producer of wine, as well as the country with the widest variety of indigenous grapevine varieties in the world.\u001b[0m\u001b[32;1m\u001b[1;3mI can search specifically for Italian vegetarian dishes that include cauliflower and tomatoes.\n",
      "Action: wikipedia\n",
      "Action Input: Italian vegetarian dishes with cauliflower and tomatoes\u001b[0m\u001b[36;1m\u001b[1;3mPage: List of vegetable dishes\n",
      "Summary: This is a list of vegetable dishes, that includes dishes in which the main ingredient or one of the essential ingredients is a vegetable or vegetables.\n",
      "In culinary terms, a vegetable is an edible plant or its part, intended for cooking or eating raw. Many vegetable-based dishes exist throughout the world.\n",
      "\n",
      "Page: Fried cauliflower\n",
      "Summary: Fried cauliflower is a popular dish in many cuisines of the Middle East, South Asia, Europe, and elsewhere. It may start from raw or cooked cauliflower; it may be dipped in batter or breading; it may be fried in oil, butter, or other fats. It can be served on its own, as a mezze or side dish, or in a sandwich. It is often seasoned with salt, spices, and a variety of sauces, in the Middle East often based on tahini or strained yogurt.\n",
      "Cauliflower in general, and fried cauliflower in particular, has become increasingly popular in the United States.\n",
      "\n",
      "Page: Italian cuisine\n",
      "Summary: Italian cuisine is a Mediterranean cuisine consisting of the ingredients, recipes and cooking techniques developed in Italy since Roman times and later spread around the world together with waves of Italian diaspora. Significant changes occurred with the colonization of the Americas and the introduction of potatoes, tomatoes, capsicums, maize and sugar beet—the latter introduced in quantity in the 18th century. It is one of the best-known and most appreciated gastronomies worldwide.\n",
      "Italian cuisine includes deeply rooted traditions common to the whole country, as well as all the regional gastronomies, different from each other, especially between the north, the centre and the south of Italy, which are in continuous exchange. Many dishes that were once regional have proliferated with variations throughout the country. Italian cuisine offers an abundance of taste, and is one of the most popular and copied around the world. The cuisine has influenced several other cuisines around the world, chiefly that of the United States in the form of Italian-American cuisine.\n",
      "One of the main characteristics of Italian cuisine is its simplicity, with many dishes made up of few ingredients, and therefore Italian cooks often rely on the quality of the ingredients, rather than the complexity of preparation. Italian cuisine is at the origin of a turnover of more than €200 billion worldwide. The most popular dishes and recipes, over the centuries, have often been created by ordinary people more so than by chefs, which is why many Italian recipes are suitable for home and daily cooking, respecting regional specificities, privileging only raw materials and ingredients from the region of origin of the dish and preserving its seasonality.\n",
      "The Mediterranean diet forms the basis of Italian cuisine, rich in pasta, fish, fruits and vegetables. Cheese, cold cuts and wine are central to Italian cuisine, and along with pizza and coffee (especially espresso) form part of Italian gastronomic culture. Desserts have a long tradition of merging local flavours such as citrus fruits, pistachio and almonds with sweet cheeses such as mascarpone and ricotta or exotic tastes as cocoa, vanilla and cinnamon. Gelato, tiramisu and cassata are among the most famous examples of Italian desserts, cakes and patisserie. Italian cuisine relies heavily on traditional products; the country has a large number of traditional specialities protected under EU law. Italy is the world's largest producer of wine, as well as the country with the widest variety of indigenous grapevine varieties in the world.\u001b[0m\u001b[32;1m\u001b[1;3mI now know that Italian cuisine is rich in pasta, fish, fruits, and vegetables. I can create a three-course vegetarian Italian dinner menu using cauliflower and tomatoes as the main ingredients.\n",
      "Final Answer: For the vegetarian Italian dinner menu, you can start with a Caprese salad with tomatoes and fresh mozzarella, followed by a main course of cauliflower risotto, and finish with a dessert of panna cotta with a tomato compote.\u001b[0m\n",
      "\n",
      "\u001b[1m> Finished chain.\u001b[0m\n"
     ]
    },
    {
     "data": {
      "text/plain": [
       "{'input': 'Please help me come up with a three course Italian dinner menu. It should be vegetarian. I have cauliflower and tomatoes in my fridge.',\n",
       " 'output': 'For the vegetarian Italian dinner menu, you can start with a Caprese salad with tomatoes and fresh mozzarella, followed by a main course of cauliflower risotto, and finish with a dessert of panna cotta with a tomato compote.'}"
      ]
     },
     "execution_count": 11,
     "metadata": {},
     "output_type": "execute_result"
    }
   ],
   "source": [
    "from langchain.agents import load_tools\n",
    "tools = load_tools([\"wikipedia\"], llm=llm)\n",
    "print('tools',  tools)\n",
    "\n",
    "# create an agent with tools\n",
    "agent_with_tools = create_react_agent(llm, tools=tools, prompt=prompt)\n",
    "\n",
    "# instantiate and call the agent\n",
    "agent_executor = AgentExecutor(agent=agent_with_tools, tools=tools, verbose=True)\n",
    "agent_executor.invoke({\"input\": \"Please help me come up with a three course Italian dinner menu. It should be vegetarian. I have cauliflower and tomatoes in my fridge.\"})"
   ]
  },
  {
   "cell_type": "markdown",
   "metadata": {},
   "source": [
    "> <strong><span style=&ldquo;color:#D83D2B;&rdquo;>Exercise 5.1.3: LLM agents with tools</span></strong>\n",
    ">\n",
    "> 1. Please look at the code above and try to understand what it does. A list of various tools can be found here [here](https://python.langchain.com/v0.1/docs/integrations/tools/). \n",
    "> 2. What steps does the agent (try to) perform in order to accomplish the task? How does it \"know\" which steps to do when? When does it execute searhces?\n",
    "> 3. Compare the results to the chain above. Do you observe differences?\n",
    "> 4. Is the Wikipedia tool a good choice for the task at hand? What else might we consider?"
   ]
  },
  {
   "cell_type": "markdown",
   "metadata": {},
   "source": [
    "## Output parsing\n",
    "\n",
    "One of the core bottlenecks of chaining LLM calls is the potential necessity to *process outputs* in aspecific (structured) way. [This](https://python.langchain.com/v0.2/docs/how_to/structured_output/) page provides an overview of how this can be approached.\n",
    "\n",
    "**TODO:** LMQL and https://github.com/microsoft/aici"
   ]
  },
  {
   "cell_type": "markdown",
   "metadata": {},
   "source": [
    "## Memory handling\n",
    "\n",
    "One of the main issues of agents is that they are by default *stateless*; i.e., at each step of execution there is no memory of what happened before. This is handled by adding *memory components*. An overview of this can be found [here]([/v0.2/docs/tutorials/agents/#adding-in-memory](https://python.langchain.com/v0.2/docs/tutorials/agents/#adding-in-memory))."
   ]
  },
  {
   "cell_type": "markdown",
   "metadata": {},
   "source": [
    "> <strong><span style=&ldquo;color:#D83D2B;&rdquo;>Exercise 5.1.4: Memory</span></strong>\n",
    ">\n",
    "> 1. Take a look at the approach for handling message memory above. Recall the *generative agnet* architecture that was discussed in the lecture. What is the difference between this simple approach and the memory implementation in the generative agents? What are respective (dis)advantages of either approach?"
   ]
  },
  {
   "cell_type": "markdown",
   "metadata": {},
   "source": []
  }
 ],
 "metadata": {
  "kernelspec": {
   "display_name": "understanding_llms",
   "language": "python",
   "name": "python3"
  },
  "language_info": {
   "codemirror_mode": {
    "name": "ipython",
    "version": 3
   },
   "file_extension": ".py",
   "mimetype": "text/x-python",
   "name": "python",
   "nbconvert_exporter": "python",
   "pygments_lexer": "ipython3",
   "version": "3.10.14"
  }
 },
 "nbformat": 4,
 "nbformat_minor": 2
}
