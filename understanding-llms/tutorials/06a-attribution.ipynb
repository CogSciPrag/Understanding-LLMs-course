{
 "cells": [
  {
   "cell_type": "markdown",
   "metadata": {},
   "source": [
    "Sheet 6.1 LLM probing & attribution\n",
    "========\n",
    "**Author:** Polina Tsvilodub"
   ]
  },
  {
   "cell_type": "markdown",
   "metadata": {},
   "source": [
    "In this sheet, we will familiarize ourselves with some methods of looking \"under the hood\" of transformers. In particular, we will see how we can visualize and trace which inputs are processed where in the model and how they contribute to the output, and what kinds of information is processed. Specifically, the learning goals for this sheet are:\n",
    "\n",
    "* familiarization with transformer attention visualization for inspecting attention patterns\n",
    "* understanding how to extract representations of a model from different layers \n",
    "* familiarization with probing of a transformer's syntactic 'knowledge'."
   ]
  },
  {
   "cell_type": "markdown",
   "metadata": {},
   "source": [
    "## Attention visualization\n",
    "\n",
    "One of the core processing mechanisms in the transformer is the attention mechanism. As discussed in the lecture on transformers, depending on the architecture of the model, there might be various attention blocks: \n",
    "* if the model is an encoder-only model (e.g., BERT), it has encoder self-attention; \n",
    "* if it is a decoder-only model (e.g., all GPT models), it has a decoder (i.e., causal) self-attention; \n",
    "* if it is an encoder-decoder model (e.g., translation models, architectures like T5), it has those and additionally cross-attention between the encoder and the decoder.\n",
    "\n",
    "\n",
    "First, we will inspect attention visualizations, which indicate the magnitudes of attention scores between a specific token $i$ and other tokens. (Reminder: the scores are computed as the dot product of the $i$ token's query vecor and the other tokens' key vectors.) Intuitively, the larger a score, the more will the respective representation of some other token contribute to predicting the output based on $i$.\n",
    "\n",
    "First, we will explore the example from the lecture (slide 46) hands-on. In the example, a sequence-to-sequence (i.e., encoder-decoder) model is used for translation the English sentence \"The brown dog ran.\" into the French sentence \"Le chien brun a couru.\". We will load the [FLAN-T5 small model](https://huggingface.co/google/flan-t5-small), a seq2seq model fine-tuned to follow various task instructions (including translation). \n",
    "\n",
    "We will use the package [BertViz](https://github.com/jessevig/bertviz) for the visualization. It allows to explore parts of the model interactively, i.e., select specific model parts (e.g., encoder or decoder), specific layers (i.e., attention layers in transformer blocks), and attention heads."
   ]
  },
  {
   "cell_type": "code",
   "execution_count": null,
   "metadata": {},
   "outputs": [],
   "source": [
    "# install the packages required for running the visualization\n",
    "#!pip install bertviz ipywidgets"
   ]
  },
  {
   "cell_type": "code",
   "execution_count": null,
   "metadata": {},
   "outputs": [],
   "source": [
    "# import packages\n",
    "from transformers import AutoTokenizer, AutoModelForSeq2SeqLM\n",
    "from bertviz import model_view, head_view"
   ]
  },
  {
   "cell_type": "code",
   "execution_count": null,
   "metadata": {},
   "outputs": [],
   "source": [
    "# load the model\n",
    "tokenizer = AutoTokenizer.from_pretrained(\"google/flan-t5-small\")\n",
    "model_t5 = AutoModelForSeq2SeqLM.from_pretrained(\"google/flan-t5-small\")"
   ]
  },
  {
   "cell_type": "code",
   "execution_count": null,
   "metadata": {},
   "outputs": [],
   "source": [
    "# define input and target\n",
    "input_ids = tokenizer.encode(\"Translate to French: The brown dog ran.\", return_tensors=\"pt\")\n",
    "target_ids = tokenizer.encode(\"Le chien brun a couru.\", return_tensors=\"pt\")\n",
    "# Run model and get the attentions by setting output_attentions=True\n",
    "output = model_t5(input_ids=input_ids, labels=target_ids, output_attentions=True, return_dict=True) \n",
    "\n",
    "\n",
    "# we will need to pass the attiontion to the visualization function\n",
    "# therefore, we look at the output of the model to see how to access the attention scores\n",
    "print(output.keys())"
   ]
  },
  {
   "cell_type": "code",
   "execution_count": null,
   "metadata": {},
   "outputs": [],
   "source": [
    "# we retrieve various attention scores from the output\n",
    "encoder_attention = output.encoder_attentions\n",
    "cross_attention = output.cross_attentions\n",
    "decoder_attention = output.decoder_attentions\n",
    "\n",
    "# furthermore, for ease of interpreting the visualization, we convert the token ids to string corresponding to those tokens\n",
    "input_tokens = tokenizer.convert_ids_to_tokens(input_ids[0]) \n",
    "decoder_tokens = tokenizer.convert_ids_to_tokens(target_ids[0])"
   ]
  },
  {
   "cell_type": "code",
   "execution_count": null,
   "metadata": {},
   "outputs": [],
   "source": [
    "# now we use the overall model attention visualization\n",
    "# select the attention parts you want to look at via the drop-down\n",
    "# click on the facets to zoom in on the attention heads in a specific layer\n",
    "model_view(\n",
    "    encoder_attention=encoder_attention,\n",
    "    decoder_attention=decoder_attention,\n",
    "    cross_attention=cross_attention,\n",
    "    encoder_tokens= input_tokens,\n",
    "    decoder_tokens = decoder_tokens\n",
    ")"
   ]
  },
  {
   "cell_type": "markdown",
   "metadata": {},
   "source": [
    "Now, we zoom in on the encoder attention which is used to create representations of the instruction + source sentence. Therefore, we inspect the `encoder_attention` below."
   ]
  },
  {
   "cell_type": "code",
   "execution_count": null,
   "metadata": {},
   "outputs": [],
   "source": [
    "# there is a also a head view that allows you to look at the attention of a single head \n",
    "# which can be selected by double-clicking on the colored tile\n",
    "# for a single layer (can be selected via the drop-down)\n",
    "head_view(encoder_attention, input_tokens)"
   ]
  },
  {
   "cell_type": "markdown",
   "metadata": {},
   "source": [
    "Next, we look at the *cross-attention*, i.e., the attention weights computed based on query vectors of the decoder representations and key vectors from the encoder. Intuitively, these represent the importance of input representations (the English sentence) for computing the output (French sentence)."
   ]
  },
  {
   "cell_type": "code",
   "execution_count": null,
   "metadata": {},
   "outputs": [],
   "source": [
    "# by default, the head view visualizes self-attention (i.e., attention between the same tokens). \n",
    "# For cross-attention, one should specify the cross_attention parameters\n",
    "head_view(\n",
    "    cross_attention=cross_attention, \n",
    "    encoder_tokens=input_tokens, \n",
    "    decoder_tokens=decoder_tokens\n",
    ")"
   ]
  },
  {
   "cell_type": "markdown",
   "metadata": {},
   "source": [
    "> <strong><span style=&ldquo;color:#D83D2B;&rdquo;>Exercise 6.1.1: Interpreting attention scores</span></strong>\n",
    ">\n",
    "> 1. Inspect the visualization above. How many layers does the model have? How many attention heads per layer are there? Access visualizations of scores of a single attention head. Do you observe any interesting patterns across layers and / or attention heads? \n",
    "> 2. Consider the input \"What is the capital of France?\" and output \"The capital is Paris\". Intuitively, which token do you think will receive high attention scores in which part of the model, from which tokens? Complete the code below and inspect the output. Do the results match your intuition?\n",
    "> 3. Use the functions above to inspect decoder attention. Make sure you identify the causal part of the attention scores."
   ]
  },
  {
   "cell_type": "markdown",
   "metadata": {},
   "source": [
    "Finally, the package also offer a *neuron view* which allows to inspect the query and key vectors, i.e., the full process of computing the attention scores. It is only supported for a few models; for purposes of an example, please inspect the  notebook provided by BertViz [here](https://colab.research.google.com/drive/1m37iotFeubMrp9qIf9yscXEL1zhxTN2b)."
   ]
  },
  {
   "cell_type": "markdown",
   "metadata": {},
   "source": [
    "## Attribution methods \n",
    "\n",
    "Looking at attention as we have seen above provides a window into seeing \"post-hoc\" traces of how a model arrives at a given output, given the input. Yet as discussed in the lecture, these results should be treated carefully and cannot be fully seen as explanations of *why* a model arrived at the give output.\n",
    "\n",
    "For addressing this question more carefully, alternative methods have been develop which attempt to identify aspects of the input that are crucial for generating the particular prediction. This might help gain insights in, e.g., whether the model is sensitive to spurious aspects of the prompt etc. \n",
    "There are different methods for doing so, and the lecture mentioned integrated gradients as one method that would be applicable to LMs. The code below provides examples of using a few slightly different approaches for attributing predictions to input features, specifically: \n",
    "* Gradient tracing\n",
    "\n",
    "We will use the package [`inseq`](https://inseq.org/en/latest/) for looking at these different attribution techniques. It supports seq2seq and causal models available through HuggingFace. It supports:\n",
    "* gradient-based methods\n",
    "  * Gradient-based methods use backpropagation through the network and the resulting gradients to assess the contribution of individual features.\n",
    "* perturbation-based methods\n",
    "  * Perturbation-based methods change or obscure the input and observe the changes in the output.\n",
    "* as well as attention weight extraction methods (similar to what we have seen above).\n",
    "\n",
    "To use these various attribution methods, the core endpoint for the package is to call `inseq.load_model(<HF model name>, <method>)`, allowing to use a specific method on models from HF. \n",
    "\n",
    "The code below walks through an example of using *integrated gradients* (discussed in the lecture) and more *contrastive explanation* methods using GPT-2. Contrastive explanation refers to the idea of comparing the attributions for a target output text A to a different *contrastive* output B, in order to answer the question \"How much is feature X contributing to predicting A rather than B?\" The latter will use a saliency attribution method which simply returns the absolute value of the gradients with respect to inputs."
   ]
  },
  {
   "cell_type": "code",
   "execution_count": null,
   "metadata": {},
   "outputs": [],
   "source": [
    "# install the package\n",
    "#!pip install inseq"
   ]
  },
  {
   "cell_type": "code",
   "execution_count": null,
   "metadata": {},
   "outputs": [],
   "source": [
    "import inseq\n",
    "# load GPT-2 and hook it with the integrated gradients method\n",
    "model = inseq.load_model(\"gpt2\", \"integrated_gradients\")\n",
    "\n",
    "# Generate the output for input_texts and attribute inputs at every steps of the generation\n",
    "out = model.attribute(input_texts=\"The capital of France is \")\n",
    "\n",
    "# Visualize the attributions and step scores\n",
    "out.show()"
   ]
  },
  {
   "cell_type": "code",
   "execution_count": null,
   "metadata": {},
   "outputs": [],
   "source": [
    "# we can also pass a generated text for a given input text to answer the question\n",
    "# “How would the following output be justified in light of the inputs by the model?”\n",
    "\n",
    "out_with_generated = model.attribute(\n",
    "    input_texts=\"The capital of France is\", \n",
    "    generated_texts=\"The capital of France is Paris.\"\n",
    ")\n",
    "out_with_generated.show()\n",
    "# there are more parameters that allow to customize the attributions even further\n",
    "# see, e.g., here: https://inseq.org/en/latest/examples/quickstart.html"
   ]
  },
  {
   "cell_type": "code",
   "execution_count": null,
   "metadata": {},
   "outputs": [],
   "source": [
    "# Perform the contrastive attribution:\n",
    "# Regular (forced) target -> \"The capital of France is Paris.\"\n",
    "# Contrastive (incorrect) target -> \"The capital of France is Berlin.\"\n",
    "\n",
    "# for this method, integrated gradients are actually not supported yet\n",
    "# therefore, we look at the saliency based attribution method here\n",
    "attribution_model = inseq.load_model(\"gpt2\", \"saliency\")\n",
    "\n",
    "out_contrastive = attribution_model.attribute(\n",
    "    \"The capital of France is\",\n",
    "    \"The capital of France is Paris.\",\n",
    "    attributed_fn=\"contrast_prob_diff\",\n",
    "    # Special argument to specify the contrastive target, used by the contrast_prob_diff function\n",
    "    contrast_targets=\"The capital of France is Berlin.\",\n",
    "    attribute_target=True,\n",
    "    # We also visualize the score used as target using the same function as step score\n",
    "    step_scores=[\"contrast_prob_diff\"]\n",
    ")\n",
    "\n",
    "out_contrastive.show()"
   ]
  },
  {
   "cell_type": "markdown",
   "metadata": {},
   "source": [
    "> <strong><span style=&ldquo;color:#D83D2B;&rdquo;>Exercise 6.1.3: Feature attribution</span></strong>\n",
    ">\n",
    "> 1. Try the examples above for a few other inputs. Do the results match your intuition? I.e., do those features contribute to a particular prediction that you would expect?\n",
    "> 2. Implement the examples above for the FLAN-T5-small model that we ahve seen above and run the attribution for the same translation example. How do the results compare to your attention visualization results?"
   ]
  },
  {
   "cell_type": "markdown",
   "metadata": {},
   "source": [
    "## Probing\n",
    "\n",
    "This approach attempts to identify whether certain kinds of (linguistic) information is contained in a pre-trained model's representations. One of the ideas behind this approach is trying to identify whether information that humans deem to be critical for completing linguistic tasks (e.g., knowing which part-of-speech (POS) a certain word is) is actually represented, and therefore, potentially used, by the model (rather than relying on some spurious correlations). Another motivation is trying to identify in which layers in the model which information is represented ([Tenney et al., 2019](https://aclanthology.org/P19-1452.pdf)).\n",
    "\n",
    "Below, we will look at probing BERT for POS representations (as demonstrated on slide 75).\n",
    "\n",
    "The following exercise code is largely taken from [this](https://colab.research.google.com/github/SIDN-IAP/global-model-repr/blob/master/notebooks/probing_exercise_student.ipynb) notebook.\n",
    "\n",
    "For training the classifier and evaluating the representations we will use data files called \"en-ud*\" which can be found [here](https://github.com/CogSciPrag/Understanding-LLMs-course/tree/main/understanding-llms/tutorials/files). If you are using this notebook on Colab, please upload these to a local directory (same as notebook location) named `files`.  "
   ]
  },
  {
   "cell_type": "code",
   "execution_count": null,
   "metadata": {},
   "outputs": [],
   "source": [
    "# !pip install spacy ftfy==4.4.3\n",
    "# !python -m spacy download en"
   ]
  },
  {
   "cell_type": "code",
   "execution_count": null,
   "metadata": {},
   "outputs": [],
   "source": [
    "import torch\n",
    "from transformers import BertTokenizer, BertModel\n",
    "import numpy as np\n",
    "import sys\n",
    "import os"
   ]
  },
  {
   "cell_type": "code",
   "execution_count": null,
   "metadata": {},
   "outputs": [],
   "source": [
    "if torch.cuda.is_available():\n",
    "    device = torch.device('cuda')\n",
    "elif torch.backends.mps.is_available():\n",
    "    device = torch.device(\"mps\")\n",
    "else:\n",
    "    device = torch.device('cpu')"
   ]
  },
  {
   "cell_type": "code",
   "execution_count": null,
   "metadata": {},
   "outputs": [],
   "source": [
    "# utils\n",
    "\n",
    "DATA_DIR = \"files\"\n",
    "UD_EN_PREF = \"en-ud-\"\n",
    "\n",
    "def get_model_and_tokenizer(model_name, device, random_weights=False):\n",
    "\n",
    "    if model_name.startswith('bert'):\n",
    "        model = BertModel.from_pretrained(model_name, output_hidden_states=True).to(device)\n",
    "        tokenizer = BertTokenizer.from_pretrained(model_name)\n",
    "        sep = '##'\n",
    "        emb_dim = 1024 if \"large\" in model_name else 768\n",
    "    else:\n",
    "        raise ValueError('Unrecognized model name:', model_name)\n",
    "\n",
    "    if random_weights:\n",
    "        print('Randomizing weights')\n",
    "        model.init_weights()\n",
    "\n",
    "    return model, tokenizer, sep, emb_dim\n",
    "\n",
    "# this follows the HuggingFace API for pytorch-transformers\n",
    "def get_sentence_repr(sentence, model, tokenizer, sep, model_name, device):\n",
    "    \"\"\"\n",
    "    Get representations for one sentence\n",
    "    \"\"\"\n",
    "\n",
    "    with torch.no_grad():\n",
    "        ids = tokenizer.encode(sentence)\n",
    "        input_ids = torch.tensor([ids]).to(device)\n",
    "        # Hugging Face format: list of torch.FloatTensor of shape (batch_size, sequence_length, hidden_size) (hidden_states at output of each layer plus initial embedding outputs)\n",
    "        all_hidden_states = model(input_ids)[-1]\n",
    "        # convert to format required for contexteval: numpy array of shape (num_layers, sequence_length, representation_dim)\n",
    "        all_hidden_states = [hidden_states[0].cpu().numpy() for hidden_states in all_hidden_states]\n",
    "        all_hidden_states = np.array(all_hidden_states)\n",
    "\n",
    "    # For each word, take the representation of its last sub-word\n",
    "    segmented_tokens = tokenizer.convert_ids_to_tokens(ids)\n",
    "    assert len(segmented_tokens) == all_hidden_states.shape[1], 'incompatible tokens and states'\n",
    "    mask = np.full(len(segmented_tokens), False)\n",
    "\n",
    "    if model_name.startswith('bert'):\n",
    "        # if next token is not a continuation, take current token's representation\n",
    "        for i in range(len(segmented_tokens)-1):\n",
    "            if segmented_tokens[i] == \"[CLS]\" or segmented_tokens[i] == \"[SEP]\":\n",
    "                continue\n",
    "            if not segmented_tokens[i+1].startswith(sep):\n",
    "                mask[i] = True\n",
    "    else:\n",
    "        raise ValueError('Unrecognized model name:', model_name)\n",
    "\n",
    "    all_hidden_states = all_hidden_states[:, mask]\n",
    "\n",
    "    return all_hidden_states\n",
    "\n",
    "\n",
    "def get_pos_data(probing_dir=\".\", frac=1.0, device='cpu'):\n",
    "\n",
    "    return get_data(\"pos\", probing_dir=probing_dir, frac=frac, device=device)\n",
    "\n",
    "\n",
    "def get_data(data_type, probing_dir=\".\", data_pref=UD_EN_PREF, frac=1.0, device='cpu'):\n",
    "    with open(os.path.join(probing_dir, DATA_DIR, data_pref + \"train.txt\")) as f:\n",
    "        train_sentences = [line.strip().split() for line in f.readlines()]\n",
    "    with open(os.path.join(probing_dir, DATA_DIR, data_pref + \"test.txt\")) as f:\n",
    "        test_sentences = [line.strip().split() for line in f.readlines()]\n",
    "\n",
    "    with open(os.path.join(probing_dir, DATA_DIR, data_pref + \"train.\" + data_type)) as f:\n",
    "        train_labels = [line.strip().split() for line in f.readlines()]\n",
    "    with open(os.path.join(probing_dir, DATA_DIR, data_pref + \"test.\" + data_type)) as f:\n",
    "        test_labels = [line.strip().split() for line in f.readlines()]\n",
    "\n",
    "    # take a fraction of the data\n",
    "    train_sentences = train_sentences[:round(len(train_sentences)*frac)]\n",
    "    test_sentences = test_sentences[:round(len(test_sentences)*frac)]\n",
    "    train_labels = train_labels[:round(len(train_labels)*frac)]\n",
    "    test_labels = test_labels[:round(len(test_labels)*frac)]\n",
    "\n",
    "    unique_labels = list(set.union(*[set(l) for l in train_labels + test_labels ]))\n",
    "    label2index = dict()\n",
    "    for label in unique_labels:\n",
    "        label2index[label] = label2index.get(label, len(label2index))\n",
    "\n",
    "    train_labels = [[label2index[l] for l in labels] for labels in train_labels]\n",
    "    test_labels = [[label2index[l] for l in labels] for labels in test_labels]\n",
    "    \n",
    "    return train_sentences, train_labels, test_sentences, test_labels, label2index"
   ]
  },
  {
   "cell_type": "code",
   "execution_count": null,
   "metadata": {},
   "outputs": [],
   "source": [
    "# load the data\n",
    "train_sentences, train_labels, test_sentences, test_labels, label2index = get_pos_data() # frac=0.1\n",
    "num_labels = len(label2index)\n",
    "print(\"Training sentences:\", len(train_sentences))\n",
    "print(\"Unique labels:\", num_labels)"
   ]
  },
  {
   "cell_type": "code",
   "execution_count": null,
   "metadata": {},
   "outputs": [],
   "source": [
    "# inspect \n",
    "label2index"
   ]
  },
  {
   "cell_type": "markdown",
   "metadata": {},
   "source": [
    "A probing experiment also requires a probing model, also known as an auxiliary classifier. Here we define a simple linear classifier, which takes a word representation as input and applies a linear transformation to map it to the label space. "
   ]
  },
  {
   "cell_type": "code",
   "execution_count": null,
   "metadata": {},
   "outputs": [],
   "source": [
    "class Classifier(torch.nn.Module):\n",
    "    \n",
    "    def __init__(self, input_dim, output_dim):\n",
    "        super(Classifier, self).__init__()\n",
    "        \n",
    "        self.linear = torch.nn.Linear(input_dim, output_dim)\n",
    "        \n",
    "    def forward(self, input):\n",
    "        output = self.linear(input)\n",
    "        return output\n",
    "    \n",
    "    \n",
    "def build_classifier(emb_dim, num_labels, device='cpu'):\n",
    "\n",
    "    classifier = Classifier(emb_dim, num_labels).to(device)\n",
    "    criterion = torch.nn.CrossEntropyLoss().to(device)\n",
    "    optimizer = torch.optim.Adam(classifier.parameters())\n",
    "\n",
    "    return classifier, criterion, optimizer\n",
    "\n",
    "\n",
    "\n",
    "model_name = 'bert-base-cased'\n",
    "# get model and tokenizer from Transformers\n",
    "model, tokenizer, sep, emb_dim = get_model_and_tokenizer(model_name, device)\n",
    "# build classifier\n",
    "classifier, criterion, optimizer = build_classifier(emb_dim, num_labels, device)"
   ]
  },
  {
   "cell_type": "code",
   "execution_count": null,
   "metadata": {},
   "outputs": [],
   "source": [
    "print(model)"
   ]
  },
  {
   "cell_type": "code",
   "execution_count": null,
   "metadata": {},
   "outputs": [],
   "source": [
    "print(classifier)"
   ]
  },
  {
   "cell_type": "markdown",
   "metadata": {},
   "source": [
    "### Training\n",
    "\n",
    "Given a pre-trained model, a probing classifier, and supervised linguistic annotations (i.e., POS tags), we can run a probing experiment. First, we'll define a training function that trains the classifier on the tags. This is a simple implementation, but one could implement various checks like early stopping on a development set, etc. "
   ]
  },
  {
   "cell_type": "code",
   "execution_count": null,
   "metadata": {},
   "outputs": [],
   "source": [
    "def train(\n",
    "    num_epochs, \n",
    "    train_representations, \n",
    "    train_labels, \n",
    "    model, \n",
    "    tokenizer, \n",
    "    sep, \n",
    "    model_name, \n",
    "    device, \n",
    "    classifier, \n",
    "    criterion, \n",
    "    optimizer, \n",
    "    batch_size=32\n",
    "):\n",
    "    \n",
    "    num_total = train_representations.shape[0] \n",
    "    for i in range(num_epochs):\n",
    "        total_loss = 0.\n",
    "        num_correct = 0.\n",
    "        for batch in range(0, num_total, batch_size):\n",
    "            batch_repr = train_representations[batch: batch+batch_size]\n",
    "            batch_labels = train_labels[batch: batch+batch_size]\n",
    "\n",
    "            optimizer.zero_grad()\n",
    "            \n",
    "            out = classifier(batch_repr)\n",
    "            pred = out.max(1)[1]\n",
    "            num_correct += pred.long().eq(batch_labels.long()).cpu().sum().item()\n",
    "            loss = criterion(out, batch_labels)\n",
    "            total_loss += loss.item()\n",
    "\n",
    "            loss.backward()\n",
    "            optimizer.step()\n",
    "#         print('Training epoch: {}, loss: {}, accuracy: {}'.format(i, total_loss/num_total, num_correct/num_total))\n",
    "    return total_loss/num_total, num_correct/num_total"
   ]
  },
  {
   "cell_type": "markdown",
   "metadata": {},
   "source": [
    "### Evaluation\n",
    "\n",
    "Given the trained classifier, we'll evaluate its performance on the test set."
   ]
  },
  {
   "cell_type": "code",
   "execution_count": null,
   "metadata": {},
   "outputs": [],
   "source": [
    "def evaluate(\n",
    "    test_representations, \n",
    "    test_labels, \n",
    "    model, \n",
    "    tokenizer, \n",
    "    sep, \n",
    "    model_name, \n",
    "    device, \n",
    "    classifier, \n",
    "    criterion, \n",
    "    batch_size=32\n",
    "):\n",
    "    \n",
    "    num_correct = 0.\n",
    "    num_total = test_representations.shape[0]\n",
    "    total_loss = 0.\n",
    "    with torch.no_grad():\n",
    "        for batch in range(0, num_total, batch_size):\n",
    "            batch_repr = test_representations[batch: batch+batch_size]\n",
    "            batch_labels = test_labels[batch: batch+batch_size]\n",
    "            \n",
    "            out = classifier(batch_repr)\n",
    "            pred = out.max(1)[1]\n",
    "            num_correct += pred.long().eq(batch_labels.long()).cpu().sum().item()\n",
    "            total_loss += criterion(out, batch_labels)\n",
    "\n",
    "#     print('Testing loss: {}, accuracy: {}'.format(total_loss/num_total, num_correct/num_total))\n",
    "    return total_loss/num_total, num_correct/num_total"
   ]
  },
  {
   "cell_type": "markdown",
   "metadata": {},
   "source": [
    "Now we put together the functions and perform a probing experiment:\n",
    "\n",
    "1. We retrieve word representations from each layer of the model.\n",
    "2. Train and evaluate the linear classifier, first only on the last-layer representations."
   ]
  },
  {
   "cell_type": "code",
   "execution_count": null,
   "metadata": {},
   "outputs": [],
   "source": [
    "# top-level list: sentences, second-level lists: layers, third-level tensors of num_words x representation_dim\n",
    "train_sentence_representations = [get_sentence_repr(sentence, model, tokenizer, sep, model_name, device) \n",
    "                                  for sentence in train_sentences]\n",
    "test_sentence_representations = [get_sentence_repr(sentence, model, tokenizer, sep, model_name, device) \n",
    "                                  for sentence in test_sentences]\n",
    "\n",
    "# top-level list: layers, second-level lists: sentences\n",
    "train_sentence_representations = [list(l) for l in zip(*train_sentence_representations)]\n",
    "test_sentence_representations = [list(l) for l in zip(*test_sentence_representations)]                           \n",
    "\n",
    "# concatenate all word represenations\n",
    "train_representations_all = [torch.tensor(np.concatenate(train_layer_representations, 0)).to(device) for train_layer_representations in train_sentence_representations]\n",
    "test_representations_all = [torch.tensor(np.concatenate(test_layer_representations, 0)).to(device) for test_layer_representations in test_sentence_representations]\n",
    "# concatenate all labels\n",
    "train_labels_all = torch.tensor(np.concatenate(train_labels, 0)).to(device)\n",
    "test_labels_all = torch.tensor(np.concatenate(test_labels, 0)).to(device)"
   ]
  },
  {
   "cell_type": "code",
   "execution_count": null,
   "metadata": {},
   "outputs": [],
   "source": [
    "# Take final layer representations\n",
    "train_representations = train_representations_all[-1]\n",
    "test_representations = test_representations_all[-1]\n",
    "\n",
    "# train\n",
    "train_loss, train_accuracy = train(10, train_representations, train_labels_all, \n",
    "          model, tokenizer, sep, model_name, device, \n",
    "          classifier, criterion, optimizer)\n",
    "# test\n",
    "test_loss, test_accuracy = evaluate(test_representations, test_labels_all, \n",
    "         model, tokenizer, sep, model_name, device, \n",
    "         classifier, criterion)\n",
    "print(\"Train accuracy: {}, Test accuracy: {}\".format(train_accuracy, test_accuracy))"
   ]
  },
  {
   "cell_type": "markdown",
   "metadata": {},
   "source": [
    "> <strong><span style=&ldquo;color:#D83D2B;&rdquo;>Exercise 6.1.2: Probing</span></strong>\n",
    ">\n",
    "> 1. Run the code above and inspect the testing results. Based on these, do you think the model learned representations of parts-of-speech?\n",
    "> 2. Run another round of training based on representations from some earlier layer of the model. Do you observe any differences? If yes, interpret them with respect to what the model's representations seem to encode.\n",
    "> 3. [Optional] Instead of using a linear classifier, try to set up a (simple) non-linear classifier. Do the results change?"
   ]
  }
 ],
 "metadata": {
  "kernelspec": {
   "display_name": "understanding_llms",
   "language": "python",
   "name": "python3"
  },
  "language_info": {
   "codemirror_mode": {
    "name": "ipython",
    "version": 3
   },
   "file_extension": ".py",
   "mimetype": "text/x-python",
   "name": "python",
   "nbconvert_exporter": "python",
   "pygments_lexer": "ipython3",
   "version": "3.10.14"
  }
 },
 "nbformat": 4,
 "nbformat_minor": 2
}
