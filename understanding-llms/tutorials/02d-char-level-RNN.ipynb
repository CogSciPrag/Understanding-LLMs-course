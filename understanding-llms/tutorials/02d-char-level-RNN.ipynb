{
 "cells": [
  {
   "cell_type": "markdown",
   "metadata": {},
   "source": [
    "Sheet 2.4: Character-level sequence modeling w/ RNNs\n",
    "====================================================\n",
    "\n",
    "**Author:** Michael Franke\n",
    "\n"
   ]
  },
  {
   "cell_type": "markdown",
   "metadata": {},
   "source": [
    "The goal of this tutorial is to get familiar with simple language models.\n",
    "To be able to have a manageable (quick to train, evaluate, inspect) case study, we look at character-level predictions of surnames from different languages.\n",
    "(The inspiration and source of this notebook is [this tutorial](https://pytorch.org/tutorials/intermediate/char_rnn_generation_tutorial.html) from PyTorch&rsquo;s documentation.)\n",
    "\n"
   ]
  },
  {
   "cell_type": "markdown",
   "metadata": {},
   "source": [
    "## Packages & global parameters\n",
    "\n"
   ]
  },
  {
   "cell_type": "markdown",
   "metadata": {},
   "source": [
    "In addition to the usual packages for neural network modeling, we will also require packages for I/O and string handling.\n",
    "\n"
   ]
  },
  {
   "cell_type": "code",
   "execution_count": 3,
   "metadata": {},
   "outputs": [],
   "source": [
    "##################################################\n",
    "## import packages\n",
    "##################################################\n",
    "\n",
    "from __future__ import unicode_literals, print_function, division\n",
    "import json\n",
    "import pandas\n",
    "import string\n",
    "import torch\n",
    "import urllib.request\n",
    "import numpy as np\n",
    "import torch.nn as nn\n",
    "import random\n",
    "import time\n",
    "import math\n",
    "import matplotlib.pyplot as plt\n",
    "import warnings\n",
    "\n",
    "warnings.filterwarnings(\"ignore\")"
   ]
  },
  {
   "cell_type": "markdown",
   "metadata": {},
   "source": [
    "## Loading & inspecting the data\n",
    "\n"
   ]
  },
  {
   "cell_type": "markdown",
   "metadata": {},
   "source": [
    "Our training data are lists of surnames from different countries.\n",
    "We will use this data set to train a model that predicts a name, given the country as a prompt.\n",
    "\n",
    "The (pre-processed) data is stored in a JSON file.\n",
    "We load it and define a few useful variables for later use.\n",
    "\n"
   ]
  },
  {
   "cell_type": "code",
   "execution_count": 4,
   "metadata": {},
   "outputs": [],
   "source": [
    "\n",
    "##################################################\n",
    "## read and inspect the data\n",
    "##################################################\n",
    "with urllib.request.urlopen(\n",
    "    \"https://raw.githubusercontent.com/michael-franke/npNLG/main/neural_pragmatic_nlg/05-RNNs/names-data.json\"\n",
    ") as url:\n",
    "    names_data = json.load(url)\n",
    "\n",
    "# # local import\n",
    "# with open('names-data.json') as dataFile:\n",
    "#     names_data = json.load(dataFile)\n",
    "\n",
    "categories = list(names_data.keys())\n",
    "n_categories = len(categories)\n",
    "\n",
    "# Use all ASCII letters as vocabulary (plus tokens [EOS], [SOS])\n",
    "all_letters = string.ascii_letters + \" .,;'-\"\n",
    "n_letters = len(all_letters) + 2  # all letter + [EOS] and [SOS]\n",
    "SOSIndex = n_letters - 1\n",
    "EOSIndex = n_letters - 2\n"
   ]
  },
  {
   "cell_type": "markdown",
   "metadata": {},
   "source": [
    "The data consists of two things:\n",
    "a list of strings, called &ldquo;categories&rdquo;, contains all the categories (languages) for which we have data;\n",
    "a dictionary, called &ldquo;names_data&rdquo;, contains a list of names for each category.\n",
    "\n",
    "> <strong><span style=&ldquo;color:#D83D2B;&rdquo;>Exercise 2.4.1: Inspect the data</span></strong>\n",
    ">\n",
    "> 0. [Just for yourself.] Find out what&rsquo;s in the data set. How any different countries do we have? How many names per country? Are all names unique in a given country? Do the names sound typical to your ears for the given countries?\n",
    "\n"
   ]
  },
  {
   "cell_type": "markdown",
   "metadata": {},
   "source": [
    "Click below to see the solution."
   ]
  },
  {
   "cell_type": "code",
   "execution_count": 5,
   "metadata": {
    "tags": [
     "hide-cell"
    ]
   },
   "outputs": [
    {
     "name": "stdout",
     "output_type": "stream",
     "text": [
      "yes\n",
      "Number of countries: 18\n",
      "\n",
      "Czech: 519\n",
      "German: 724\n",
      "Arabic: 2000\n",
      "Japanese: 991\n",
      "Chinese: 268\n",
      "Vietnamese: 73\n",
      "Russian: 9408\n",
      "French: 277\n",
      "Irish: 232\n",
      "English: 3668\n",
      "Spanish: 298\n",
      "Greek: 203\n",
      "Italian: 709\n",
      "Portuguese: 74\n",
      "Scottish: 100\n",
      "Dutch: 297\n",
      "Korean: 94\n",
      "Polish: 139\n",
      "False\n",
      "False\n",
      "False\n",
      "False\n",
      "False\n",
      "False\n",
      "False\n",
      "False\n",
      "False\n",
      "True\n",
      "False\n",
      "False\n",
      "False\n",
      "True\n",
      "True\n",
      "False\n",
      "True\n",
      "False\n"
     ]
    }
   ],
   "source": [
    "for c in names_data:\n",
    "    for name in names_data[c]:\n",
    "        if name == \"Bruckner\":\n",
    "            print(\"yes\")\n",
    "\n",
    "names_data\n",
    "\n",
    "# number of countries\n",
    "print(f\"Number of countries: {n_categories}\\n\")\n",
    "# number of names per country\n",
    "for country in names_data:\n",
    "    print(f\"{country}: {len(names_data[country])}\")\n",
    "\n",
    "# Unique names per country\n",
    "for country in names_data:\n",
    "    print(f\"{len(names_data[country]) == len(set(names_data[country]))}\")\n",
    "\n",
    "# ---> Most of the name lists contain duplicates."
   ]
  },
  {
   "cell_type": "markdown",
   "metadata": {},
   "source": [
    "## Train-test split\n",
    "\n"
   ]
  },
  {
   "cell_type": "markdown",
   "metadata": {},
   "source": [
    "We will split the data into a training and a test set.\n",
    "Look at the code and try to answer the exercise question of how this split is realized.\n",
    "\n"
   ]
  },
  {
   "cell_type": "code",
   "execution_count": 7,
   "metadata": {},
   "outputs": [
    {
     "name": "stdout",
     "output_type": "stream",
     "text": [
      "Czech 519 467 52\n",
      "German 724 652 72\n",
      "Arabic 2000 1800 200\n",
      "Japanese 991 892 99\n",
      "Chinese 268 241 27\n",
      "Vietnamese 73 66 7\n",
      "Russian 9408 8467 941\n",
      "French 277 249 28\n",
      "Irish 232 209 23\n",
      "English 3668 3301 367\n",
      "Spanish 298 268 30\n",
      "Greek 203 183 20\n",
      "Italian 709 638 71\n",
      "Portuguese 74 67 7\n",
      "Scottish 100 90 10\n",
      "Dutch 297 267 30\n",
      "Korean 94 85 9\n",
      "Polish 139 125 14\n"
     ]
    }
   ],
   "source": [
    "##################################################\n",
    "## make a train/test split\n",
    "##################################################\n",
    "\n",
    "train_data = dict()\n",
    "test_data = dict()\n",
    "split_percentage = 10\n",
    "for k in list(names_data.keys()):\n",
    "    total_size = len(names_data[k])\n",
    "    test_size = round(total_size / split_percentage)\n",
    "    train_size = total_size - test_size\n",
    "    print(k, total_size, train_size, test_size)\n",
    "    indices = [i for i in range(total_size)]\n",
    "    random.shuffle(indices)\n",
    "    train_indices = indices[0:train_size]\n",
    "    test_indices = indices[(train_size + 1) : (-1)]\n",
    "    train_data[k] = [names_data[k][i] for i in train_indices]\n",
    "    test_data[k] = [names_data[k][i] for i in test_indices]"
   ]
  },
  {
   "cell_type": "markdown",
   "metadata": {},
   "source": [
    "> <strong><span style=&ldquo;color:#D83D2B;&rdquo;>Exercise 2.4.2: Explain the train-test split</span></strong>\n",
    ">\n",
    "> 1. How is the original data information split into training and test set? (E.g., what amount of data is allocated to each part?; is the split exclusive and exhaustive?; how is it determined which item goes where?)\n",
    "\n"
   ]
  },
  {
   "cell_type": "markdown",
   "metadata": {},
   "source": [
    "Click below to see the solution."
   ]
  },
  {
   "cell_type": "markdown",
   "metadata": {},
   "source": [
    "```{toggle}\n",
    "The dataset is split in training- and testset, where 90% are used for training and 10% for testing. The datapoints are shuffled before assignment and therefore randomly assigned. The split is both exclusive and exhaustive.\n",
    "```"
   ]
  },
  {
   "cell_type": "markdown",
   "metadata": {},
   "source": [
    "## Defining the model\n",
    "\n"
   ]
  },
  {
   "cell_type": "markdown",
   "metadata": {},
   "source": [
    "The model we use is a (hand-crafted) recurrent neural network.\n",
    "The architecture follows [this tutorial](https://pytorch.org/tutorials/intermediate/char_rnn_generation_tutorial.html), from where we also borrow the following picture:\n",
    "\n",
    "![img](./pics/05-RNN-diagram.png){width=550px}\n",
    "\n",
    "The model makes consecutive predictions about the next character.\n",
    "It is conditioned on three vectors:\n",
    "\n",
    "1.  &rsquo;category&rsquo; is a one-hot vector encoding the country\n",
    "2.  &rsquo;input&rsquo; is a one-hot vector encoding the character\n",
    "3.  &rsquo;hidden&rsquo; is the RNN&rsquo;s hidden state (remembering what happened before)\n",
    "\n",
    "These vectors are first combined and then used to produce a next-character probability distribution *and* the hidden state to be fed into the next round of predictions.\n",
    "\n",
    "Next to the usual functions (initialization and forward pass), there is also a function that returns a blank &rsquo;hidden state&rsquo;.\n",
    "This will be used later during training and inference, because at the start of each application (training or inference) the RNN should have a blank memory.\n",
    "(It makes sense to include this function in the definition of the module because it depends on the module&rsquo;s parameters (size of the hidden layer).)\n",
    "\n",
    "Notice that the architecture features a dropout layer, which randomly sets a fixed proportion of units to 0.\n",
    "The inclusion of dropout introduces a random element in the model during training and inference.\n",
    "\n"
   ]
  },
  {
   "cell_type": "code",
   "execution_count": 10,
   "metadata": {},
   "outputs": [],
   "source": [
    "##################################################\n",
    "## define RNN\n",
    "##################################################\n",
    "\n",
    "\n",
    "class RNN(nn.Module):\n",
    "    def __init__(self, input_size, hidden_size, output_size, dropout=0.1):\n",
    "        super(RNN, self).__init__()\n",
    "        self.hidden_size = hidden_size\n",
    "        self.i2h = nn.Linear(n_categories + input_size + hidden_size, hidden_size)\n",
    "        self.i2o = nn.Linear(n_categories + input_size + hidden_size, output_size)\n",
    "        self.o2o = nn.Linear(hidden_size + output_size, output_size)\n",
    "        self.relu = nn.ReLU()\n",
    "        self.dropout = nn.Dropout(dropout)\n",
    "        self.softmax = nn.LogSoftmax(dim=1)\n",
    "\n",
    "    def forward(self, category, input, hidden, dropout):\n",
    "        input_combined = torch.cat((category, input, hidden), 1)\n",
    "        hidden = self.i2h(input_combined)\n",
    "        output = self.i2o(input_combined)\n",
    "        output_combined = torch.cat((hidden, output), 1)\n",
    "        output_combined = self.relu(output_combined)\n",
    "        output = self.o2o(output_combined)\n",
    "        if dropout:\n",
    "            output = self.dropout(output)\n",
    "        output = self.softmax(output)\n",
    "        return output, hidden\n",
    "\n",
    "    def init_hidden(self):\n",
    "        return torch.zeros(1, self.hidden_size)"
   ]
  },
  {
   "cell_type": "markdown",
   "metadata": {},
   "source": [
    "> <strong><span style=&ldquo;color:#D83D2B;&rdquo;>Exercise 2.4.3: Inspect the model</span></strong>\n",
    ">\n",
    "> 0. [Just for yourself.] Make sure that you understand the model architecture and its implementation. E.g., do you agree that this code implements the model graph shown above? Can you think of slight alterations to the model which might also work?\n",
    "\n"
   ]
  },
  {
   "cell_type": "markdown",
   "metadata": {},
   "source": [
    "Click below to see the solutions."
   ]
  },
  {
   "cell_type": "markdown",
   "metadata": {},
   "source": [
    "```{toggle}\n",
    "The model matches the graph in the picture. Not sure what the expected alternation here is. It could be a good idea to limit the dropout layer to training and deactivate for inference. We would have to add an additional parameter to the forward pass as shown above. \n",
    "\n",
    "Another idea would be to add a non-linear activation function between the combined output layer and the final output layer. This seems to improve training quiet a bit.\n",
    "```"
   ]
  },
  {
   "cell_type": "markdown",
   "metadata": {},
   "source": [
    "## Helper functions for training\n",
    "\n"
   ]
  },
  {
   "cell_type": "markdown",
   "metadata": {},
   "source": [
    "For training, we will present the model with randomly sampled single items.\n",
    "This is why we define a &rsquo;random_training_pair&rsquo; function which returns, well, a random training pair (category and name).\n",
    "\n"
   ]
  },
  {
   "cell_type": "code",
   "execution_count": 11,
   "metadata": {},
   "outputs": [],
   "source": [
    "##################################################\n",
    "## helper functions for training\n",
    "##################################################\n",
    "\n",
    "\n",
    "# Random item from a list\n",
    "def random_choice(l):\n",
    "    return l[random.randint(0, len(l) - 1)]\n",
    "\n",
    "\n",
    "# Get a random category and random line from that category\n",
    "def random_training_pair():\n",
    "    category = random_choice(categories)\n",
    "    line = random_choice(train_data[category])\n",
    "    return category, line"
   ]
  },
  {
   "cell_type": "markdown",
   "metadata": {},
   "source": [
    "We also need to make sure that the training and test data are in a format that the model understands.\n",
    "So, this is where we use vector representations for the categories and sequences of characters.\n",
    "For sequences of characters we distinguish those used as input to the model (&rsquo;input_tensor&rsquo;) and those used in training as what needs to be predicted (&rsquo;target_tensor&rsquo;).\n",
    "\n"
   ]
  },
  {
   "cell_type": "code",
   "execution_count": 12,
   "metadata": {},
   "outputs": [],
   "source": [
    "# One-hot vector for category\n",
    "def category_tensor(category):\n",
    "    li = categories.index(category)\n",
    "    tensor = torch.zeros(1, n_categories)\n",
    "    tensor[0][li] = 1\n",
    "    return tensor\n",
    "\n",
    "\n",
    "# One-hot matrix of first to last letters (not including [EOS]) for input\n",
    "# The first input is always [SOS]\n",
    "def input_tensor(line):\n",
    "    tensor = torch.zeros(len(line) + 1, 1, n_letters)\n",
    "    tensor[0][0][SOSIndex] = 1\n",
    "    for li in range(len(line)):\n",
    "        letter = line[li]\n",
    "        tensor[li + 1][0][all_letters.find(letter)] = 1\n",
    "    return tensor\n",
    "\n",
    "\n",
    "def target_tensor(line):\n",
    "    letter_indexes = [all_letters.find(line[li]) for li in range(len(line))]\n",
    "    letter_indexes.append(EOSIndex)\n",
    "    return torch.LongTensor(letter_indexes)"
   ]
  },
  {
   "cell_type": "markdown",
   "metadata": {},
   "source": [
    "Finally, we construct a function that returns a random training pair in the proper vectorized format.\n",
    "\n"
   ]
  },
  {
   "cell_type": "code",
   "execution_count": 13,
   "metadata": {},
   "outputs": [],
   "source": [
    "# Make category, input, and target tensors from a random category, line pair\n",
    "def random_training_example():\n",
    "    category, line = random_training_pair()\n",
    "    category_tensor_ = category_tensor(category)\n",
    "    input_line_tensor = input_tensor(line)\n",
    "    target_line_tensor = target_tensor(line)\n",
    "    return category_tensor_, input_line_tensor, target_line_tensor"
   ]
  },
  {
   "cell_type": "markdown",
   "metadata": {},
   "source": [
    "> <strong><span style=&ldquo;color:#D83D2B;&rdquo;>Exercise 2.4.4: Understand the representational format </span></strong>\n",
    ">\n",
    "> 1. Write a doc-string for the function &rsquo;random_training_example&rsquo; that is short but completely explanatory regarding the format and meaning of its output."
   ]
  },
  {
   "cell_type": "markdown",
   "metadata": {},
   "source": [
    "Click below to see the solution."
   ]
  },
  {
   "cell_type": "code",
   "execution_count": null,
   "metadata": {
    "tags": [
     "hide-cell"
    ]
   },
   "outputs": [],
   "source": [
    "# Make category, input, and target tensors from a random category, line pair\n",
    "def random_training_example():\n",
    "    \"\"\"\n",
    "    create a random training example from dataset.\n",
    "    :return:\n",
    "        category_tensor_: A tensor of shape (1X18) with a one at the index of the current country and zeros elsewhere\n",
    "        input_line_tensor: A tensor of shape (length current name x 1 x 60). There is one tensor for each character of\n",
    "                           the name with a one at the index of the current character and zeros elsewhere.\n",
    "        target_line_tensor: A tensor of length equal to the number of characters in the name indicating the indices\n",
    "                            of the characters in the vocabulary. (gold label)\n",
    "    \"\"\"\n",
    "    category, line = random_training_pair()\n",
    "    category_tensor_ = category_tensor(category)\n",
    "    input_line_tensor = input_tensor(line)\n",
    "    target_line_tensor = target_tensor(line)\n",
    "    return category_tensor_, input_line_tensor, target_line_tensor"
   ]
  },
  {
   "cell_type": "markdown",
   "metadata": {},
   "source": [
    "We use this timing function to keep track of training time:"
   ]
  },
  {
   "cell_type": "code",
   "execution_count": 14,
   "metadata": {},
   "outputs": [],
   "source": [
    "def time_since(since):\n",
    "    now = time.time()\n",
    "    s = now - since\n",
    "    m = math.floor(s / 60)\n",
    "    s -= m * 60\n",
    "    return \"%dm %ds\" % (m, s)"
   ]
  },
  {
   "cell_type": "markdown",
   "metadata": {},
   "source": [
    "## Training the network\n",
    "\n"
   ]
  },
  {
   "cell_type": "markdown",
   "metadata": {},
   "source": [
    "This function captures a single training step for one training triplet (category, input representation of the name, output representation of the string).\n",
    "\n",
    "What is important to note here is that at the start of each &ldquo;name&rdquo;, so to speak, we need to supply a fresh &rsquo;hidden layer&rsquo;, but that subsequent calls to the RNN&rsquo;s forward pass function will use the hidden layer that is returned from the previous forward pass.\n",
    "\n"
   ]
  },
  {
   "cell_type": "code",
   "execution_count": 15,
   "metadata": {},
   "outputs": [],
   "source": [
    "##################################################\n",
    "## single training pass\n",
    "##################################################\n",
    "\n",
    "\n",
    "def train(category_tensor, input_line_tensor, target_line_tensor):\n",
    "    # reshape target tensor\n",
    "    target_line_tensor.unsqueeze_(-1)\n",
    "    # get a fresh hidden layer\n",
    "    hidden = rnn.init_hidden()\n",
    "    # reset cumulative loss\n",
    "    optimizer.zero_grad()\n",
    "    loss = 0\n",
    "    # zero the gradients\n",
    "    # sequentially probe predictions and collect loss\n",
    "    for i in range(input_line_tensor.size(0)):\n",
    "        output, hidden = rnn(category_tensor, input_line_tensor[i], hidden, True)\n",
    "        l = criterion(output, target_line_tensor[i])\n",
    "        loss += l\n",
    "    # perform backward pass\n",
    "    loss.backward()\n",
    "    # perform optimization\n",
    "    optimizer.step()\n",
    "    # return prediction and loss\n",
    "    return loss.item()  # / input_line_tensor.size(0)"
   ]
  },
  {
   "cell_type": "markdown",
   "metadata": {},
   "source": [
    "The actual training process is furthermore not very special.\n",
    "\n"
   ]
  },
  {
   "cell_type": "code",
   "execution_count": 16,
   "metadata": {},
   "outputs": [
    {
     "name": "stdout",
     "output_type": "stream",
     "text": [
      "0m 18s (5000 5%) 19.8029\n",
      "0m 36s (10000 10%) 18.7308\n",
      "0m 54s (15000 15%) 18.1777\n",
      "1m 13s (20000 20%) 17.7180\n",
      "1m 32s (25000 25%) 17.3607\n",
      "1m 49s (30000 30%) 17.0758\n",
      "2m 7s (35000 35%) 16.8325\n",
      "2m 25s (40000 40%) 16.6393\n",
      "2m 43s (45000 45%) 16.4591\n",
      "3m 0s (50000 50%) 16.2746\n",
      "3m 16s (55000 55%) 16.1081\n",
      "3m 33s (60000 60%) 15.9675\n",
      "3m 50s (65000 65%) 15.8344\n",
      "4m 7s (70000 70%) 15.7046\n",
      "4m 24s (75000 75%) 15.5894\n",
      "4m 41s (80000 80%) 15.4826\n",
      "4m 58s (85000 85%) 15.3850\n",
      "5m 15s (90000 90%) 15.2958\n",
      "5m 32s (95000 95%) 15.2122\n",
      "5m 49s (100000 100%) 15.1304\n"
     ]
    }
   ],
   "source": [
    "##################################################\n",
    "## actual training loop\n",
    "## (should take about 2-4 minutes)\n",
    "##################################################\n",
    "\n",
    "# instantiate the model\n",
    "rnn = RNN(n_letters, 128, n_letters)\n",
    "# training objective\n",
    "criterion = nn.NLLLoss()\n",
    "# learning rate\n",
    "learning_rate = 0.0005\n",
    "# optimizer\n",
    "optimizer = torch.optim.Adam(rnn.parameters(), lr=learning_rate)\n",
    "# training parameters\n",
    "n_iters = 100000\n",
    "print_every = 5000\n",
    "plot_every = 500\n",
    "all_losses = []\n",
    "total_loss = 0  # will be reset every 'plot_every' iterations\n",
    "\n",
    "start = time.time()\n",
    "\n",
    "for iter in range(1, n_iters + 1):\n",
    "    loss = train(*random_training_example())\n",
    "    total_loss += loss\n",
    "\n",
    "    if iter % plot_every == 0:\n",
    "        all_losses.append(total_loss / plot_every)\n",
    "        total_loss = 0\n",
    "\n",
    "    if iter % print_every == 0:\n",
    "        rolling_mean = np.mean(all_losses[iter - print_every * (iter // print_every) :])\n",
    "        print(\n",
    "            \"%s (%d %d%%) %.4f\"\n",
    "            % (time_since(start), iter, iter / n_iters * 100, rolling_mean)\n",
    "        )"
   ]
  },
  {
   "cell_type": "markdown",
   "metadata": {},
   "source": [
    "Here is a plot of the temporal development of the model&rsquo;s performance during training:\n",
    "\n"
   ]
  },
  {
   "cell_type": "code",
   "execution_count": 17,
   "metadata": {},
   "outputs": [
    {
     "data": {
      "image/png": "[encoded data removed]",
      "text/plain": [
       "<Figure size 640x480 with 1 Axes>"
      ]
     },
     "metadata": {},
     "output_type": "display_data"
    }
   ],
   "source": [
    "##################################################\n",
    "## monitoring loss function during training\n",
    "##################################################\n",
    "\n",
    "plt.figure()\n",
    "plt.plot(all_losses)\n",
    "plt.show()"
   ]
  },
  {
   "cell_type": "markdown",
   "metadata": {},
   "source": [
    "> <strong><span style=&ldquo;color:#D83D2B;&rdquo;>Exercise 2.4.5: Investigate the training regime </span></strong>\n",
    ">\n",
    "> 1. What exactly is the loss function here? What are we training the model on: perplexity, average surprisal, or yet something else?\n",
    "\n"
   ]
  },
  {
   "cell_type": "markdown",
   "metadata": {},
   "source": [
    "Click below to see the solution."
   ]
  },
  {
   "cell_type": "markdown",
   "metadata": {},
   "source": [
    "```{toggle}\n",
    "We have the loss function defined as the negative log likelihood loss, which is basically average surprisal. Especially since nn.NLLLoss has a parameter \"reduction\" which is set to \"mean\" by default.\n",
    "```"
   ]
  },
  {
   "cell_type": "markdown",
   "metadata": {},
   "source": [
    "## Evaluation & inference\n",
    "\n"
   ]
  },
  {
   "cell_type": "markdown",
   "metadata": {},
   "source": [
    "Let&rsquo;s see what the model has learned and how well it does in producing new names.\n",
    "\n",
    "Here are some auxiliary functions to obtain surprisal values and related notions for sequences of characters.\n",
    "We can use them to compare the model&rsquo;s performance on the training and test data set.\n",
    "\n"
   ]
  },
  {
   "cell_type": "code",
   "execution_count": 18,
   "metadata": {},
   "outputs": [
    {
     "name": "stdout",
     "output_type": "stream",
     "text": [
      "\n",
      "mean surprisal (test): 15.743693795963553\n",
      "\n",
      "mean surprisal (train): 11.90373899401307\n"
     ]
    }
   ],
   "source": [
    "##################################################\n",
    "## evaluation\n",
    "##################################################\n",
    "\n",
    "\n",
    "def get_surprisal_item(category, name):\n",
    "    category_tensor_ = category_tensor(category)\n",
    "    input_line_tensor = input_tensor(name)\n",
    "    target_line_tensor = target_tensor(name)\n",
    "    hidden = rnn.init_hidden()\n",
    "    surprisal = 0\n",
    "    target_line_tensor.unsqueeze_(-1)\n",
    "\n",
    "    for i in range(input_line_tensor.size(0)):\n",
    "        output, hidden = rnn(category_tensor_, input_line_tensor[i], hidden, False)\n",
    "        surprisal += criterion(output, target_line_tensor[i])\n",
    "    return surprisal.item()\n",
    "\n",
    "\n",
    "def get_surprisal_dataset(data):\n",
    "    surprisl_dict = dict()\n",
    "    surp_avg_dict = dict()\n",
    "    perplxty_dict = dict()\n",
    "    for category in list(data.keys()):\n",
    "        surprisl = 0\n",
    "        surp_avg = 0\n",
    "        perplxty = 0\n",
    "        # training\n",
    "        for name in data[category]:\n",
    "            item_surpr = get_surprisal_item(category, name)\n",
    "            surprisl += item_surpr\n",
    "            surp_avg += item_surpr / len(name)\n",
    "            perplxty += item_surpr ** (-1 / len(name))\n",
    "        n_items = len(data[category])\n",
    "\n",
    "        surprisl_dict[category] = surprisl / n_items\n",
    "        surp_avg_dict[category] = surp_avg / n_items\n",
    "        perplxty_dict[category] = perplxty / n_items\n",
    "\n",
    "    return (surprisl_dict, surp_avg_dict, perplxty_dict)\n",
    "\n",
    "\n",
    "def make_df(surp_dict):\n",
    "    p = pandas.DataFrame.from_dict(surp_dict)\n",
    "    p = p.transpose()\n",
    "    p.columns = [\"surprisal\", \"surp_scaled\", \"perplexity\"]\n",
    "    return p\n",
    "\n",
    "\n",
    "surprisal_test = make_df(get_surprisal_dataset(test_data))\n",
    "surprisal_train = make_df(get_surprisal_dataset(train_data))\n",
    "\n",
    "print(\"\\nmean surprisal (test):\", np.mean(surprisal_test[\"surprisal\"]))\n",
    "print(\"\\nmean surprisal (train):\", np.mean(surprisal_train[\"surprisal\"]))"
   ]
  },
  {
   "cell_type": "markdown",
   "metadata": {},
   "source": [
    "> <strong><span style=&ldquo;color:#D83D2B;&rdquo;>Exercise 2.4.6: Interpret the evaluation metric </span></strong>\n",
    ">\n",
    "> 1. What do these two last numbers represent? What&rsquo;s better: a higher or lower value? What do the two numbers tell us when we compare them?\n",
    "\n"
   ]
  },
  {
   "cell_type": "markdown",
   "metadata": {},
   "source": [
    "Click below to see the solution."
   ]
  },
  {
   "cell_type": "markdown",
   "metadata": {},
   "source": [
    "```{toggle}\n",
    "These two values answer the question, how surprised the model is seeing the data. A higher value indicates more surprisal. We can see that the model is more surprised seeing the test set, which makes sense because it was trained on the train set while it has never seen the test set before.\n",
    "```"
   ]
  },
  {
   "cell_type": "markdown",
   "metadata": {},
   "source": [
    "## Inference\n",
    "\n"
   ]
  },
  {
   "cell_type": "markdown",
   "metadata": {},
   "source": [
    "Let&rsquo;s also explore the trained model&rsquo;s predictions to compare them against our own intuitions of what might be typical names in a given country.\n",
    "\n",
    "Here&rsquo;s a function that takes a country and an initial string, and it outputs a model prediction for how to continue that string.\n",
    "\n",
    "Note that for each prediction step with the model, the model is embedded under `torch.no_grad()`. This setting means that gradients are not computed during the forward passes through the model. This setting is recommended for *inference* (for any neural net), i.e., when you don't want to train the model anymore (only use it for generating predictions). This allows to increase computational effiency and save memory. "
   ]
  },
  {
   "cell_type": "code",
   "execution_count": 19,
   "metadata": {},
   "outputs": [
    {
     "name": "stdout",
     "output_type": "stream",
     "text": [
      "Müller\n",
      "Müller\n",
      "Müller\n",
      "Müller\n"
     ]
    }
   ],
   "source": [
    "##################################################\n",
    "## prediction function\n",
    "##################################################\n",
    "\n",
    "max_length = 20\n",
    "\n",
    "\n",
    "# make a prediction based on given sequence\n",
    "def predict(category, initial_sequence):\n",
    "\n",
    "    if len(initial_sequence) >= max_length:\n",
    "        return initial_sequence\n",
    "\n",
    "    category_tensor_ = category_tensor(category)\n",
    "    input_line_tensor = input_tensor(initial_sequence)\n",
    "    hidden = rnn.init_hidden()\n",
    "\n",
    "    name = initial_sequence\n",
    "\n",
    "    for i in range(input_line_tensor.size(0)):\n",
    "        with torch.no_grad():\n",
    "            output, hidden = rnn(category_tensor_, input_line_tensor[i], hidden, False)\n",
    "\n",
    "    # greedy decoding: choosing the most likely guess\n",
    "    topv, topi = output.topk(1)\n",
    "    topi = topi[0][0]\n",
    "\n",
    "    if topi == EOSIndex:\n",
    "        return name\n",
    "    else:\n",
    "        name += all_letters[topi]\n",
    "\n",
    "    return predict(category, name)\n",
    "\n",
    "\n",
    "print(predict(\"German\", \"Müll\"))\n",
    "print(predict(\"German\", \"Müll\"))\n",
    "print(predict(\"German\", \"Müll\"))\n",
    "print(predict(\"German\", \"Müll\"))"
   ]
  },
  {
   "cell_type": "markdown",
   "metadata": {},
   "source": [
    "You can also probe the model with an empty string:\n",
    "\n"
   ]
  },
  {
   "cell_type": "code",
   "execution_count": 20,
   "metadata": {},
   "outputs": [
    {
     "name": "stdout",
     "output_type": "stream",
     "text": [
      "Shima\n",
      "Shima\n",
      "Shima\n",
      "Shima\n"
     ]
    }
   ],
   "source": [
    "print(predict(\"Japanese\", \"\"))\n",
    "print(predict(\"Japanese\", \"\"))\n",
    "print(predict(\"Japanese\", \"\"))\n",
    "print(predict(\"Japanese\", \"\"))"
   ]
  },
  {
   "cell_type": "markdown",
   "metadata": {},
   "source": [
    "> <strong><span style=&ldquo;color:#D83D2B;&rdquo;>Exercise 2.4.7: Explore the model&rsquo;s predictions </span></strong>\n",
    ">\n",
    "> 1. Play around with these prediction functions for a country or several of which you have robust intuitions about how names from that country might sound. Report on one feature that speaks in favor of the model, and one that suggests that the model is not perfect (or seriously flawed).\n",
    ">\n",
    "> 2. Is the prediction function as implemented in this subsection stochastic or not?\n",
    "\n"
   ]
  },
  {
   "cell_type": "markdown",
   "metadata": {},
   "source": [
    "Click below to see the solution."
   ]
  },
  {
   "cell_type": "markdown",
   "metadata": {},
   "source": [
    "```{toggle}\n",
    "The predict() function itself is not stochastic but rather deterministic, because it uses greedy decoding. This means it will always choose the next most likely character. The variance in the completions comes from the dropout layer in the models architecture leaving space for some randomness. Removing that layer during inference (as described above) will always lead to the same completion given the same input. \n",
    "```"
   ]
  },
  {
   "cell_type": "markdown",
   "metadata": {},
   "source": [
    "## Inverting the generation model\n",
    "\n"
   ]
  },
  {
   "cell_type": "markdown",
   "metadata": {},
   "source": [
    "The model we have trained here could be consider a **speaker model**: the model generates language (very limited in scope but still).\n",
    "Additionally, the model can be used to probe how likely a particular name would be (as a generated string) for a particular category/country.\n",
    "So, essentially we get something like $P_{S}(name \\mid category)$ as a speaker likelihood function.\n",
    "For instance, we can do this:\n",
    "\n"
   ]
  },
  {
   "cell_type": "code",
   "execution_count": 21,
   "metadata": {},
   "outputs": [
    {
     "name": "stdout",
     "output_type": "stream",
     "text": [
      "12.857054710388184\n",
      "19.908905029296875\n"
     ]
    }
   ],
   "source": [
    "print(get_surprisal_item(\"German\", \"Franke\"))\n",
    "print(get_surprisal_item(\"Arabic\", \"Franke\"))"
   ]
  },
  {
   "cell_type": "markdown",
   "metadata": {},
   "source": [
    "> <strong><span style=&ldquo;color:#D83D2B;&rdquo;>Exercise 2.4.8: Category prediction with Bayes rule </span></strong>\n",
    ">\n",
    "> 1. Use the model as a speaker likelihood function to compute, via Bayes rule, the probability $P(category\\mid name)$ for the names &ldquo;Dovesky&rdquo;, &ldquo;Jackson&rdquo; and &ldquo;Satoshi&rdquo;. Compare the results against those obtained by the RNN-based classifier reported in [this tutorial](https://pytorch.org/tutorials/intermediate/char_rnn_classification_tutorial.html) (all the way at the end).\n",
    "\n"
   ]
  },
  {
   "cell_type": "markdown",
   "metadata": {},
   "source": [
    "Click below to see the solution."
   ]
  },
  {
   "cell_type": "code",
   "execution_count": 22,
   "metadata": {
    "tags": [
     "hide-cell"
    ]
   },
   "outputs": [],
   "source": [
    "# names_data\n",
    "n_names = 0\n",
    "for key in train_data:\n",
    "    n_names += len(train_data[key])\n",
    "n_categories = len(train_data)"
   ]
  },
  {
   "cell_type": "code",
   "execution_count": 23,
   "metadata": {
    "tags": [
     "hide-cell"
    ]
   },
   "outputs": [
    {
     "name": "stdout",
     "output_type": "stream",
     "text": [
      "Logspace: P(Czech | Doveski) = -2.329154273345582\n",
      "Logspace: P(German | Doveski) = -3.049187345280759\n",
      "Logspace: P(Arabic | Doveski) = -3.044040465112291\n",
      "Logspace: P(Japanese | Doveski) = -2.5707610099012776\n",
      "Logspace: P(Chinese | Doveski) = -3.9830674364599212\n",
      "Logspace: P(Vietnamese | Doveski) = -4.176395016805715\n",
      "Logspace: P(Russian | Doveski) = -2.557712239995114\n",
      "Logspace: P(French | Doveski) = -3.26594367422115\n",
      "Logspace: P(Irish | Doveski) = -3.1344274634863063\n",
      "Logspace: P(English | Doveski) = -3.089089898243062\n",
      "Logspace: P(Spanish | Doveski) = -2.989767319373302\n",
      "Logspace: P(Greek | Doveski) = -2.4374993423367664\n",
      "Logspace: P(Italian | Doveski) = -2.746094297468178\n",
      "Logspace: P(Portuguese | Doveski) = -3.2719710113848373\n",
      "Logspace: P(Scottish | Doveski) = -3.503078942968957\n",
      "Logspace: P(Dutch | Doveski) = -2.7748951742793246\n",
      "Logspace: P(Korean | Doveski) = -4.33744430690024\n",
      "Logspace: P(Polish | Doveski) = -1.9166837202752751\n",
      "1.0\n",
      "\n",
      "------------------------------------------------------------------------\n",
      "\n",
      "Logspace: P(Czech | Jackson) = -2.6531856900705275\n",
      "Logspace: P(German | Jackson) = -2.6175335252350447\n",
      "Logspace: P(Arabic | Jackson) = -3.8089478089254367\n",
      "Logspace: P(Japanese | Jackson) = -3.3889435308678326\n",
      "Logspace: P(Chinese | Jackson) = -3.6692703950843093\n",
      "Logspace: P(Vietnamese | Jackson) = -4.384112744200534\n",
      "Logspace: P(Russian | Jackson) = -2.6612294775126752\n",
      "Logspace: P(French | Jackson) = -3.262053290805339\n",
      "Logspace: P(Irish | Jackson) = -2.21096220730527\n",
      "Logspace: P(English | Jackson) = -2.1701001434279856\n",
      "Logspace: P(Spanish | Jackson) = -4.137311827640074\n",
      "Logspace: P(Greek | Jackson) = -3.9253905269010243\n",
      "Logspace: P(Italian | Jackson) = -3.8398610504968342\n",
      "Logspace: P(Portuguese | Jackson) = -4.879318062464732\n",
      "Logspace: P(Scottish | Jackson) = -1.4070479577071051\n",
      "Logspace: P(Dutch | Jackson) = -2.943814170795518\n",
      "Logspace: P(Korean | Jackson) = -3.79754031778924\n",
      "Logspace: P(Polish | Jackson) = -3.0787130945986387\n",
      "0.9999999999999994\n",
      "\n",
      "------------------------------------------------------------------------\n",
      "\n",
      "Logspace: P(Czech | Satoshi) = -2.582685867418279\n",
      "Logspace: P(German | Satoshi) = -3.205616125930776\n",
      "Logspace: P(Arabic | Satoshi) = -3.151007538987999\n",
      "Logspace: P(Japanese | Satoshi) = -1.819255000074138\n",
      "Logspace: P(Chinese | Satoshi) = -3.5181813091977734\n",
      "Logspace: P(Vietnamese | Satoshi) = -3.454367770907213\n",
      "Logspace: P(Russian | Satoshi) = -2.9190526549711127\n",
      "Logspace: P(French | Satoshi) = -2.945132093597879\n",
      "Logspace: P(Irish | Satoshi) = -2.83683439539813\n",
      "Logspace: P(English | Satoshi) = -3.1927830372943777\n",
      "Logspace: P(Spanish | Satoshi) = -2.975641382951965\n",
      "Logspace: P(Greek | Satoshi) = -2.726918229927053\n",
      "Logspace: P(Italian | Satoshi) = -2.1676781420602698\n",
      "Logspace: P(Portuguese | Satoshi) = -3.0917557944550413\n",
      "Logspace: P(Scottish | Satoshi) = -3.076368400920858\n",
      "Logspace: P(Dutch | Satoshi) = -3.444657022227277\n",
      "Logspace: P(Korean | Satoshi) = -4.716580436309544\n",
      "Logspace: P(Polish | Satoshi) = -3.033587316144933\n",
      "1.0\n",
      "\n",
      "------------------------------------------------------------------------\n",
      "\n"
     ]
    }
   ],
   "source": [
    "# function to retrieve conditional probability for (name|country)\n",
    "def get_prob(country, name):\n",
    "    category_tensor_ = category_tensor(country)\n",
    "    input_line_tensor = input_tensor(name)\n",
    "    target_line_tensor = target_tensor(name)\n",
    "    hidden = rnn.init_hidden()\n",
    "    log_prob = 0\n",
    "\n",
    "    for i in range(input_line_tensor.size(0)):\n",
    "\n",
    "        output, hidden = rnn(category_tensor_, input_line_tensor[i], hidden, False)\n",
    "        output = output.squeeze()\n",
    "        log_prob += output[target_line_tensor[i]].detach().numpy()\n",
    "    return np.exp(log_prob/input_line_tensor.size(0))\n",
    "\n",
    "\n",
    "# get probability of categories\n",
    "p_categories = {}\n",
    "for key in names_data:\n",
    "    p_categories[key] = len(names_data[key])/n_names\n",
    "\n",
    "# get the conditional probabilities P(name|cat) from model\n",
    "cond_prob_names = {\"Doveski\":[], \"Jackson\":[], \"Satoshi\":[]}    \n",
    "country2idx = {}\n",
    "for i, key in enumerate(names_data):\n",
    "    # create mapping from index to country\n",
    "    country2idx[key] = i\n",
    "    for name in cond_prob_names:\n",
    "        prob = get_prob(key, name)\n",
    "        cond_prob_names[name].append(prob)\n",
    "    \n",
    "# calculate probability of name as P(name) = sum(P(name|category) * P(category)) for all categories\n",
    "p_names = {\"Doveski\":0, \"Jackson\":0, \"Satoshi\":0}\n",
    "for name in p_names:\n",
    "    for country in names_data:\n",
    "        p_names[name] += cond_prob_names[name][country2idx[country]] * 1/18\n",
    "\n",
    "# apply bayes law\n",
    "for name in cond_prob_names:\n",
    "    total = 0\n",
    "    for country in names_data:\n",
    "        # print(f\"P({country} | {name}) = {(cond_prob_names[name][country2idx[country]] * p_categories[country]) / p_names[name]}\")\n",
    "        print(f\"Logspace: P({country} | {name}) = {np.log((cond_prob_names[name][country2idx[country]] * 1/18) / p_names[name])}\")\n",
    "        total += (cond_prob_names[name][country2idx[country]] * 1/18) / p_names[name]\n",
    "    print(total)\n",
    "    print(\"\\n------------------------------------------------------------------------\\n\")"
   ]
  },
  {
   "cell_type": "markdown",
   "metadata": {},
   "source": [
    "```{toggle}\n",
    "While the numbers don't exactly match with the tutorial, the general tendency is the same except for \"satoshi\", where our model predicts more correctly japanese as the most likely class as opposed to italian in the tutorial.\n",
    "```"
   ]
  },
  {
   "cell_type": "markdown",
   "metadata": {},
   "source": []
  }
 ],
 "metadata": {
  "kernelspec": {
   "display_name": "npNLG",
   "language": "python",
   "name": "python3"
  },
  "language_info": {
   "codemirror_mode": {
    "name": "ipython",
    "version": 3
   },
   "file_extension": ".py",
   "mimetype": "text/x-python",
   "name": "python",
   "nbconvert_exporter": "python",
   "pygments_lexer": "ipython3",
   "version": "3.10.14"
  },
  "org": null
 },
 "nbformat": 4,
 "nbformat_minor": 4
}
