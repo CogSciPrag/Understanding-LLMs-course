{
 "cells": [
  {
   "cell_type": "markdown",
   "metadata": {},
   "source": [
    "Sheet 2.2: ML-estimation\n",
    "========================\n",
    "\n",
    "**Author:** Michael Franke\n",
    "\n"
   ]
  },
  {
   "cell_type": "markdown",
   "metadata": {},
   "source": [
    "This tutorial is meant to introduce some basics of PyTorch by looking at a simple case study: how to find the best-fitting parameter for the mean of a normal (Gaussian) distribution.\n",
    "The training data is a set of samples from a &ldquo;true&rdquo; distribution.\n",
    "The loss function is the negative likelihood that a candidate parameter value for the &ldquo;true mean&rdquo; assigns to the training data.\n",
    "By using stochastic gradient descent to minimize the loss, we seek the parameter value that maximizes the likelihood of the training data.\n",
    "This is, therefore, a **maximum likelihood estimation**.\n",
    "\n"
   ]
  },
  {
   "cell_type": "markdown",
   "metadata": {},
   "source": [
    "## Packages\n",
    "\n"
   ]
  },
  {
   "cell_type": "markdown",
   "metadata": {},
   "source": [
    "We will need to import the \\`torch\\` package for the main functionality.\n",
    "We also will use \\`seaborn\\` for plotting, and \\`matplotlib\\` for showing the plots.\n",
    "Finally, we use the \\`warnings\\` package to suppress all warning messages in the notebook.\n",
    "\n"
   ]
  },
  {
   "cell_type": "code",
   "execution_count": 2,
   "metadata": {},
   "outputs": [],
   "source": [
    "import torch\n",
    "import seaborn as sns\n",
    "import matplotlib.pyplot as plt\n",
    "import warnings\n",
    "\n",
    "warnings.filterwarnings(\"ignore\")"
   ]
  },
  {
   "cell_type": "markdown",
   "metadata": {},
   "source": [
    "## True distribution & training data\n",
    "\n"
   ]
  },
  {
   "cell_type": "markdown",
   "metadata": {},
   "source": [
    "The &ldquo;true distribution&rdquo; that generates the data is a normal distribution with a mean (location) stored in the variable \\`true_location\\`.\n",
    "(We keep the scale parameter (standard deviation) fixed at a known value of 1.)\n",
    "The \\`torch.distributions\\` package contains ready-made probability distributions for sampling.\n",
    "So, here we define the true distribution, and take \\`n_obs\\` samples from it, the set of which we call &ldquo;training data&rdquo;.\n",
    "\n"
   ]
  },
  {
   "cell_type": "code",
   "execution_count": 3,
   "metadata": {},
   "outputs": [],
   "source": [
    "n_obs = 10000\n",
    "true_location = 0  # mean of a normal\n",
    "true_dist = torch.distributions.Normal(loc=true_location, scale=1.0)\n",
    "train_data = true_dist.sample([n_obs])"
   ]
  },
  {
   "cell_type": "markdown",
   "metadata": {},
   "source": [
    "The mean of the training data is the so-called **empirical mean**.\n",
    "The empirical mean need not be identical to the true mean!\n",
    "\n"
   ]
  },
  {
   "cell_type": "code",
   "execution_count": 4,
   "metadata": {},
   "outputs": [
    {
     "name": "stdout",
     "output_type": "stream",
     "text": [
      "Empirical mean (mean of training data): -0.01485\n"
     ]
    }
   ],
   "source": [
    "empirical_mean = torch.mean(train_data)\n",
    "print(\"Empirical mean (mean of training data): %.5f\" % empirical_mean.item())"
   ]
  },
  {
   "cell_type": "markdown",
   "metadata": {},
   "source": [
    "Here is a density plot of the training data:\n",
    "\n"
   ]
  },
  {
   "cell_type": "code",
   "execution_count": 5,
   "metadata": {},
   "outputs": [
    {
     "data": {
      "image/png": "[encoded data removed]",
      "text/plain": [
       "<Figure size 640x480 with 1 Axes>"
      ]
     },
     "metadata": {},
     "output_type": "display_data"
    }
   ],
   "source": [
    "sns.kdeplot(train_data)\n",
    "plt.show()"
   ]
  },
  {
   "cell_type": "markdown",
   "metadata": {},
   "source": [
    "## Optimizing a parameter: gradients, optimizers, loss & backprop\n",
    "\n"
   ]
  },
  {
   "cell_type": "markdown",
   "metadata": {},
   "source": [
    "We want an estimate of the true mean of the training data.\n",
    "For that, we define a &ldquo;trainable&rdquo; parameter in PyTorch, which we set to some initial value.\n",
    "Subsequently, we will update the value of this parameter in a series of training steps, so that it will become &ldquo;better&rdquo; over time.\n",
    "Being &ldquo;good&rdquo; means having a small &ldquo;loss&rdquo;.\n",
    "The loss function we are interested in is the likelihood of the training data.\n",
    "\n",
    "To being with, we define the parameter which is to be trained.\n",
    "Since we want to &ldquo;massage it&rdquo; through updating, we must tell PyTorch that it should compute the gradient for this parameter (and the ones derived from it).\n",
    "(NB: For numerical stability we require this parameter to be a 64 bit float. You may try out the exercises below with the default float32 format and compare.)\n",
    "\n"
   ]
  },
  {
   "cell_type": "code",
   "execution_count": 6,
   "metadata": {},
   "outputs": [
    {
     "name": "stdout",
     "output_type": "stream",
     "text": [
      "tensor(1., dtype=torch.float64, requires_grad=True)\n"
     ]
    }
   ],
   "source": [
    "location = torch.tensor(1.0, requires_grad=True, dtype=torch.float64)\n",
    "print(location)"
   ]
  },
  {
   "cell_type": "markdown",
   "metadata": {},
   "source": [
    "To prepare for training, we first instantiate an **optimizer**, which will do the updating behind the scenes.\n",
    "Here, we choose the stochastic gradient descent (SGD) optimizer.\n",
    "To instantiate it, we need to tell it two things:\n",
    "\n",
    "1.  which parameters to optimize;\n",
    "2.  how aggressively to update (=> the so-called **learning rate**)\n",
    "\n"
   ]
  },
  {
   "cell_type": "code",
   "execution_count": 7,
   "metadata": {},
   "outputs": [],
   "source": [
    "learning_rate = 0.0000001\n",
    "opt = torch.optim.SGD([location], lr=learning_rate)"
   ]
  },
  {
   "cell_type": "markdown",
   "metadata": {},
   "source": [
    "Let us now go manually through a single training step.\n",
    "A training step consists of the following parts:\n",
    "\n",
    "1.  compute the predictions for the current parameter(s)\n",
    "    -   what do we predict in the current state?\n",
    "2.  compute the loss for this prediction\n",
    "    -   how good is this prediction (for the training data)?\n",
    "3.  backpropagate the error (using the gradients)\n",
    "    -   in which direction would we need to change the relevant parameters to make the prediction better?\n",
    "4.  update step\n",
    "    -   change the parameters (to a certain degree, the so-called learning rate) in the direction that should make them better\n",
    "5.  zero the gradient\n",
    "    -   reset the information about &ldquo;which direction to tune&rdquo; for the next training step\n",
    "\n"
   ]
  },
  {
   "cell_type": "markdown",
   "metadata": {},
   "source": [
    "### Part 1: Compute the predictions for current parameter value\n",
    "\n"
   ]
  },
  {
   "cell_type": "markdown",
   "metadata": {},
   "source": [
    "The prediction for the current parameter value is a Gaussian with the location parameter set to our current parameter value.\n",
    "We obtain our &ldquo;current best model&rdquo; by instantiating a distribution like so:\n",
    "\n"
   ]
  },
  {
   "cell_type": "code",
   "execution_count": 8,
   "metadata": {},
   "outputs": [],
   "source": [
    "prediction = torch.distributions.Normal(loc=location, scale=1.0)"
   ]
  },
  {
   "cell_type": "markdown",
   "metadata": {},
   "source": [
    "### Part 2: Computing the loss for the current prediction\n",
    "\n"
   ]
  },
  {
   "cell_type": "markdown",
   "metadata": {},
   "source": [
    "How good is our current model?\n",
    "Goodness can be measured in many ways.\n",
    "Here we consider the likelihood: how likely is the training data under the current model?\n",
    "\n"
   ]
  },
  {
   "cell_type": "code",
   "execution_count": 9,
   "metadata": {},
   "outputs": [
    {
     "name": "stdout",
     "output_type": "stream",
     "text": [
      "tensor(19424.9609, grad_fn=<NegBackward0>)\n"
     ]
    }
   ],
   "source": [
    "loss = -torch.sum(prediction.log_prob(train_data))\n",
    "print(loss)"
   ]
  },
  {
   "cell_type": "markdown",
   "metadata": {},
   "source": [
    "Notice that the \\`loss\\` variable is a single-numbered tensor (containing the information how bad (we want to minimize it) the current parameter value is).\n",
    "Notice that PyTorch has also added information on how to compute gradients, i.e., it keeps track of way in which values for the variable \\`location\\` influence the values for the variable \\`loss\\`.\n",
    "\n"
   ]
  },
  {
   "cell_type": "markdown",
   "metadata": {},
   "source": [
    "### Part 3: Backpropagate the error signal\n",
    "\n"
   ]
  },
  {
   "cell_type": "markdown",
   "metadata": {},
   "source": [
    "In the next step, we will use the information stored about the functional relation between \\`location\\` and \\`loss\\` to infer how the \\`location\\` parameter would need to be changed to make \\`loss\\` higher or lower.\n",
    "This is the so-called backpropagation step.\n",
    "\n",
    "Concretely, at the outset, the gradient information for \\`location\\` is &ldquo;NONE&rdquo;.\n",
    "\n"
   ]
  },
  {
   "cell_type": "code",
   "execution_count": 10,
   "metadata": {},
   "outputs": [
    {
     "name": "stdout",
     "output_type": "stream",
     "text": [
      "Value (initial)                = 1.0\n",
      "Gradient information (initial) = None\n"
     ]
    }
   ],
   "source": [
    "print(f\"Value (initial)                = { location.item()}\")\n",
    "print(f\"Gradient information (initial) = { location.grad}\")"
   ]
  },
  {
   "cell_type": "markdown",
   "metadata": {},
   "source": [
    "We must actively tell the system to backpropagate the information in the gradients, like so:\n",
    "\n"
   ]
  },
  {
   "cell_type": "code",
   "execution_count": 11,
   "metadata": {},
   "outputs": [
    {
     "name": "stdout",
     "output_type": "stream",
     "text": [
      "Value (after backprop)                = 1.0\n",
      "Gradient information (after backprop) = 10148.4794921875\n"
     ]
    }
   ],
   "source": [
    "loss.backward()\n",
    "print(f\"Value (after backprop)                = { location.item()}\")\n",
    "print(f\"Gradient information (after backprop) = { location.grad}\")"
   ]
  },
  {
   "cell_type": "markdown",
   "metadata": {},
   "source": [
    "### Part 4: Update the parameter values\n",
    "\n"
   ]
  },
  {
   "cell_type": "markdown",
   "metadata": {},
   "source": [
    "Next, we use the information in the gradient to actually update the trainable parameter values.\n",
    "This is what the optimizer does.\n",
    "It knows which parameters to update (we told it), so the relevant update function is one associated with the optimizer itself.\n",
    "\n"
   ]
  },
  {
   "cell_type": "code",
   "execution_count": 12,
   "metadata": {},
   "outputs": [
    {
     "name": "stdout",
     "output_type": "stream",
     "text": [
      "Value (after step)                = 0.9989851520507812\n",
      "Gradient information (after step) = 10148.4794921875\n"
     ]
    }
   ],
   "source": [
    "opt.step()\n",
    "print(f\"Value (after step)                = { location.item()}\")\n",
    "print(f\"Gradient information (after step) = { location.grad}\")"
   ]
  },
  {
   "cell_type": "markdown",
   "metadata": {},
   "source": [
    "### Part 5: Reset the gradient information\n",
    "\n"
   ]
  },
  {
   "cell_type": "markdown",
   "metadata": {},
   "source": [
    "If we want to repeat the updating process, we need to erase information about gradients for the last prediction.\n",
    "This is because otherwise information would just accumulate in the gradients.\n",
    "This zero-ing of the gradients is again something we do holistically (for all parameters to train) through the optimizer object:\n",
    "\n"
   ]
  },
  {
   "cell_type": "code",
   "execution_count": 13,
   "metadata": {},
   "outputs": [
    {
     "name": "stdout",
     "output_type": "stream",
     "text": [
      "Value (after zero-ing)                = 0.9989851520507812\n",
      "Gradient information (after zero-ing) = None\n"
     ]
    }
   ],
   "source": [
    "opt.zero_grad()\n",
    "print(f\"Value (after zero-ing)                = { location.item()}\")\n",
    "print(f\"Gradient information (after zero-ing) = { location.grad}\")"
   ]
  },
  {
   "cell_type": "markdown",
   "metadata": {},
   "source": [
    "## Training loop\n",
    "\n"
   ]
  },
  {
   "cell_type": "markdown",
   "metadata": {},
   "source": [
    "After having gone through our cycle of parameter updating step-by-step, let&rsquo;s iterate this in a training loop consisting of \\`n_training_steps\\`.\n",
    "\n"
   ]
  },
  {
   "cell_type": "code",
   "execution_count": 14,
   "metadata": {},
   "outputs": [
    {
     "name": "stdout",
     "output_type": "stream",
     "text": [
      "\n",
      " step                     loss        estimate    diff. target\n",
      "  500                16168.855         0.60053         0.61538\n",
      " 1000                14971.601         0.35831         0.37315\n",
      " 1500                14531.375         0.21143         0.22627\n",
      " 2000                14369.507         0.12236         0.13721\n",
      " 2500                14309.988         0.06835         0.08320\n",
      " 3000                14288.104         0.03560         0.05045\n",
      " 3500                14280.059         0.01574         0.03059\n",
      " 4000                14277.098         0.00370         0.01855\n",
      " 4500                14276.012        -0.00360         0.01125\n",
      " 5000                14275.610        -0.00803         0.00682\n",
      " 5500                14275.464        -0.01071         0.00414\n",
      " 6000                14275.410        -0.01234         0.00251\n",
      " 6500                14275.390        -0.01333         0.00152\n",
      " 7000                14275.382        -0.01393         0.00092\n",
      " 7500                14275.380        -0.01429         0.00056\n",
      " 8000                14275.378        -0.01451         0.00034\n",
      " 8500                14275.378        -0.01464         0.00021\n",
      " 9000                14275.379        -0.01472         0.00012\n",
      " 9500                14275.378        -0.01477         0.00008\n",
      "10000                14275.378        -0.01480         0.00005\n"
     ]
    }
   ],
   "source": [
    "n_training_steps = 10000\n",
    "print(\"\\n%5s %24s %15s %15s\" % (\"step\", \"loss\", \"estimate\", \"diff. target\"))\n",
    "for i in range(n_training_steps):\n",
    "    prediction = torch.distributions.Normal(loc=location, scale=1.0)\n",
    "    loss = -torch.sum(prediction.log_prob(train_data))\n",
    "    loss.backward()\n",
    "    if (i + 1) % 500 == 0:\n",
    "        print(\n",
    "            \"%5d %24.3f %15.5f %15.5f\"\n",
    "            % (\n",
    "                i + 1,\n",
    "                loss.item(),\n",
    "                location.item(),\n",
    "                abs(location.item() - empirical_mean),\n",
    "            )\n",
    "        )\n",
    "    opt.step()\n",
    "    opt.zero_grad()"
   ]
  },
  {
   "cell_type": "markdown",
   "metadata": {},
   "source": [
    "> <strong><span style=&ldquo;color:#D83D2B;&rdquo;>Exercise 2.2.1: Explore the optimization process</span></strong>\n",
    ">\n",
    "> This exercise is intended to make you play around with the parameters of the training procedure, namely \\`learning_rate\\` and \\`n_training_steps\\`, and to develop a feeling for what they do. There is not necessarily a single &ldquo;true&rdquo; solution. Report the values that you found to work best for each of the following cases:\n",
    ">\n",
    "> 1. Change the initial value of the parameter \\`location\\` to -5000.\n",
    ">\n",
    "> 2. Revert to initial conditions. Change the true mean (parameter \\`true_location\\`) to 5000.\n",
    ">\n",
    "> 3. Revert to initial conditions. Use only 100 samples for the training set (using variable \\`n_obs\\`).\n",
    "\n"
   ]
  }
 ],
 "metadata": {
  "kernelspec": {
   "display_name": "Python 3 (ipykernel)",
   "language": "python",
   "name": "python3"
  },
  "language_info": {
   "codemirror_mode": {
    "name": "ipython",
    "version": 3
   },
   "file_extension": ".py",
   "mimetype": "text/x-python",
   "name": "python",
   "nbconvert_exporter": "python",
   "pygments_lexer": "ipython3",
   "version": "3.11.7"
  },
  "org": null
 },
 "nbformat": 4,
 "nbformat_minor": 4
}
