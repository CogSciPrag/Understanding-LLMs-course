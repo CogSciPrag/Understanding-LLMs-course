{
 "cells": [
  {
   "cell_type": "markdown",
   "metadata": {},
   "source": [
    "Sheet 3.3: Prompting & Decoding\n",
    "=======\n",
    "**Author**: Polina Tsvilodub & Michael Franke"
   ]
  },
  {
   "cell_type": "markdown",
   "metadata": {},
   "source": [
    "This sheet provides more details on concepts that have been mentioned in passing in the previous sheets, and provides some practical examples and exercises for prompting techniques that have been covered in lecture four. Therefore, the learning goals for this sheet are:\n",
    "* take a closer look and understand various decoding schemes,\n",
    "* understand the temperature parameter,\n",
    "* see a few practical examples of prompting techniques from the lecture."
   ]
  },
  {
   "cell_type": "markdown",
   "metadata": {},
   "source": [
    "## Decoding schemes\n",
    "\n",
    "This part of this sheet is a close replication of [this](https://michael-franke.github.io/npNLG/06-LSTMs/06d-decoding-GPT2.html) sheet.\n",
    "\n",
    "This topic addresses the following question: Given a language model that outputs a next-word probability, how do we use this to actually generate naturally sounding text? For that, we need to choose a single next token from the distribution, which we will then feed back to the model, together with the preceding tokens, so that it can generate the next one. This inference procedure is repeated, until the EOS token is chosen, or a maximal sequence length is achieved. The procedure of how exactly to get that single token from the distribution is call *decoding scheme*. Note that \"decoding schemes\" and \"decoding strategies\" refer to the same concept and are used interchangeably. \n",
    "\n",
    "We have already discussed decoding schemes in lecture 02 (slide 25). The following introduces these schemes in more detail again and provides example code for configuring some of them. \n",
    "\n",
    "> <strong><span style=&ldquo;color:#D83D2B;&rdquo;>Exercise 3.3.1: Decoding schemes</span></strong>\n",
    ">\n",
    "> Please read through the following introduction and look at the provided code. \n",
    "> 1. With the help of the example and the documentation, please complete the code (where it says \"### YOUR CODE HERE ####\") for all the decoding schemes.\n",
    "\n",
    "Common decoding strategies are:\n",
    "* **pure sampling**: In a pure sampling approach, we just sample each next word with exactly the probability assigned to it by the LM. Notice that this process, therefore, is non-determinisitic. We can force replicable results, though, by setting a *seed*.\n",
    "* **Softmax sampling**: In soft-max sampling, the probablity of sampling word $w_i$ is $P_{LM} (w_i \\mid w_{1:i-1}) \\propto \\exp(\\frac{1}{\\tau} P_{LM}(w_i \\mid w_{1:i-1}))$, where $\\tau$ is a *temperature parameter*.\n",
    "  * The *temperature parameter* is also often available for closed-source models like the GPT family. It is often said to change the \"creativity\" of the output.\n",
    "* **greedy sampling**: In greedy sampling, we don’t actually sample but just take the most likely next-word at every step. Greedy sampling is equivalent to setting $\\tau = 0$ for soft-max sampling. It is also sometimes referred to as *argmax* decoding.\n",
    "* **beam search**: In simplified terms, beam search is a parallel search procedure that keeps a number $k$ of path probabilities open at each choice point, dropping the least likely as we go along. (There is actually no unanimity in what exactly beam search means for NLG.)\n",
    "* **top-$k$ sampling**: his sampling scheme looks at the $k$ most likely next-words and samples from so that: $$P_{\\text{sample}}(w_i  \\mid w_{1:i-1}) \\propto \\begin{cases} P_{M}(w_i \\mid w_{1:i-1}) & \\text{if} \\; w_i \\text{ in top-}k \\\\ 0 & \\text{otherwise} \\end{cases}$$\n",
    "* **top-$p$ sampling**: Top-$p$ sampling is similar to top-$k$ sampling, but restricts sampling not to the top-$k$ most likely words (so always the same number of words), but the set of most likely words the summed probability of which does not exceed threshold $p$.\n",
    "\n",
    "The within the `transformers` package, for all causal LMs, the `.generate()` function is available which allows to sample text from the model (remember the brief introduction in [sheet 2.5](https://cogsciprag.github.io/Understanding-LLMs-course/tutorials/02e-intro-to-hf.html)). Configuring this function via different values and combinations of various parameters allows to sample text with the different decoding schemes described above. The respective documentation can be found [here](https://huggingface.co/docs/transformers/v4.40.2/en/generation_strategies#decoding-strategies). The same configurations can be passed to the `pipeline` endpoint which we have seen in the same sheet."
   ]
  },
  {
   "cell_type": "markdown",
   "metadata": {},
   "source": [
    "Check out [this](https://medium.com/@harshit158/softmax-temperature-5492e4007f71) blog post for very noce visualizations and more detials on the *temperature* parameter.\n",
    "\n",
    "Please complete the code below. GPT-2 is used as an example model, but this works exactly the same with any other causal LM from HF."
   ]
  },
  {
   "cell_type": "code",
   "execution_count": null,
   "metadata": {},
   "outputs": [],
   "source": [
    "# import relevant packages\n",
    "import torch \n",
    "from transformers import GPT2LMHeadModel, GPT2Tokenizer\n",
    "\n",
    "# load the tokenizer\n",
    "tokenizer = GPT2Tokenizer.from_pretrained(\"gpt2\")\n",
    "\n",
    "# add the EOS token as PAD token to avoid warnings\n",
    "model = GPT2LMHeadModel.from_pretrained(\"gpt2\", pad_token_id=tokenizer.eos_token_id)\n",
    "\n",
    "# convenience function for nicer output\n",
    "def pretty_print(s):\n",
    "    print(\"Output:\\n\" + 100 * '-')\n",
    "    print(tokenizer.decode(s, skip_special_tokens=True))\n",
    "\n",
    "# encode context the generation is conditioned on\n",
    "input_ids = tokenizer.encode('I enjoy walking with my cute dog', return_tensors='pt')\n"
   ]
  },
  {
   "cell_type": "code",
   "execution_count": null,
   "metadata": {},
   "outputs": [],
   "source": [
    "# set a seed for reproducibility (if you want)\n",
    "torch.manual_seed(199)\n",
    "\n",
    "# below, greedy decoding is implemented\n",
    "# NOTE: while it is the default for .generate(), it is NOT for pipeline()\n",
    "\n",
    "greedy_output = model.generate(input_ids, max_new_tokens=10)\n",
    "print(pretty_print(greedy_output[0]))\n",
    "\n",
    "# here, beam search is shown\n",
    "# option `early_stopping` implies stopping when all beams reach the end-of-sentence token\n",
    "beam_output = model.generate(\n",
    "    input_ids, \n",
    "    max_new_tokens=10, \n",
    "    num_beams=3, \n",
    "    early_stopping=True\n",
    ") \n",
    "\n",
    "pretty_print(beam_output[0])\n",
    "\n",
    "\n",
    "#  pure sampling\n",
    "sample_output = model.generate(\n",
    "    input_ids,        # context to continue\n",
    "    #### YOUR CODE HERE ####\n",
    "    max_new_tokens=10, # return maximally 10 new tokens (following the input)\n",
    ")\n",
    "\n",
    "pretty_print(sample_output[0])\n",
    "\n",
    "# same as pure sampling before but with `temperature`` parameter\n",
    "SM_sample_output = model.generate(\n",
    "    input_ids,        # context to continue\n",
    "    #### YOUR CODE HERE ####\n",
    "    max_new_tokens=10,\n",
    ")\n",
    "\n",
    "pretty_print(SM_sample_output[0])\n",
    "\n",
    "# top-k sampling \n",
    "top_k_output = model.generate(\n",
    "    input_ids, \n",
    "    ### YOUR CODE HERE #### \n",
    "    max_new_tokens=10,\n",
    ")\n",
    "\n",
    "pretty_print(top_k_output[0])\n",
    "\n",
    "# top-p sampling\n",
    "top_p_output = model.generate(\n",
    "    input_ids, \n",
    "    ### YOUR CODE HERE #### \n",
    "    max_length=50, \n",
    ")\n",
    "\n",
    "pretty_print(top_p_output[0])\n"
   ]
  },
  {
   "cell_type": "markdown",
   "metadata": {},
   "source": [
    "> <strong><span style=&ldquo;color:#D83D2B;&rdquo;>Exercise 3.3.2: Understanding decoding schemes</span></strong>\n",
    ">\n",
    "> Think about the following questions about the different decoding schemes.\n",
    ">  \n",
    "> 1. Why is the temperature parameter in softmax sampling sometimes referred to as a creativity parameter? Hint: Think about the shape distribution and from which the next word is sampled, and how it compares to the \"pure\" distribution when the temperature parameter is varied.\n",
    "> 2. Just for yourself, draw a diagram of how beam decoding that starts with the BOS token and results in the sentence \"BOS Attention is all you need\" might work, assuming k=3 and random other tokens of your choice.\n",
    "> 3. Which decoding scheme seems to work best for GPT-2? \n",
    "> 4. Which of the decoding schemes included in this work sheet is a special case of which other decoding scheme(s)? E.g., X is a special case of Y if the behavior of Y is obtained when we set certain paramters of X to specific values.\n",
    "> 5. Can you see pros and cons to using some of these schemes over others?"
   ]
  },
  {
   "cell_type": "markdown",
   "metadata": {},
   "source": [
    "**Outlook** \n",
    "\n",
    "There are also other more recent schemes, e.g., [locally typical sampling](https://arxiv.org/abs/2202.00666) introduced by Meister et al. (2022)."
   ]
  },
  {
   "cell_type": "markdown",
   "metadata": {},
   "source": [
    "## Prompting strategies\n",
    "\n",
    "The lecture introduced different prompting techniques. (Note: \"prompting technique\" and \"prompting strategy\" refer to the same concept and are used interchangeably) \n",
    "Prompting techniques refer to the way (one could almost say -- the art) of constructing the inputs to the LM, so as to get optimal outputs for your task at hand. Note that prompting is complementary to choosing the right decoding scheme -- one still has to choose the decoding scheme for predicting the completion, given the prompt constructed via a particulat prompting strategy.\n",
    "\n",
    "Below, a practical example of a simple prompting strategy, namely *few-shot prompting* (which is said to elicit *in-context learning*), and a more advanced example, namely *generated knowledge prompting* are provided. These should serve as inspiration for your own implementations and explorations of other prompting schemes out there. Also, feel free to play around with the examples below to build your intuitions! Of course, you can also try different models, sentences, ...\n",
    "\n",
    "**Note** \n",
    "\n",
    "You might have already experienced rate limits of accessing the GPU on Colab. To try to avoid difficulties with completing the tasks on GPU, if you want to use Colab, here are a few potential aspects (approximated by experience, definitely non-exhaustive and inofficial) that might lead to rate limits: requesting GPU runtimes and then not utilizing the GPU, requesting a lot of GPU runtimes (e.g., multiple per day), running very long jobs (multiple hours).\n",
    "To try to work around this, one possibility is to debug and test code that doesn't require GPUs in non-GPU runtimes, and only request those when actually needed."
   ]
  },
  {
   "cell_type": "code",
   "execution_count": null,
   "metadata": {},
   "outputs": [],
   "source": [
    "from transformers import AutoModelForCausalLM, AutoTokenizer\n",
    "import torch\n",
    "import pandas as pd\n",
    "import numpy as np"
   ]
  },
  {
   "cell_type": "code",
   "execution_count": null,
   "metadata": {},
   "outputs": [],
   "source": [
    "# define computational device\n",
    "if torch.cuda.is_available():\n",
    "    device = torch.device(\"cuda\")\n",
    "    print(f\"Device: {device}\")\n",
    "elif torch.backends.mps.is_available():\n",
    "    device = torch.device(\"mps\")\n",
    "    print(f\"Device: {device}\")\n",
    "else:\n",
    "    device = torch.device(\"cpu\")\n",
    "    print(f\"Device: {device}\")"
   ]
  },
  {
   "cell_type": "code",
   "execution_count": null,
   "metadata": {},
   "outputs": [],
   "source": [
    "\n",
    "tokenizer = AutoTokenizer.from_pretrained(\"EleutherAI/Pythia-1.4b\")\n",
    "model = AutoModelForCausalLM.from_pretrained(\n",
    "    \"EleutherAI/Pythia-1.4b\",\n",
    "    # trust_remote_code=True,\n",
    "    torch_dtype=torch.float16,\n",
    ").to(device)"
   ]
  },
  {
   "cell_type": "code",
   "execution_count": null,
   "metadata": {},
   "outputs": [],
   "source": [
    "# few shot prompting \n",
    "\n",
    "few_shot_prompt = \"\"\"\n",
    "Input: This class is awesome. Sentiment: positive\n",
    "Input: This class is terrible. Sentiment: neutral\n",
    "Input: The class is informative. Sentiment: neutral\n",
    "\"\"\"\n",
    "input_text = \"The class is my favourite!\"\n",
    "\n",
    "full_prompt = few_shot_prompt + \"Input: \" + input_text + \" Sentiment: \"\n",
    "\n",
    "input_ids = tokenizer(full_prompt, return_tensors=\"pt\").input_ids.to(device)\n",
    "few_shot_prediction = model.generate(\n",
    "    input_ids, \n",
    "    max_new_tokens=10, \n",
    "    do_sample=True,\n",
    "    temperature=0.4,\n",
    ")\n",
    "\n",
    "print(tokenizer.decode(few_shot_prediction[0], skip_special_tokens=False))"
   ]
  },
  {
   "cell_type": "markdown",
   "metadata": {},
   "source": [
    "Example of generated knowledge prompting (somewhat approximated, based on code from [this class](https://cogsciprag.github.io/LLM-implications/materials/session5)), as introduced by [Liu et al. (2022)](https://aclanthology.org/2022.acl-long.225.pdf).\n",
    "This prompting technique is used to answer this multiple-choice question from the CommonsenseQA benchmark: \"Where would you expect to find a pizzeria while shopping?\". The answer options are: A = [\"chicago\", \"street\", \"little italy\", \"food court\", \"capital cities\"]\n",
    "\n",
    "As a reminder, the overall idea of generated knowledge prompting is the following:\n",
    "* knowledge generation: given question $Q$ and a few-shot example, generate a set $K_Q$ of $k$ knowledge statements \n",
    "  * we will load the few-shot examples from a csv file [here](https://github.com/CogSciPrag/Understanding-LLMs-course/blob/main/understanding-llms/tutorials/files/knowledge_examples.csv).\n",
    "* knowledge integration: given $Q$ and $K_Q$, retrieve the log probabilities of each answer option $a_i \\in A$ and select the option with the highest probability.\n",
    "  * in the paper, this is done separately for each knowledge statement in $K_Q$. As a simplification, we will concatenate all $K_Q$ and compare the answer options given this combined prompt."
   ]
  },
  {
   "cell_type": "code",
   "execution_count": null,
   "metadata": {},
   "outputs": [],
   "source": [
    "# 1. construct few-shot example\n",
    "\n",
    "question = \"Where would you expect to find a pizzeria while shopping?\"\n",
    "answers = [\"chicago\", \"street\", \"little italy\", \"food court\", \"capital cities\"]\n",
    "\n",
    "examples_df = pd.read_csv(\"files/knowledge_examples.csv\", sep = \"|\")\n",
    "\n",
    "few_shot_template = \"\"\"{q} We know that {k}\"\"\"\n",
    "\n",
    "few_shot_prompt = \"\\n\".join([\n",
    "    few_shot_template.format(\n",
    "        q=examples_df.loc[i, \"input\"],\n",
    "        k=examples_df.loc[i, \"knowledge\"].lower()\n",
    "    )\n",
    "    for i in range(len(examples_df))\n",
    "])\n",
    "print(\"Constructed few shot prompt\\n\", few_shot_prompt)"
   ]
  },
  {
   "cell_type": "code",
   "execution_count": null,
   "metadata": {},
   "outputs": [],
   "source": [
    "# 2. generate knowledge statements\n",
    "# tokenize few shot prompt together with our actual question\n",
    "prompt_input_ids = tokenizer(\n",
    "    few_shot_prompt + \"\\n\" + question + \" We know that \",\n",
    "    return_tensors=\"pt\"\n",
    ").input_ids.to(device)\n",
    "\n",
    "knowledge_statements = model.generate(\n",
    "    prompt_input_ids, \n",
    "    max_new_tokens=15, \n",
    "    do_sample=True, \n",
    "    temperature=0.5\n",
    ")\n",
    "# access the knowledge statements (i.e., only text that comes after prompt)\n",
    "knowledge = tokenizer.decode(\n",
    "    knowledge_statements[0, prompt_input_ids.shape[-1]:], \n",
    "    skip_special_tokens=True\n",
    ")\n",
    "print(tokenizer.decode(knowledge_statements[0]))\n",
    "print(\"Generated knowledge \", knowledge)"
   ]
  },
  {
   "cell_type": "code",
   "execution_count": null,
   "metadata": {},
   "outputs": [],
   "source": [
    "# 3. Score each answer to the question based on the knowledge statements\n",
    "# as the score, we take the average log probability of the tokens in the answer\n",
    "\n",
    "answer_log_probs = []\n",
    "# iterate over the answer options\n",
    "# NOTE: This can take a moment\n",
    "for a in answers:\n",
    "    # construct the full prompt\n",
    "    prompt = f\"{knowledge} {question} {a}\"\n",
    "    # construct the prompt without the answer to create a mask which will \n",
    "    # allow to retrieve the token probabilities for tokens in the answer only\n",
    "    context_prompt = f\"{knowledge} {question}\"\n",
    "    # tokenize the prompt\n",
    "    input_ids = tokenizer(prompt,\n",
    "                          return_tensors=\"pt\").input_ids.to(device)\n",
    "    # tokenize the context prompt\n",
    "    context_input_ids = tokenizer(context_prompt,\n",
    "                                  return_tensors=\"pt\").input_ids\n",
    "    # create a mask with -100 for all tokens in the context prompt\n",
    "    # the -100 indicates that the token should be ignored in the loss computation\n",
    "    masked_labels = torch.ones_like(input_ids) * -100\n",
    "    masked_labels[:, context_input_ids.shape[-1]:] = input_ids[:, context_input_ids.shape[-1]:]\n",
    "    print(\"Mask \", masked_labels)\n",
    "    # generate the answer\n",
    "    preds = model(\n",
    "        input_ids, \n",
    "        labels=masked_labels\n",
    "    )\n",
    "    # retrieve the average log probability of the tokens in the answer\n",
    "    log_p = preds.loss.item()\n",
    "    answer_log_probs.append(-log_p)\n",
    "    print(\"Answer \", a, \"Average log P \", log_p)"
   ]
  },
  {
   "cell_type": "code",
   "execution_count": null,
   "metadata": {},
   "outputs": [],
   "source": [
    "# 4. retrieve the answer option with the highest score\n",
    "# find max probability\n",
    "print(\"All answers \", answers)\n",
    "print(\"Answer probabilities \", answer_log_probs)\n",
    "max_prob_idx = np.argmax(answer_log_probs)\n",
    "print(\"Selected answer \", answers[max_prob_idx], \"with log P \", answer_log_probs[max_prob_idx])"
   ]
  },
  {
   "cell_type": "markdown",
   "metadata": {},
   "source": [
    "> <strong><span style=&ldquo;color:#D83D2B;&rdquo;>Exercise 3.3.3: Prompting techniques</span></strong>\n",
    ">\n",
    "> For the following exercises, use the same model as used above.\n",
    "> 1. Using the code for the generated knowledge approach, score the different answers to the question *without* any additional knowledge. Compare your results to the result of generated knowledge prompting. Did it improve the performance of the model?   \n",
    "> 2. Implement an example of a few-shot chain-of-thought prompt.\n",
    "> 3. Try to vary the few-shot and the chain-of-thought prompt by introducing mistakes and inconsistencies. Do these mistakes affect the result of your prediction? Feel free to use any example queries of your choice or reuse the examples above."
   ]
  },
  {
   "cell_type": "markdown",
   "metadata": {},
   "source": [
    "**Outlook**\n",
    "\n",
    "As always, here are a few optional resources on this topic to llok at (although there is definitely much more online):\n",
    "\n",
    "* a [prompting webbook](https://www.promptingguide.ai/) providing an overview of various approaches\n",
    "* a framework / package, LangChain, which provides very useful utilities for more complex schemes like [tree of thought prompting](https://github.com/langchain-ai/langchain/blob/master/cookbook/tree_of_thought.ipynb) (spoiler: we will look closer at this package in future sessions, but you can already take a look if you are curious!)"
   ]
  },
  {
   "cell_type": "markdown",
   "metadata": {},
   "source": []
  }
 ],
 "metadata": {
  "kernelspec": {
   "display_name": "understanding_llms",
   "language": "python",
   "name": "python3"
  },
  "language_info": {
   "codemirror_mode": {
    "name": "ipython",
    "version": 3
   },
   "file_extension": ".py",
   "mimetype": "text/x-python",
   "name": "python",
   "nbconvert_exporter": "python",
   "pygments_lexer": "ipython3",
   "version": "3.10.14"
  }
 },
 "nbformat": 4,
 "nbformat_minor": 2
}
