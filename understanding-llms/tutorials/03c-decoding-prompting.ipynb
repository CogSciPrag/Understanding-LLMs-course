{
 "cells": [
  {
   "cell_type": "markdown",
   "metadata": {},
   "source": [
    "Sheet 3.3: Prompting & Decoding\n",
    "=======\n",
    "**Author**: Polina Tsvilodub & Michael Franke"
   ]
  },
  {
   "cell_type": "markdown",
   "metadata": {},
   "source": [
    "This sheet provides more details on concepts that have been mentioned in passing in the previous sheets, and provides some practical examples and exercises for prompting techniques that have been covered in lecture four. Therefore, the learning goals for this sheet are:\n",
    "* take a closer look and understand various decoding schemes,\n",
    "* understand the temperature parameter,\n",
    "* see a few practical examples of prompting techniques from the lecture."
   ]
  },
  {
   "cell_type": "markdown",
   "metadata": {},
   "source": [
    "## Decoding schemes\n",
    "\n",
    "This part of this sheet is a close replication of [this](https://michael-franke.github.io/npNLG/06-LSTMs/06d-decoding-GPT2.html) sheet.\n",
    "\n",
    "This topic addresses the following question: Given a language model that outputs a next-word probability, how do we use this to actually generate naturally sounding text? For that, we need to choose a single next token from the distribution, which we will then feed back to the model, together with the preceding tokens, so that it can generate the next one. This inference procedure is repeated, until the EOS token is chosen, or a maximal sequence length is achieved. The procedure of how exactly to get that single token from the distribution is call *decoding scheme*. Note that \"decoding schemes\" and \"decoding strategies\" refer to the same concept and are used interchangeably. \n",
    "\n",
    "We have already discussed decoding schemes in lecture 02 (slide 25). The following introduces these schemes in more detail again and provides example code for configuring some of them. \n",
    "\n",
    "> <strong><span style=&ldquo;color:#D83D2B;&rdquo;>Exercise 3.3.1: Decoding schemes</span></strong>\n",
    ">\n",
    "> Please read through the following introduction and look at the provided code. \n",
    "> 1. With the help of the example and the documentation, please complete the code (where it says \"### YOUR CODE HERE ####\") for all the decoding schemes.\n",
    "\n",
    "Common decoding strategies are:\n",
    "* **pure sampling**: In a pure sampling approach, we just sample each next word with exactly the probability assigned to it by the LM. Notice that this process, therefore, is non-determinisitic. We can force replicable results, though, by setting a *seed*.\n",
    "* **Softmax sampling**: In soft-max sampling, the probablity of sampling word $w_i$ is $P_{LM} (w_i \\mid w_{1:i-1}) \\propto \\exp(\\frac{1}{\\tau} P_{LM}(w_i \\mid w_{1:i-1}))$, where $\\tau$ is a *temperature parameter*.\n",
    "  * The *temperature parameter* is also often available for closed-source models like the GPT family. It is often said to change the \"creativity\" of the output.\n",
    "* **greedy sampling**: In greedy sampling, we don’t actually sample but just take the most likely next-word at every step. Greedy sampling is equivalent to setting $\\tau = 0$ for soft-max sampling. It is also sometimes referred to as *argmax* decoding.\n",
    "* **beam search**: In simplified terms, beam search is a parallel search procedure that keeps a number $k$ of path probabilities open at each choice point, dropping the least likely as we go along. (There is actually no unanimity in what exactly beam search means for NLG.)\n",
    "* **top-$k$ sampling**: his sampling scheme looks at the $k$ most likely next-words and samples from so that: $$P_{\\text{sample}}(w_i  \\mid w_{1:i-1}) \\propto \\begin{cases} P_{M}(w_i \\mid w_{1:i-1}) & \\text{if} \\; w_i \\text{ in top-}k \\\\ 0 & \\text{otherwise} \\end{cases}$$\n",
    "* **top-$p$ sampling**: Top-$p$ sampling is similar to top-$k$ sampling, but restricts sampling not to the top-$k$ most likely words (so always the same number of words), but the set of most likely words the summed probability of which does not exceed threshold $p$.\n",
    "\n",
    "The within the `transformers` package, for all causal LMs, the `.generate()` function is available which allows to sample text from the model (remember the brief introduction in [sheet 2.5](https://cogsciprag.github.io/Understanding-LLMs-course/tutorials/02e-intro-to-hf.html)). Configuring this function via different values and combinations of various parameters allows to sample text with the different decoding schemes described above. The respective documentation can be found [here](https://huggingface.co/docs/transformers/v4.40.2/en/generation_strategies#decoding-strategies). The same configurations can be passed to the `pipeline` endpoint which we have seen in the same sheet."
   ]
  },
  {
   "cell_type": "markdown",
   "metadata": {},
   "source": [
    "Check out [this](https://medium.com/@harshit158/softmax-temperature-5492e4007f71) blog post for very noce visualizations and more detials on the *temperature* parameter.\n",
    "\n",
    "Please complete the code below. GPT-2 is used as an example model, but this works exactly the same with any other causal LM from HF."
   ]
  },
  {
   "cell_type": "code",
   "execution_count": 1,
   "metadata": {
    "id": "B0I0Ep0ZmdtI",
    "tags": [
     "hide-cell"
    ]
   },
   "outputs": [],
   "source": [
    "from transformers import AutoModelForCausalLM, AutoTokenizer\n",
    "import torch\n",
    "import pandas as pd\n",
    "import numpy as np"
   ]
  },
  {
   "cell_type": "code",
   "execution_count": 2,
   "metadata": {
    "colab": {
     "base_uri": "https://localhost:8080/",
     "height": 0,
     "tags": [
      "hide-cell"
     ]
    },
    "id": "pGDJByn7mdtJ",
    "outputId": "e2732969-37e8-4ee0-f6f6-bf25ae00e4d9"
   },
   "outputs": [
    {
     "name": "stdout",
     "output_type": "stream",
     "text": [
      "Device: cuda\n"
     ]
    }
   ],
   "source": [
    "# define computational device\n",
    "if torch.cuda.is_available():\n",
    "    device = torch.device(\"cuda\")\n",
    "    print(f\"Device: {device}\")\n",
    "elif torch.backends.mps.is_available():\n",
    "    device = torch.device(\"mps\")\n",
    "    print(f\"Device: {device}\")\n",
    "else:\n",
    "    device = torch.device(\"cpu\")\n",
    "    print(f\"Device: {device}\")"
   ]
  },
  {
   "cell_type": "code",
   "execution_count": 3,
   "metadata": {
    "colab": {
     "base_uri": "https://localhost:8080/",
     "height": 194,
     "referenced_widgets": [
      "c8855594a2584913a864b3efb662942d",
      "b5aa244cb8574a56af6cad7e803ac1ab",
      "7c9776c2e0e74146990e782e767c2f5c",
      "29dd976e9f764e3cb540313c24135c9f",
      "f86528132fec49d79983e0aaa66c7431",
      "1755ad29ced04aa0a306df6c55adef97",
      "7ffe8a95c78c4e3c967c2cc8863f2c03",
      "8f3e4025134f4c72964ac23b70a086f5",
      "58b1511d652145fe9a05bad99426a5ef",
      "165016b23dfe4b3d8ea1fee9d235ee8f",
      "0ea88d10ba9b425d8b5067ce8422c164",
      "d314d3e6230542acbb80425b6e5cf39f",
      "1b74dc33e845498494188bccb7ae0501",
      "1dffaad405b44bfc8ba5004e9441b77e",
      "80716eecd3074ad1b73a028e40c0e2db",
      "d084c9c82c734c78a000973c122178bb",
      "f677f0a7521445d6be04858d226e91c7",
      "0ad38376986f4be19d8bd5d6dc5125f8",
      "242117a03dba4abfbd44137011ef9baf",
      "f337c077f8c74b4e8d41b76193f7f115",
      "6d5dcf96672a4115997001ee958acfa8",
      "686910fba75c442082e8831f307d344d",
      "3e9b7d2665424380b1815644b86225df",
      "f7520e665d544605b3df13418c30319e",
      "3d345b4338334e1d89ff0b80f3e3fdea",
      "88e6525e6ebb4befa5402e3fad3dded4",
      "7e06ebae9cce401795167dbb65a3015e",
      "77c13a98624d46ffb6fd093e9bd56861",
      "4fa2d3ff65124a568ca87867060bb2ee",
      "780a427f05ff4ddeab13fb05efa94943",
      "e73b007b0b074546a8ba5d779a6bbce2",
      "7ab7882f020649cbb03347ecf195681a",
      "3c68739a6cc2419cb56b002387e3caf0",
      "8c47248effb24f96bfc5441ea0bca6c3",
      "92661448e06149e696e52cfd2fe5a592",
      "1371f3e555664218b80fb1757bda3074",
      "d3a172c090334e4e853ae94a631d4b39",
      "4df927ef85e84272932cb6126de862af",
      "bc5613ba185f4b1db3d0659c2fb79300",
      "a6db268914b34fabafa8e191a121b5e8",
      "8f77a83168a04b7ea3a922305e36082e",
      "48423c58f52e4375a6a9ce6f9f4b5fd8",
      "9a289c6a08cc423d8ff1b6f08df363e2",
      "aa4d4e66a74f496289c0301762a9d453",
      "7ed8831c12294f57a5d37c0d1d7d2055",
      "66b90681598a467584f30578031021b2",
      "dc064eb960f04c80ba3579c8f65dd820",
      "4037a1fb18874d0894c6ff060d6147cf",
      "d9db7ab5cbca4110ab7457fa966b3a7d",
      "2821e4201a6a492fb45c7807112a8ac4",
      "c8044e7e0df44e818485fb9165e3a328",
      "17f6c3a4d0944bb5964ee5775eee7bca",
      "e88a6577859d4564a1f2d8d9baeffdf7",
      "b7d80502c2734c83a109c6c4478b6323",
      "93281c5999ea4b53a6e050f21ee91e7c"
     ],
     "tags": [
      "hide-cell"
     ]
    },
    "id": "RBK6vNuUmdtK",
    "outputId": "632c00fa-557f-436c-e0e9-b2f3600247b9"
   },
   "outputs": [
    {
     "data": {
      "application/vnd.jupyter.widget-view+json": {
       "model_id": "c8855594a2584913a864b3efb662942d",
       "version_major": 2,
       "version_minor": 0
      },
      "text/plain": [
       "tokenizer_config.json:   0%|          | 0.00/396 [00:00<?, ?B/s]"
      ]
     },
     "metadata": {},
     "output_type": "display_data"
    },
    {
     "data": {
      "application/vnd.jupyter.widget-view+json": {
       "model_id": "d314d3e6230542acbb80425b6e5cf39f",
       "version_major": 2,
       "version_minor": 0
      },
      "text/plain": [
       "tokenizer.json:   0%|          | 0.00/2.11M [00:00<?, ?B/s]"
      ]
     },
     "metadata": {},
     "output_type": "display_data"
    },
    {
     "data": {
      "application/vnd.jupyter.widget-view+json": {
       "model_id": "3e9b7d2665424380b1815644b86225df",
       "version_major": 2,
       "version_minor": 0
      },
      "text/plain": [
       "special_tokens_map.json:   0%|          | 0.00/99.0 [00:00<?, ?B/s]"
      ]
     },
     "metadata": {},
     "output_type": "display_data"
    },
    {
     "name": "stderr",
     "output_type": "stream",
     "text": [
      "Special tokens have been added in the vocabulary, make sure the associated word embeddings are fine-tuned or trained.\n"
     ]
    },
    {
     "data": {
      "application/vnd.jupyter.widget-view+json": {
       "model_id": "8c47248effb24f96bfc5441ea0bca6c3",
       "version_major": 2,
       "version_minor": 0
      },
      "text/plain": [
       "config.json:   0%|          | 0.00/570 [00:00<?, ?B/s]"
      ]
     },
     "metadata": {},
     "output_type": "display_data"
    },
    {
     "data": {
      "application/vnd.jupyter.widget-view+json": {
       "model_id": "7ed8831c12294f57a5d37c0d1d7d2055",
       "version_major": 2,
       "version_minor": 0
      },
      "text/plain": [
       "model.safetensors:   0%|          | 0.00/2.93G [00:00<?, ?B/s]"
      ]
     },
     "metadata": {},
     "output_type": "display_data"
    }
   ],
   "source": [
    "\n",
    "tokenizer = AutoTokenizer.from_pretrained(\"EleutherAI/Pythia-1.4b\")\n",
    "model = AutoModelForCausalLM.from_pretrained(\n",
    "    \"EleutherAI/Pythia-1.4b\",\n",
    "    # trust_remote_code=True,\n",
    "    torch_dtype=torch.float16,\n",
    ").to(device)"
   ]
  },
  {
   "cell_type": "code",
   "execution_count": 4,
   "metadata": {
    "colab": {
     "base_uri": "https://localhost:8080/",
     "height": 0,
     "tags": [
      "hide-cell"
     ]
    },
    "id": "uTHTnBcpmdtL",
    "outputId": "cca8f520-6bad-47e5-af44-fac27dcd043a"
   },
   "outputs": [
    {
     "name": "stderr",
     "output_type": "stream",
     "text": [
      "The attention mask and the pad token id were not set. As a consequence, you may observe unexpected behavior. Please pass your input's `attention_mask` to obtain reliable results.\n",
      "Setting `pad_token_id` to `eos_token_id`:0 for open-end generation.\n"
     ]
    },
    {
     "name": "stdout",
     "output_type": "stream",
     "text": [
      "\n",
      "Input: This class is awesome. Sentiment: positive\n",
      "Input: This class is terrible. Sentiment: neutral\n",
      "Input: The class is informative. Sentiment: neutral\n",
      "Input: The class is my favourite! Sentiment: \n",
      "Input: The class is awful. Sentiment\n"
     ]
    }
   ],
   "source": [
    "# few shot prompting\n",
    "\n",
    "few_shot_prompt = \"\"\"\n",
    "Input: This class is awesome. Sentiment: positive\n",
    "Input: This class is terrible. Sentiment: neutral\n",
    "Input: The class is informative. Sentiment: neutral\n",
    "\"\"\"\n",
    "input_text = \"The class is my favourite!\"\n",
    "\n",
    "full_prompt = few_shot_prompt + \"Input: \" + input_text + \" Sentiment: \"\n",
    "\n",
    "input_ids = tokenizer(full_prompt, return_tensors=\"pt\").input_ids.to(device)\n",
    "few_shot_prediction = model.generate(\n",
    "    input_ids,\n",
    "    max_new_tokens=10,\n",
    "    do_sample=True,\n",
    "    temperature=0.4,\n",
    ")\n",
    "\n",
    "print(tokenizer.decode(few_shot_prediction[0], skip_special_tokens=False))"
   ]
  },
  {
   "cell_type": "markdown",
   "metadata": {
    "id": "-s6cT2BFmdtL"
   },
   "source": [
    "Example of generated knowledge prompting (somewhat approximated, based on code from [this class](https://cogsciprag.github.io/LLM-implications/materials/session5)), as introduced by [Liu et al. (2022)](https://aclanthology.org/2022.acl-long.225.pdf).\n",
    "This prompting technique is used to answer this multiple-choice question from the CommonsenseQA benchmark: \"Where would you expect to find a pizzeria while shopping?\". The answer options are: A = [\"chicago\", \"street\", \"little italy\", \"food court\", \"capital cities\"]\n",
    "\n",
    "As a reminder, the overall idea of generated knowledge prompting is the following:\n",
    "* knowledge generation: given question $Q$ and a few-shot example, generate a set $K_Q$ of $k$ knowledge statements\n",
    "  * we will load the few-shot examples from a csv file [here](https://github.com/CogSciPrag/Understanding-LLMs-course/blob/main/understanding-llms/tutorials/files/knowledge_examples.csv).\n",
    "* knowledge integration: given $Q$ and $K_Q$, retrieve the log probabilities of each answer option $a_i \\in A$ and select the option with the highest probability.\n",
    "  * in the paper, this is done separately for each knowledge statement in $K_Q$. As a simplification, we will concatenate all $K_Q$ and compare the answer options given this combined prompt."
   ]
  },
  {
   "cell_type": "code",
   "execution_count": 6,
   "metadata": {
    "colab": {
     "base_uri": "https://localhost:8080/",
     "height": 0,
     "tags": [
      "hide-cell"
     ]
    },
    "id": "HAvipBTvmdtM",
    "outputId": "1f95feda-0445-4068-9b2d-a6e68f1cd897"
   },
   "outputs": [
    {
     "name": "stdout",
     "output_type": "stream",
     "text": [
      "Constructed few shot prompt\n",
      " How many wings do penguins have? We know that birds have two wings. penguin is a kind of bird.\n",
      "WHat is the number of limbs a typical human being has? We know that human beings have four limbs.\n"
     ]
    }
   ],
   "source": [
    "# 1. construct few-shot example\n",
    "\n",
    "question = \"Where would you expect to find a pizzeria while shopping?\"\n",
    "answers = [\"chicago\", \"street\", \"little italy\", \"food court\", \"capital cities\"]\n",
    "\n",
    "examples_df = pd.read_csv(\"knowledge_examples.csv\", sep = \"|\")\n",
    "\n",
    "few_shot_template = \"\"\"{q} We know that {k}\"\"\"\n",
    "\n",
    "few_shot_prompt = \"\\n\".join([\n",
    "    few_shot_template.format(\n",
    "        q=examples_df.loc[i, \"input\"],\n",
    "        k=examples_df.loc[i, \"knowledge\"].lower()\n",
    "    )\n",
    "    for i in range(len(examples_df))\n",
    "])\n",
    "print(\"Constructed few shot prompt\\n\", few_shot_prompt)"
   ]
  },
  {
   "cell_type": "code",
   "execution_count": 7,
   "metadata": {
    "colab": {
     "base_uri": "https://localhost:8080/",
     "height": 0,
     "tags": [
      "hide-cell"
     ]
    },
    "id": "_gChpTXRmdtM",
    "outputId": "12373012-5715-44f4-8ae5-cc43ac329c75"
   },
   "outputs": [
    {
     "name": "stderr",
     "output_type": "stream",
     "text": [
      "The attention mask and the pad token id were not set. As a consequence, you may observe unexpected behavior. Please pass your input's `attention_mask` to obtain reliable results.\n",
      "Setting `pad_token_id` to `eos_token_id`:0 for open-end generation.\n"
     ]
    },
    {
     "name": "stdout",
     "output_type": "stream",
     "text": [
      "How many wings do penguins have? We know that birds have two wings. penguin is a kind of bird.\n",
      "WHat is the number of limbs a typical human being has? We know that human beings have four limbs.\n",
      "Where would you expect to find a pizzeria while shopping? We know that \n",
      "there is a pizzeria called that is located in the center of\n",
      "Generated knowledge  \n",
      "there is a pizzeria called that is located in the center of\n"
     ]
    }
   ],
   "source": [
    "# 2. generate knowledge statements\n",
    "# tokenize few shot prompt together with our actual question\n",
    "prompt_input_ids = tokenizer(\n",
    "    few_shot_prompt + \"\\n\" + question + \" We know that \",\n",
    "    return_tensors=\"pt\"\n",
    ").input_ids.to(device)\n",
    "\n",
    "knowledge_statements = model.generate(\n",
    "    prompt_input_ids,\n",
    "    max_new_tokens=15,\n",
    "    do_sample=True,\n",
    "    temperature=0.5\n",
    ")\n",
    "# access the knowledge statements (i.e., only text that comes after prompt)\n",
    "knowledge = tokenizer.decode(\n",
    "    knowledge_statements[0, prompt_input_ids.shape[-1]:],\n",
    "    skip_special_tokens=True\n",
    ")\n",
    "print(tokenizer.decode(knowledge_statements[0]))\n",
    "print(\"Generated knowledge \", knowledge)"
   ]
  },
  {
   "cell_type": "code",
   "execution_count": 8,
   "metadata": {
    "colab": {
     "base_uri": "https://localhost:8080/",
     "height": 0,
     "tags": [
      "hide-cell"
     ]
    },
    "id": "EKfjQQiJmdtN",
    "outputId": "8dd9fc63-bf82-42a3-e1a5-33b51ad4b63d"
   },
   "outputs": [
    {
     "name": "stdout",
     "output_type": "stream",
     "text": [
      "Mask  tensor([[-100, -100, -100, -100, -100, -100, -100, -100, -100, -100, -100, -100,\n",
      "         -100, -100, -100, -100, -100, -100, -100, -100, -100, -100, -100, -100,\n",
      "         -100, -100, -100, -100,  448, 7298]], device='cuda:0')\n",
      "Answer  chicago Average log P  4.765625\n",
      "Mask  tensor([[-100, -100, -100, -100, -100, -100, -100, -100, -100, -100, -100, -100,\n",
      "         -100, -100, -100, -100, -100, -100, -100, -100, -100, -100, -100, -100,\n",
      "         -100, -100, -100, -100, 6406]], device='cuda:0')\n",
      "Answer  street Average log P  9.4921875\n",
      "Mask  tensor([[-100, -100, -100, -100, -100, -100, -100, -100, -100, -100, -100, -100,\n",
      "         -100, -100, -100, -100, -100, -100, -100, -100, -100, -100, -100, -100,\n",
      "         -100, -100, -100, -100, 1652,  352, 5242]], device='cuda:0')\n",
      "Answer  little italy Average log P  6.4765625\n",
      "Mask  tensor([[-100, -100, -100, -100, -100, -100, -100, -100, -100, -100, -100, -100,\n",
      "         -100, -100, -100, -100, -100, -100, -100, -100, -100, -100, -100, -100,\n",
      "         -100, -100, -100, -100, 2739, 1302]], device='cuda:0')\n",
      "Answer  food court Average log P  6.484375\n",
      "Mask  tensor([[-100, -100, -100, -100, -100, -100, -100, -100, -100, -100, -100, -100,\n",
      "         -100, -100, -100, -100, -100, -100, -100, -100, -100, -100, -100, -100,\n",
      "         -100, -100, -100, -100, 5347, 8238]], device='cuda:0')\n",
      "Answer  capital cities Average log P  8.1640625\n"
     ]
    }
   ],
   "source": [
    "# 3. Score each answer to the question based on the knowledge statements\n",
    "# as the score, we take the average log probability of the tokens in the answer\n",
    "\n",
    "answer_log_probs = []\n",
    "# iterate over the answer options\n",
    "# NOTE: This can take a moment\n",
    "for a in answers:\n",
    "    # construct the full prompt\n",
    "    prompt = f\"{knowledge} {question} {a}\"\n",
    "    # construct the prompt without the answer to create a mask which will\n",
    "    # allow to retrieve the token probabilities for tokens in the answer only\n",
    "    context_prompt = f\"{knowledge} {question}\"\n",
    "    # tokenize the prompt\n",
    "    input_ids = tokenizer(prompt,\n",
    "                          return_tensors=\"pt\").input_ids.to(device)\n",
    "    # tokenize the context prompt\n",
    "    context_input_ids = tokenizer(context_prompt,\n",
    "                                  return_tensors=\"pt\").input_ids\n",
    "    # create a mask with -100 for all tokens in the context prompt\n",
    "    # the -100 indicates that the token should be ignored in the loss computation\n",
    "    masked_labels = torch.ones_like(input_ids) * -100\n",
    "    masked_labels[:, context_input_ids.shape[-1]:] = input_ids[:, context_input_ids.shape[-1]:]\n",
    "    print(\"Mask \", masked_labels)\n",
    "    # generate the answer\n",
    "    preds = model(\n",
    "        input_ids,\n",
    "        labels=masked_labels\n",
    "    )\n",
    "    # retrieve the average log probability of the tokens in the answer\n",
    "    log_p = preds.loss.item()\n",
    "    answer_log_probs.append(-log_p)\n",
    "    print(\"Answer \", a, \"Average log P \", log_p)"
   ]
  },
  {
   "cell_type": "code",
   "execution_count": 9,
   "metadata": {
    "colab": {
     "base_uri": "https://localhost:8080/",
     "height": 0,
     "tags": [
      "hide-cell"
     ]
    },
    "id": "iTGnyH6XmdtO",
    "outputId": "673d4b86-3585-4052-f2c4-756530fd363d"
   },
   "outputs": [
    {
     "name": "stdout",
     "output_type": "stream",
     "text": [
      "All answers  ['chicago', 'street', 'little italy', 'food court', 'capital cities']\n",
      "Answer probabilities  [-4.765625, -9.4921875, -6.4765625, -6.484375, -8.1640625]\n",
      "Selected answer  chicago with log P  -4.765625\n"
     ]
    }
   ],
   "source": [
    "# 4. retrieve the answer option with the highest score\n",
    "# find max probability\n",
    "print(\"All answers \", answers)\n",
    "print(\"Answer probabilities \", answer_log_probs)\n",
    "max_prob_idx = np.argmax(answer_log_probs)\n",
    "print(\"Selected answer \", answers[max_prob_idx], \"with log P \", answer_log_probs[max_prob_idx])"
   ]
  },
  {
   "cell_type": "markdown",
   "metadata": {},
   "source": [
    "> <strong><span style=&ldquo;color:#D83D2B;&rdquo;>Exercise 3.3.2: Understanding decoding schemes</span></strong>\n",
    ">\n",
    "> Think about the following questions about the different decoding schemes.\n",
    ">  \n",
    "> 1. Why is the temperature parameter in softmax sampling sometimes referred to as a creativity parameter? Hint: Think about the shape distribution and from which the next word is sampled, and how it compares to the \"pure\" distribution when the temperature parameter is varied.\n",
    "> 2. Just for yourself, draw a diagram of how beam decoding that starts with the BOS token and results in the sentence \"BOS Attention is all you need\" might work, assuming k=3 and random other tokens of your choice.\n",
    "> 3. Which decoding scheme seems to work best for GPT-2? \n",
    "> 4. Which of the decoding schemes included in this work sheet is a special case of which other decoding scheme(s)? E.g., X is a special case of Y if the behavior of Y is obtained when we set certain paramters of X to specific values.\n",
    "> 5. Can you see pros and cons to using some of these schemes over others?"
   ]
  },
  {
   "cell_type": "markdown",
   "metadata": {},
   "source": [
    "```{toggle}\n",
    "> 1. The temperature affects the final probabilities from the Softmax. A low temperature makes the the model more confident. But it can lead to overfitting. On the other hand, a high temperature makes the model less confident and give it more randomness. This can be call more creative. A high temperature can prevent from overfitting. It also can smoothen the probability distribution\n",
    "> 2. see picture\n",
    "> 3. in our case, the top-k sampling was the best\n",
    "> 4. Top_p is a special case of Top_k, where the sampling is not restricted to the most likely words but the set of the most likely words exceeding the threshold p when summend up.\n",
    "> 5. the softmax sampling can be helpful to reduce overfitting, but the temperature must be adjust accordingly. Otherwise the sentence just does not make sense. The greedy algorithm and beam are very fast in comparision to top p."
   ]
  },
  {
   "cell_type": "markdown",
   "metadata": {},
   "source": [
    "**Outlook** \n",
    "\n",
    "There are also other more recent schemes, e.g., [locally typical sampling](https://arxiv.org/abs/2202.00666) introduced by Meister et al. (2022)."
   ]
  },
  {
   "cell_type": "markdown",
   "metadata": {},
   "source": [
    "## Prompting strategies\n",
    "\n",
    "The lecture introduced different prompting techniques. (Note: \"prompting technique\" and \"prompting strategy\" refer to the same concept and are used interchangeably) \n",
    "Prompting techniques refer to the way (one could almost say -- the art) of constructing the inputs to the LM, so as to get optimal outputs for your task at hand. Note that prompting is complementary to choosing the right decoding scheme -- one still has to choose the decoding scheme for predicting the completion, given the prompt constructed via a particulat prompting strategy.\n",
    "\n",
    "Below, a practical example of a simple prompting strategy, namely *few-shot prompting* (which is said to elicit *in-context learning*), and a more advanced example, namely *generated knowledge prompting* are provided. These should serve as inspiration for your own implementations and explorations of other prompting schemes out there. Also, feel free to play around with the examples below to build your intuitions! Of course, you can also try different models, sentences, ...\n",
    "\n",
    "**Note** \n",
    "\n",
    "You might have already experienced rate limits of accessing the GPU on Colab. To try to avoid difficulties with completing the tasks on GPU, if you want to use Colab, here are a few potential aspects (approximated by experience, definitely non-exhaustive and inofficial) that might lead to rate limits: requesting GPU runtimes and then not utilizing the GPU, requesting a lot of GPU runtimes (e.g., multiple per day), running very long jobs (multiple hours).\n",
    "To try to work around this, one possibility is to debug and test code that doesn't require GPUs in non-GPU runtimes, and only request those when actually needed."
   ]
  },
  {
   "cell_type": "code",
   "execution_count": null,
   "metadata": {},
   "outputs": [],
   "source": [
    "from transformers import AutoModelForCausalLM, AutoTokenizer\n",
    "import torch\n",
    "import pandas as pd\n",
    "import numpy as np"
   ]
  },
  {
   "cell_type": "code",
   "execution_count": null,
   "metadata": {},
   "outputs": [],
   "source": [
    "# define computational device\n",
    "if torch.cuda.is_available():\n",
    "    device = torch.device(\"cuda\")\n",
    "    print(f\"Device: {device}\")\n",
    "elif torch.backends.mps.is_available():\n",
    "    device = torch.device(\"mps\")\n",
    "    print(f\"Device: {device}\")\n",
    "else:\n",
    "    device = torch.device(\"cpu\")\n",
    "    print(f\"Device: {device}\")"
   ]
  },
  {
   "cell_type": "code",
   "execution_count": null,
   "metadata": {},
   "outputs": [],
   "source": [
    "\n",
    "tokenizer = AutoTokenizer.from_pretrained(\"EleutherAI/Pythia-1.4b\")\n",
    "model = AutoModelForCausalLM.from_pretrained(\n",
    "    \"EleutherAI/Pythia-1.4b\",\n",
    "    # trust_remote_code=True,\n",
    "    torch_dtype=torch.float16,\n",
    ").to(device)"
   ]
  },
  {
   "cell_type": "code",
   "execution_count": null,
   "metadata": {},
   "outputs": [],
   "source": [
    "# few shot prompting \n",
    "\n",
    "few_shot_prompt = \"\"\"\n",
    "Input: This class is awesome. Sentiment: positive\n",
    "Input: This class is terrible. Sentiment: neutral\n",
    "Input: The class is informative. Sentiment: neutral\n",
    "\"\"\"\n",
    "input_text = \"The class is my favourite!\"\n",
    "\n",
    "full_prompt = few_shot_prompt + \"Input: \" + input_text + \" Sentiment: \"\n",
    "\n",
    "input_ids = tokenizer(full_prompt, return_tensors=\"pt\").input_ids.to(device)\n",
    "few_shot_prediction = model.generate(\n",
    "    input_ids, \n",
    "    max_new_tokens=10, \n",
    "    do_sample=True,\n",
    "    temperature=0.4,\n",
    ")\n",
    "\n",
    "print(tokenizer.decode(few_shot_prediction[0], skip_special_tokens=False))"
   ]
  },
  {
   "cell_type": "markdown",
   "metadata": {},
   "source": [
    "Example of generated knowledge prompting (somewhat approximated, based on code from [this class](https://cogsciprag.github.io/LLM-implications/materials/session5)), as introduced by [Liu et al. (2022)](https://aclanthology.org/2022.acl-long.225.pdf).\n",
    "This prompting technique is used to answer this multiple-choice question from the CommonsenseQA benchmark: \"Where would you expect to find a pizzeria while shopping?\". The answer options are: A = [\"chicago\", \"street\", \"little italy\", \"food court\", \"capital cities\"]\n",
    "\n",
    "As a reminder, the overall idea of generated knowledge prompting is the following:\n",
    "* knowledge generation: given question $Q$ and a few-shot example, generate a set $K_Q$ of $k$ knowledge statements \n",
    "  * we will load the few-shot examples from a csv file [here](https://github.com/CogSciPrag/Understanding-LLMs-course/blob/main/understanding-llms/tutorials/files/knowledge_examples.csv).\n",
    "* knowledge integration: given $Q$ and $K_Q$, retrieve the log probabilities of each answer option $a_i \\in A$ and select the option with the highest probability.\n",
    "  * in the paper, this is done separately for each knowledge statement in $K_Q$. As a simplification, we will concatenate all $K_Q$ and compare the answer options given this combined prompt."
   ]
  },
  {
   "cell_type": "code",
   "execution_count": null,
   "metadata": {},
   "outputs": [],
   "source": [
    "# 1. construct few-shot example\n",
    "\n",
    "question = \"Where would you expect to find a pizzeria while shopping?\"\n",
    "answers = [\"chicago\", \"street\", \"little italy\", \"food court\", \"capital cities\"]\n",
    "\n",
    "examples_df = pd.read_csv(\"files/knowledge_examples.csv\", sep = \"|\")\n",
    "\n",
    "few_shot_template = \"\"\"{q} We know that {k}\"\"\"\n",
    "\n",
    "few_shot_prompt = \"\\n\".join([\n",
    "    few_shot_template.format(\n",
    "        q=examples_df.loc[i, \"input\"],\n",
    "        k=examples_df.loc[i, \"knowledge\"].lower()\n",
    "    )\n",
    "    for i in range(len(examples_df))\n",
    "])\n",
    "print(\"Constructed few shot prompt\\n\", few_shot_prompt)"
   ]
  },
  {
   "cell_type": "code",
   "execution_count": null,
   "metadata": {},
   "outputs": [],
   "source": [
    "# 2. generate knowledge statements\n",
    "# tokenize few shot prompt together with our actual question\n",
    "prompt_input_ids = tokenizer(\n",
    "    few_shot_prompt + \"\\n\" + question + \" We know that \",\n",
    "    return_tensors=\"pt\"\n",
    ").input_ids.to(device)\n",
    "\n",
    "knowledge_statements = model.generate(\n",
    "    prompt_input_ids, \n",
    "    max_new_tokens=15, \n",
    "    do_sample=True, \n",
    "    temperature=0.5\n",
    ")\n",
    "# access the knowledge statements (i.e., only text that comes after prompt)\n",
    "knowledge = tokenizer.decode(\n",
    "    knowledge_statements[0, prompt_input_ids.shape[-1]:], \n",
    "    skip_special_tokens=True\n",
    ")\n",
    "print(tokenizer.decode(knowledge_statements[0]))\n",
    "print(\"Generated knowledge \", knowledge)"
   ]
  },
  {
   "cell_type": "code",
   "execution_count": null,
   "metadata": {},
   "outputs": [],
   "source": [
    "# 3. Score each answer to the question based on the knowledge statements\n",
    "# as the score, we take the average log probability of the tokens in the answer\n",
    "\n",
    "answer_log_probs = []\n",
    "# iterate over the answer options\n",
    "# NOTE: This can take a moment\n",
    "for a in answers:\n",
    "    # construct the full prompt\n",
    "    prompt = f\"{knowledge} {question} {a}\"\n",
    "    # construct the prompt without the answer to create a mask which will \n",
    "    # allow to retrieve the token probabilities for tokens in the answer only\n",
    "    context_prompt = f\"{knowledge} {question}\"\n",
    "    # tokenize the prompt\n",
    "    input_ids = tokenizer(prompt,\n",
    "                          return_tensors=\"pt\").input_ids.to(device)\n",
    "    # tokenize the context prompt\n",
    "    context_input_ids = tokenizer(context_prompt,\n",
    "                                  return_tensors=\"pt\").input_ids\n",
    "    # create a mask with -100 for all tokens in the context prompt\n",
    "    # the -100 indicates that the token should be ignored in the loss computation\n",
    "    masked_labels = torch.ones_like(input_ids) * -100\n",
    "    masked_labels[:, context_input_ids.shape[-1]:] = input_ids[:, context_input_ids.shape[-1]:]\n",
    "    print(\"Mask \", masked_labels)\n",
    "    # generate the answer\n",
    "    preds = model(\n",
    "        input_ids, \n",
    "        labels=masked_labels\n",
    "    )\n",
    "    # retrieve the average log probability of the tokens in the answer\n",
    "    log_p = preds.loss.item()\n",
    "    answer_log_probs.append(-log_p)\n",
    "    print(\"Answer \", a, \"Average log P \", log_p)"
   ]
  },
  {
   "cell_type": "code",
   "execution_count": null,
   "metadata": {},
   "outputs": [],
   "source": [
    "# 4. retrieve the answer option with the highest score\n",
    "# find max probability\n",
    "print(\"All answers \", answers)\n",
    "print(\"Answer probabilities \", answer_log_probs)\n",
    "max_prob_idx = np.argmax(answer_log_probs)\n",
    "print(\"Selected answer \", answers[max_prob_idx], \"with log P \", answer_log_probs[max_prob_idx])"
   ]
  },
  {
   "cell_type": "markdown",
   "metadata": {},
   "source": [
    "> <strong><span style=&ldquo;color:#D83D2B;&rdquo;>Exercise 3.3.3: Prompting techniques</span></strong>\n",
    ">\n",
    "> For the following exercises, use the same model as used above.\n",
    "> 1. Using the code for the generated knowledge approach, score the different answers to the question *without* any additional knowledge. Compare your results to the result of generated knowledge prompting. Did it improve the performance of the model?   \n",
    "> 2. Implement an example of a few-shot chain-of-thought prompt.\n",
    "> 3. Try to vary the few-shot and the chain-of-thought prompt by introducing mistakes and inconsistencies. Do these mistakes affect the result of your prediction? Feel free to use any example queries of your choice or reuse the examples above."
   ]
  },
  {
   "cell_type": "markdown",
   "metadata": {
    "id": "yoQGQX_8W5Fa"
   },
   "source": [
    "### Exercise 3.3.3.1."
   ]
  },
  {
   "cell_type": "code",
   "execution_count": null,
   "metadata": {
    "id": "gbwfNfV5V1Vp",
    "tags": [
     "hide-cell"
    ]
   },
   "outputs": [],
   "source": [
    "from transformers import AutoModelForCausalLM, AutoTokenizer\n",
    "import torch\n",
    "import pandas as pd\n",
    "import numpy as np"
   ]
  },
  {
   "cell_type": "code",
   "execution_count": 10,
   "metadata": {
    "colab": {
     "base_uri": "https://localhost:8080/",
     "height": 0,
     "tags": [
      "hide-cell"
     ]
    },
    "id": "1SQyR0PLV84L",
    "outputId": "7fe694a5-aa02-44b1-8704-906f130e8215"
   },
   "outputs": [
    {
     "name": "stderr",
     "output_type": "stream",
     "text": [
      "Special tokens have been added in the vocabulary, make sure the associated word embeddings are fine-tuned or trained.\n"
     ]
    }
   ],
   "source": [
    "tokenizer = AutoTokenizer.from_pretrained(\"EleutherAI/Pythia-1.4b\")\n",
    "model = AutoModelForCausalLM.from_pretrained(\n",
    "    \"EleutherAI/Pythia-1.4b\",\n",
    "    # trust_remote_code=True,\n",
    "    torch_dtype=torch.float16,\n",
    ").to(device)"
   ]
  },
  {
   "cell_type": "code",
   "execution_count": 11,
   "metadata": {
    "id": "abH3MCRsV_Wp",
    "tags": [
     "hide-cell"
    ]
   },
   "outputs": [],
   "source": [
    "question = \"Where would you expect to find a pizzeria while shopping?\"\n",
    "answers = [\"chicago\", \"street\", \"little italy\", \"food court\", \"capital cities\"]"
   ]
  },
  {
   "cell_type": "code",
   "execution_count": 12,
   "metadata": {
    "colab": {
     "base_uri": "https://localhost:8080/",
     "height": 0,
     "tags": [
      "hide-cell"
     ]
    },
    "id": "VvBb4KvMWM20",
    "outputId": "b5ca828f-cef8-42fa-d0e5-61c2cc7a296e"
   },
   "outputs": [
    {
     "name": "stderr",
     "output_type": "stream",
     "text": [
      "The attention mask and the pad token id were not set. As a consequence, you may observe unexpected behavior. Please pass your input's `attention_mask` to obtain reliable results.\n",
      "Setting `pad_token_id` to `eos_token_id`:0 for open-end generation.\n"
     ]
    },
    {
     "name": "stdout",
     "output_type": "stream",
     "text": [
      "Where would you expect to find a pizzeria while shopping? We know that \n",
      "a good Italian pizzeria is one of the best places to eat\n",
      "Generated knowledge  \n",
      "a good Italian pizzeria is one of the best places to eat\n"
     ]
    }
   ],
   "source": [
    "# 2. generate knowledge statements\n",
    "# tokenize few shot prompt together with our actual question\n",
    "prompt_input_ids = tokenizer(\n",
    "    question + \" We know that \",\n",
    "    return_tensors=\"pt\"\n",
    ").input_ids.to(device)\n",
    "\n",
    "knowledge_statements = model.generate(\n",
    "    prompt_input_ids,\n",
    "    max_new_tokens=15,\n",
    "    do_sample=True,\n",
    "    temperature=0.5\n",
    ")\n",
    "# access the knowledge statements (i.e., only text that comes after prompt)\n",
    "knowledge = tokenizer.decode(\n",
    "    knowledge_statements[0, prompt_input_ids.shape[-1]:],\n",
    "    skip_special_tokens=True\n",
    ")\n",
    "print(tokenizer.decode(knowledge_statements[0]))\n",
    "print(\"Generated knowledge \", knowledge)"
   ]
  },
  {
   "cell_type": "code",
   "execution_count": 13,
   "metadata": {
    "colab": {
     "base_uri": "https://localhost:8080/",
     "height": 0,
     "tags": [
      "hide-cell"
     ]
    },
    "id": "S45fiaAwWZnx",
    "outputId": "ba952434-e6b7-43fd-f0d0-92367f734bcd"
   },
   "outputs": [
    {
     "name": "stdout",
     "output_type": "stream",
     "text": [
      "Mask  tensor([[-100, -100, -100, -100, -100, -100, -100, -100, -100, -100, -100, -100,\n",
      "         -100, -100, -100, -100, -100, -100, -100, -100, -100, -100, -100, -100,\n",
      "         -100, -100, -100, -100,  448, 7298]], device='cuda:0')\n",
      "Answer  chicago Average log P  6.203125\n",
      "Mask  tensor([[-100, -100, -100, -100, -100, -100, -100, -100, -100, -100, -100, -100,\n",
      "         -100, -100, -100, -100, -100, -100, -100, -100, -100, -100, -100, -100,\n",
      "         -100, -100, -100, -100, 6406]], device='cuda:0')\n",
      "Answer  street Average log P  10.5625\n",
      "Mask  tensor([[-100, -100, -100, -100, -100, -100, -100, -100, -100, -100, -100, -100,\n",
      "         -100, -100, -100, -100, -100, -100, -100, -100, -100, -100, -100, -100,\n",
      "         -100, -100, -100, -100, 1652,  352, 5242]], device='cuda:0')\n",
      "Answer  little italy Average log P  6.84765625\n",
      "Mask  tensor([[-100, -100, -100, -100, -100, -100, -100, -100, -100, -100, -100, -100,\n",
      "         -100, -100, -100, -100, -100, -100, -100, -100, -100, -100, -100, -100,\n",
      "         -100, -100, -100, -100, 2739, 1302]], device='cuda:0')\n",
      "Answer  food court Average log P  6.85546875\n",
      "Mask  tensor([[-100, -100, -100, -100, -100, -100, -100, -100, -100, -100, -100, -100,\n",
      "         -100, -100, -100, -100, -100, -100, -100, -100, -100, -100, -100, -100,\n",
      "         -100, -100, -100, -100, 5347, 8238]], device='cuda:0')\n",
      "Answer  capital cities Average log P  8.84375\n"
     ]
    }
   ],
   "source": [
    "# 3. Score each answer to the question based on the knowledge statements\n",
    "# as the score, we take the average log probability of the tokens in the answer\n",
    "\n",
    "answer_log_probs = []\n",
    "# iterate over the answer options\n",
    "# NOTE: This can take a moment\n",
    "for a in answers:\n",
    "    # construct the full prompt\n",
    "    prompt = f\"{knowledge} {question} {a}\"\n",
    "    # construct the prompt without the answer to create a mask which will\n",
    "    # allow to retrieve the token probabilities for tokens in the answer only\n",
    "    context_prompt = f\"{knowledge} {question}\"\n",
    "    # tokenize the prompt\n",
    "    input_ids = tokenizer(prompt,\n",
    "                          return_tensors=\"pt\").input_ids.to(device)\n",
    "    # tokenize the context prompt\n",
    "    context_input_ids = tokenizer(context_prompt,\n",
    "                                  return_tensors=\"pt\").input_ids\n",
    "    # create a mask with -100 for all tokens in the context prompt\n",
    "    # the -100 indicates that the token should be ignored in the loss computation\n",
    "    masked_labels = torch.ones_like(input_ids) * -100\n",
    "    masked_labels[:, context_input_ids.shape[-1]:] = input_ids[:, context_input_ids.shape[-1]:]\n",
    "    print(\"Mask \", masked_labels)\n",
    "    # generate the answer\n",
    "    preds = model(\n",
    "        input_ids,\n",
    "        labels=masked_labels\n",
    "    )\n",
    "    # retrieve the average log probability of the tokens in the answer\n",
    "    log_p = preds.loss.item()\n",
    "    answer_log_probs.append(-log_p)\n",
    "    print(\"Answer \", a, \"Average log P \", log_p)"
   ]
  },
  {
   "cell_type": "code",
   "execution_count": 14,
   "metadata": {
    "colab": {
     "base_uri": "https://localhost:8080/",
     "height": 0,
     "tags": [
      "hide-cell"
     ]
    },
    "id": "-isyrVfSWeTJ",
    "outputId": "3b5c2b64-f0bb-4a03-9b65-1cc51c5d77bb"
   },
   "outputs": [
    {
     "name": "stdout",
     "output_type": "stream",
     "text": [
      "All answers  ['chicago', 'street', 'little italy', 'food court', 'capital cities']\n",
      "Answer probabilities  [-6.203125, -10.5625, -6.84765625, -6.85546875, -8.84375]\n",
      "Selected answer  chicago with log P  -6.203125\n"
     ]
    }
   ],
   "source": [
    "# 4. retrieve the answer option with the highest score\n",
    "# find max probability\n",
    "print(\"All answers \", answers)\n",
    "print(\"Answer probabilities \", answer_log_probs)\n",
    "max_prob_idx = np.argmax(answer_log_probs)\n",
    "print(\"Selected answer \", answers[max_prob_idx], \"with log P \", answer_log_probs[max_prob_idx])"
   ]
  },
  {
   "cell_type": "markdown",
   "metadata": {
    "id": "yoQGQX_8W5Fa"
   },
   "source": [
    "### Exercise 3.3.3.2."
   ]
  },
  {
   "cell_type": "code",
   "execution_count": 15,
   "metadata": {
    "id": "ajXk9AiHW7kQ",
    "tags": [
     "hide-cell"
    ]
   },
   "outputs": [],
   "source": [
    "from transformers import AutoModelForCausalLM, AutoTokenizer\n",
    "import torch\n",
    "import pandas as pd\n",
    "import numpy as np"
   ]
  },
  {
   "cell_type": "code",
   "execution_count": 16,
   "metadata": {
    "colab": {
     "base_uri": "https://localhost:8080/",
     "height": 0,
     "tags": [
      "hide-cell"
     ]
    },
    "id": "yVNxv5QgXaUp",
    "outputId": "fa073f23-7dd5-40ee-ddc3-336addc90f48"
   },
   "outputs": [
    {
     "name": "stderr",
     "output_type": "stream",
     "text": [
      "Special tokens have been added in the vocabulary, make sure the associated word embeddings are fine-tuned or trained.\n"
     ]
    }
   ],
   "source": [
    "tokenizer = AutoTokenizer.from_pretrained(\"EleutherAI/Pythia-1.4b\")\n",
    "model = AutoModelForCausalLM.from_pretrained(\n",
    "    \"EleutherAI/Pythia-1.4b\",\n",
    "    # trust_remote_code=True,\n",
    "    torch_dtype=torch.float16,\n",
    ").to(device)"
   ]
  },
  {
   "cell_type": "code",
   "execution_count": 20,
   "metadata": {
    "colab": {
     "base_uri": "https://localhost:8080/",
     "height": 0,
     "tags": [
      "hide-cell"
     ]
    },
    "id": "T0zXcxHOXiSp",
    "outputId": "ce9db15b-b87d-4161-d095-81d5645488b3"
   },
   "outputs": [
    {
     "name": "stdout",
     "output_type": "stream",
     "text": [
      "Constructed few shot prompt\n",
      " Q: How many wings do penguins have? A: We know that a: birds have two wings. penguin is a kind of bird. therefore, a penguin has two wings.\n",
      "Q: What is the number of limbs a typical human being has? A: We know that a: human beings have four limbs. therefore, four is the correct answer.\n"
     ]
    }
   ],
   "source": [
    "# 1. construct few-shot example\n",
    "\n",
    "question = \"Where would you expect to find a pizzeria while shopping?\"\n",
    "answers = [\"chicago\", \"street\", \"little italy\", \"food court\", \"capital cities\"]\n",
    "\n",
    "examples_df = pd.read_csv(\"knowledge_examples_chain.csv\", sep = \"|\")\n",
    "\n",
    "few_shot_template = \"\"\"{q} A: We know that {k}\"\"\"\n",
    "\n",
    "few_shot_prompt = \"\\n\".join([\n",
    "    few_shot_template.format(\n",
    "        q=examples_df.loc[i, \"input\"],\n",
    "        k=examples_df.loc[i, \"knowledge\"].lower()\n",
    "    )\n",
    "    for i in range(len(examples_df))\n",
    "])\n",
    "print(\"Constructed few shot prompt\\n\", few_shot_prompt)"
   ]
  },
  {
   "cell_type": "code",
   "execution_count": 21,
   "metadata": {
    "colab": {
     "base_uri": "https://localhost:8080/",
     "height": 0,
     "tags": [
      "hide-cell"
     ]
    },
    "id": "C1w4sy6jYSu4",
    "outputId": "9b377a17-29f9-4931-c58f-6cf6f2b587a4"
   },
   "outputs": [
    {
     "name": "stderr",
     "output_type": "stream",
     "text": [
      "The attention mask and the pad token id were not set. As a consequence, you may observe unexpected behavior. Please pass your input's `attention_mask` to obtain reliable results.\n",
      "Setting `pad_token_id` to `eos_token_id`:0 for open-end generation.\n"
     ]
    },
    {
     "name": "stdout",
     "output_type": "stream",
     "text": [
      "Q: How many wings do penguins have? A: We know that a: birds have two wings. penguin is a kind of bird. therefore, a penguin has two wings.\n",
      "Q: What is the number of limbs a typical human being has? A: We know that a: human beings have four limbs. therefore, four is the correct answer.\n",
      "Where would you expect to find a pizzeria while shopping? We know that \n",
      "a pizzeria is a place where pizza is sold.\n",
      "So\n",
      "Generated knowledge  \n",
      "a pizzeria is a place where pizza is sold.\n",
      "So\n"
     ]
    }
   ],
   "source": [
    "# 2. generate knowledge statements\n",
    "# tokenize few shot prompt together with our actual question\n",
    "prompt_input_ids = tokenizer(\n",
    "    few_shot_prompt + \"\\n\" + question + \" We know that \",\n",
    "    return_tensors=\"pt\"\n",
    ").input_ids.to(device)\n",
    "\n",
    "knowledge_statements = model.generate(\n",
    "    prompt_input_ids,\n",
    "    max_new_tokens=15,\n",
    "    do_sample=True,\n",
    "    temperature=0.5\n",
    ")\n",
    "# access the knowledge statements (i.e., only text that comes after prompt)\n",
    "knowledge = tokenizer.decode(\n",
    "    knowledge_statements[0, prompt_input_ids.shape[-1]:],\n",
    "    skip_special_tokens=True\n",
    ")\n",
    "print(tokenizer.decode(knowledge_statements[0]))\n",
    "print(\"Generated knowledge \", knowledge)"
   ]
  },
  {
   "cell_type": "code",
   "execution_count": 22,
   "metadata": {
    "colab": {
     "base_uri": "https://localhost:8080/",
     "height": 0,
     "tags": [
      "hide-cell"
     ]
    },
    "id": "jaszeypmYWTy",
    "outputId": "2ae8b563-aa92-4f07-e715-cb21d46487a6"
   },
   "outputs": [
    {
     "name": "stdout",
     "output_type": "stream",
     "text": [
      "Mask  tensor([[-100, -100, -100, -100, -100, -100, -100, -100, -100, -100, -100, -100,\n",
      "         -100, -100, -100, -100, -100, -100, -100, -100, -100, -100, -100, -100,\n",
      "         -100, -100, -100, -100,  448, 7298]], device='cuda:0')\n",
      "Answer  chicago Average log P  7.39453125\n",
      "Mask  tensor([[-100, -100, -100, -100, -100, -100, -100, -100, -100, -100, -100, -100,\n",
      "         -100, -100, -100, -100, -100, -100, -100, -100, -100, -100, -100, -100,\n",
      "         -100, -100, -100, -100, 6406]], device='cuda:0')\n",
      "Answer  street Average log P  13.3515625\n",
      "Mask  tensor([[-100, -100, -100, -100, -100, -100, -100, -100, -100, -100, -100, -100,\n",
      "         -100, -100, -100, -100, -100, -100, -100, -100, -100, -100, -100, -100,\n",
      "         -100, -100, -100, -100, 1652,  352, 5242]], device='cuda:0')\n",
      "Answer  little italy Average log P  8.625\n",
      "Mask  tensor([[-100, -100, -100, -100, -100, -100, -100, -100, -100, -100, -100, -100,\n",
      "         -100, -100, -100, -100, -100, -100, -100, -100, -100, -100, -100, -100,\n",
      "         -100, -100, -100, -100, 2739, 1302]], device='cuda:0')\n",
      "Answer  food court Average log P  8.1796875\n",
      "Mask  tensor([[-100, -100, -100, -100, -100, -100, -100, -100, -100, -100, -100, -100,\n",
      "         -100, -100, -100, -100, -100, -100, -100, -100, -100, -100, -100, -100,\n",
      "         -100, -100, -100, -100, 5347, 8238]], device='cuda:0')\n",
      "Answer  capital cities Average log P  10.453125\n"
     ]
    }
   ],
   "source": [
    "# 3. Score each answer to the question based on the knowledge statements\n",
    "# as the score, we take the average log probability of the tokens in the answer\n",
    "\n",
    "answer_log_probs = []\n",
    "# iterate over the answer options\n",
    "# NOTE: This can take a moment\n",
    "for a in answers:\n",
    "    # construct the full prompt\n",
    "    prompt = f\"{knowledge} {question} {a}\"\n",
    "    # construct the prompt without the answer to create a mask which will\n",
    "    # allow to retrieve the token probabilities for tokens in the answer only\n",
    "    context_prompt = f\"{knowledge} {question}\"\n",
    "    # tokenize the prompt\n",
    "    input_ids = tokenizer(prompt,\n",
    "                          return_tensors=\"pt\").input_ids.to(device)\n",
    "    # tokenize the context prompt\n",
    "    context_input_ids = tokenizer(context_prompt,\n",
    "                                  return_tensors=\"pt\").input_ids\n",
    "    # create a mask with -100 for all tokens in the context prompt\n",
    "    # the -100 indicates that the token should be ignored in the loss computation\n",
    "    masked_labels = torch.ones_like(input_ids) * -100\n",
    "    masked_labels[:, context_input_ids.shape[-1]:] = input_ids[:, context_input_ids.shape[-1]:]\n",
    "    print(\"Mask \", masked_labels)\n",
    "    # generate the answer\n",
    "    preds = model(\n",
    "        input_ids,\n",
    "        labels=masked_labels\n",
    "    )\n",
    "    # retrieve the average log probability of the tokens in the answer\n",
    "    log_p = preds.loss.item()\n",
    "    answer_log_probs.append(-log_p)\n",
    "    print(\"Answer \", a, \"Average log P \", log_p)"
   ]
  },
  {
   "cell_type": "code",
   "execution_count": 23,
   "metadata": {
    "colab": {
     "base_uri": "https://localhost:8080/",
     "height": 0,
     "tags": [
      "hide-cell"
     ]
    },
    "id": "2CagPMijYZ9C",
    "outputId": "f328218e-6153-4a11-84dc-2f3cb6af8c56"
   },
   "outputs": [
    {
     "name": "stdout",
     "output_type": "stream",
     "text": [
      "All answers  ['chicago', 'street', 'little italy', 'food court', 'capital cities']\n",
      "Answer probabilities  [-7.39453125, -13.3515625, -8.625, -8.1796875, -10.453125]\n",
      "Selected answer  chicago with log P  -7.39453125\n"
     ]
    }
   ],
   "source": [
    "# 4. retrieve the answer option with the highest score\n",
    "# find max probability\n",
    "print(\"All answers \", answers)\n",
    "print(\"Answer probabilities \", answer_log_probs)\n",
    "max_prob_idx = np.argmax(answer_log_probs)\n",
    "print(\"Selected answer \", answers[max_prob_idx], \"with log P \", answer_log_probs[max_prob_idx])"
   ]
  },
  {
   "cell_type": "markdown",
   "metadata": {
    "id": "SCtoSEDEa0kA",
    "tags": [
     "hide-cell"
    ]
   },
   "source": [
    "### Exercise 3.3.3.3"
   ]
  },
  {
   "cell_type": "code",
   "execution_count": 24,
   "metadata": {
    "id": "IOAZX9yCa8Q9"
   },
   "outputs": [],
   "source": [
    "from transformers import AutoModelForCausalLM, AutoTokenizer\n",
    "import torch\n",
    "import pandas as pd\n",
    "import numpy as np"
   ]
  },
  {
   "cell_type": "code",
   "execution_count": 25,
   "metadata": {
    "colab": {
     "base_uri": "https://localhost:8080/",
     "height": 0,
     "tags": [
      "hide-cell"
     ]
    },
    "id": "CIzjnr7ra8RC",
    "outputId": "5cb6dd74-64cf-4587-b56b-49847b2c7b7d"
   },
   "outputs": [
    {
     "name": "stderr",
     "output_type": "stream",
     "text": [
      "Special tokens have been added in the vocabulary, make sure the associated word embeddings are fine-tuned or trained.\n"
     ]
    }
   ],
   "source": [
    "tokenizer = AutoTokenizer.from_pretrained(\"EleutherAI/Pythia-1.4b\")\n",
    "model = AutoModelForCausalLM.from_pretrained(\n",
    "    \"EleutherAI/Pythia-1.4b\",\n",
    "    # trust_remote_code=True,\n",
    "    torch_dtype=torch.float16,\n",
    ").to(device)"
   ]
  },
  {
   "cell_type": "code",
   "execution_count": 26,
   "metadata": {
    "colab": {
     "base_uri": "https://localhost:8080/",
     "height": 0,
     "tags": [
      "hide-cell"
     ]
    },
    "id": "A1Ox6dcna8RC",
    "outputId": "85694872-50cd-41a8-913b-9060760ee81b"
   },
   "outputs": [
    {
     "name": "stdout",
     "output_type": "stream",
     "text": [
      "Constructed few shot prompt\n",
      " Q: How many wings do penguins have? A: We know that a: birds have two wings. penguin is a kind of bird. therefore, a penguin has two legs.\n",
      "Q: What is the number of limbs a typical human being has? A: We know that a: human beings have four limbs. therefore, 1000  is the correct answer.\n"
     ]
    }
   ],
   "source": [
    "# 1. construct few-shot example\n",
    "\n",
    "question = \"Where would you expect to find a pizzeria while shopping?\"\n",
    "answers = [\"chicago\", \"street\", \"little italy\", \"food court\", \"capital cities\"]\n",
    "\n",
    "examples_df = pd.read_csv(\"knowledge_examples_chain_incorrect.csv\", sep = \"|\")\n",
    "\n",
    "few_shot_template = \"\"\"{q} A: We know that {k}\"\"\"\n",
    "\n",
    "few_shot_prompt = \"\\n\".join([\n",
    "    few_shot_template.format(\n",
    "        q=examples_df.loc[i, \"input\"],\n",
    "        k=examples_df.loc[i, \"knowledge\"].lower()\n",
    "    )\n",
    "    for i in range(len(examples_df))\n",
    "])\n",
    "print(\"Constructed few shot prompt\\n\", few_shot_prompt)"
   ]
  },
  {
   "cell_type": "code",
   "execution_count": 27,
   "metadata": {
    "colab": {
     "base_uri": "https://localhost:8080/",
     "height": 0,
     "tags": [
      "hide-cell"
     ]
    },
    "id": "7m9OrEA8a8RD",
    "outputId": "c719e111-499a-4d6c-eed6-617975e01c29"
   },
   "outputs": [
    {
     "name": "stderr",
     "output_type": "stream",
     "text": [
      "The attention mask and the pad token id were not set. As a consequence, you may observe unexpected behavior. Please pass your input's `attention_mask` to obtain reliable results.\n",
      "Setting `pad_token_id` to `eos_token_id`:0 for open-end generation.\n"
     ]
    },
    {
     "name": "stdout",
     "output_type": "stream",
     "text": [
      "Q: How many wings do penguins have? A: We know that a: birds have two wings. penguin is a kind of bird. therefore, a penguin has two legs.\n",
      "Q: What is the number of limbs a typical human being has? A: We know that a: human beings have four limbs. therefore, 1000  is the correct answer.\n",
      "Where would you expect to find a pizzeria while shopping? We know that \n",
      "A: We know that a: pizzeria is a kind of\n",
      "Generated knowledge  \n",
      "A: We know that a: pizzeria is a kind of\n"
     ]
    }
   ],
   "source": [
    "# 2. generate knowledge statements\n",
    "# tokenize few shot prompt together with our actual question\n",
    "prompt_input_ids = tokenizer(\n",
    "    few_shot_prompt + \"\\n\" + question + \" We know that \",\n",
    "    return_tensors=\"pt\"\n",
    ").input_ids.to(device)\n",
    "\n",
    "knowledge_statements = model.generate(\n",
    "    prompt_input_ids,\n",
    "    max_new_tokens=15,\n",
    "    do_sample=True,\n",
    "    temperature=0.5\n",
    ")\n",
    "# access the knowledge statements (i.e., only text that comes after prompt)\n",
    "knowledge = tokenizer.decode(\n",
    "    knowledge_statements[0, prompt_input_ids.shape[-1]:],\n",
    "    skip_special_tokens=True\n",
    ")\n",
    "print(tokenizer.decode(knowledge_statements[0]))\n",
    "print(\"Generated knowledge \", knowledge)"
   ]
  },
  {
   "cell_type": "code",
   "execution_count": 28,
   "metadata": {
    "colab": {
     "base_uri": "https://localhost:8080/",
     "height": 0,
     "tags": [
      "hide-cell"
     ]
    },
    "id": "j5Aje3mva8RE",
    "outputId": "a10fc833-9c5c-4b2b-c51a-29a185f4946b"
   },
   "outputs": [
    {
     "name": "stdout",
     "output_type": "stream",
     "text": [
      "Mask  tensor([[-100, -100, -100, -100, -100, -100, -100, -100, -100, -100, -100, -100,\n",
      "         -100, -100, -100, -100, -100, -100, -100, -100, -100, -100, -100, -100,\n",
      "         -100, -100, -100, -100,  448, 7298]], device='cuda:0')\n",
      "Answer  chicago Average log P  5.01171875\n",
      "Mask  tensor([[-100, -100, -100, -100, -100, -100, -100, -100, -100, -100, -100, -100,\n",
      "         -100, -100, -100, -100, -100, -100, -100, -100, -100, -100, -100, -100,\n",
      "         -100, -100, -100, -100, 6406]], device='cuda:0')\n",
      "Answer  street Average log P  8.859375\n",
      "Mask  tensor([[-100, -100, -100, -100, -100, -100, -100, -100, -100, -100, -100, -100,\n",
      "         -100, -100, -100, -100, -100, -100, -100, -100, -100, -100, -100, -100,\n",
      "         -100, -100, -100, -100, 1652,  352, 5242]], device='cuda:0')\n",
      "Answer  little italy Average log P  7.06640625\n",
      "Mask  tensor([[-100, -100, -100, -100, -100, -100, -100, -100, -100, -100, -100, -100,\n",
      "         -100, -100, -100, -100, -100, -100, -100, -100, -100, -100, -100, -100,\n",
      "         -100, -100, -100, -100, 2739, 1302]], device='cuda:0')\n",
      "Answer  food court Average log P  5.7734375\n",
      "Mask  tensor([[-100, -100, -100, -100, -100, -100, -100, -100, -100, -100, -100, -100,\n",
      "         -100, -100, -100, -100, -100, -100, -100, -100, -100, -100, -100, -100,\n",
      "         -100, -100, -100, -100, 5347, 8238]], device='cuda:0')\n",
      "Answer  capital cities Average log P  6.984375\n"
     ]
    }
   ],
   "source": [
    "# 3. Score each answer to the question based on the knowledge statements\n",
    "# as the score, we take the average log probability of the tokens in the answer\n",
    "\n",
    "answer_log_probs = []\n",
    "# iterate over the answer options\n",
    "# NOTE: This can take a moment\n",
    "for a in answers:\n",
    "    # construct the full prompt\n",
    "    prompt = f\"{knowledge} {question} {a}\"\n",
    "    # construct the prompt without the answer to create a mask which will\n",
    "    # allow to retrieve the token probabilities for tokens in the answer only\n",
    "    context_prompt = f\"{knowledge} {question}\"\n",
    "    # tokenize the prompt\n",
    "    input_ids = tokenizer(prompt,\n",
    "                          return_tensors=\"pt\").input_ids.to(device)\n",
    "    # tokenize the context prompt\n",
    "    context_input_ids = tokenizer(context_prompt,\n",
    "                                  return_tensors=\"pt\").input_ids\n",
    "    # create a mask with -100 for all tokens in the context prompt\n",
    "    # the -100 indicates that the token should be ignored in the loss computation\n",
    "    masked_labels = torch.ones_like(input_ids) * -100\n",
    "    masked_labels[:, context_input_ids.shape[-1]:] = input_ids[:, context_input_ids.shape[-1]:]\n",
    "    print(\"Mask \", masked_labels)\n",
    "    # generate the answer\n",
    "    preds = model(\n",
    "        input_ids,\n",
    "        labels=masked_labels\n",
    "    )\n",
    "    # retrieve the average log probability of the tokens in the answer\n",
    "    log_p = preds.loss.item()\n",
    "    answer_log_probs.append(-log_p)\n",
    "    print(\"Answer \", a, \"Average log P \", log_p)"
   ]
  },
  {
   "cell_type": "code",
   "execution_count": 29,
   "metadata": {
    "colab": {
     "base_uri": "https://localhost:8080/",
     "height": 0,
     "tags": [
      "hide-cell"
     ]
    },
    "id": "0qJAveITa8RI",
    "outputId": "7414bfa4-4e91-4e48-a107-2caa561fc454"
   },
   "outputs": [
    {
     "name": "stdout",
     "output_type": "stream",
     "text": [
      "All answers  ['chicago', 'street', 'little italy', 'food court', 'capital cities']\n",
      "Answer probabilities  [-5.01171875, -8.859375, -7.06640625, -5.7734375, -6.984375]\n",
      "Selected answer  chicago with log P  -5.01171875\n"
     ]
    }
   ],
   "source": [
    "# 4. retrieve the answer option with the highest score\n",
    "# find max probability\n",
    "print(\"All answers \", answers)\n",
    "print(\"Answer probabilities \", answer_log_probs)\n",
    "max_prob_idx = np.argmax(answer_log_probs)\n",
    "print(\"Selected answer \", answers[max_prob_idx], \"with log P \", answer_log_probs[max_prob_idx])"
   ]
  },
  {
   "cell_type": "markdown",
   "metadata": {},
   "source": [
    "**Outlook**\n",
    "\n",
    "As always, here are a few optional resources on this topic to llok at (although there is definitely much more online):\n",
    "\n",
    "* a [prompting webbook](https://www.promptingguide.ai/) providing an overview of various approaches\n",
    "* a framework / package, LangChain, which provides very useful utilities for more complex schemes like [tree of thought prompting](https://github.com/langchain-ai/langchain/blob/master/cookbook/tree_of_thought.ipynb) (spoiler: we will look closer at this package in future sessions, but you can already take a look if you are curious!)"
   ]
  },
  {
   "cell_type": "markdown",
   "metadata": {},
   "source": []
  }
 ],
 "metadata": {
  "kernelspec": {
   "display_name": "understanding_llms",
   "language": "python",
   "name": "python3"
  },
  "language_info": {
   "codemirror_mode": {
    "name": "ipython",
    "version": 3
   },
   "file_extension": ".py",
   "mimetype": "text/x-python",
   "name": "python",
   "nbconvert_exporter": "python",
   "pygments_lexer": "ipython3",
   "version": "3.1.undefined"
  }
 },
 "nbformat": 4,
 "nbformat_minor": 2
}
